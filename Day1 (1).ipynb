{
 "cells": [
  {
   "cell_type": "markdown",
   "id": "e959ce69",
   "metadata": {},
   "source": [
    "## Basic"
   ]
  },
  {
   "cell_type": "code",
   "execution_count": 211,
   "id": "43f50c3a",
   "metadata": {},
   "outputs": [],
   "source": [
    "## Adding Comment :\n",
    "# - Comments can be used to explain Python code.\n",
    "#- To add single line comment we can use  ' # ' \n",
    "\n",
    "# This is single line commeent.\n",
    "\n",
    "# - To add multiple line comment we can use Triple (single(') or double(\")) quotes.\n",
    "# 1) "
   ]
  },
  {
   "cell_type": "code",
   "execution_count": 212,
   "id": "2c46a310",
   "metadata": {},
   "outputs": [
    {
     "data": {
      "text/plain": [
       "'\\nMultiple\\nline\\ncomment\\n'"
      ]
     },
     "execution_count": 212,
     "metadata": {},
     "output_type": "execute_result"
    }
   ],
   "source": [
    "'''\n",
    "Multiple\n",
    "line\n",
    "comment\n",
    "'''"
   ]
  },
  {
   "cell_type": "code",
   "execution_count": 213,
   "id": "c2fa1d65",
   "metadata": {},
   "outputs": [
    {
     "data": {
      "text/plain": [
       "'\\nMultiple\\nline\\ncomment\\n'"
      ]
     },
     "execution_count": 213,
     "metadata": {},
     "output_type": "execute_result"
    }
   ],
   "source": [
    "# 2) \n",
    "\"\"\"\n",
    "Multiple\n",
    "line\n",
    "comment\n",
    "\"\"\"\n",
    "   "
   ]
  },
  {
   "cell_type": "code",
   "execution_count": 214,
   "id": "4172e1e5",
   "metadata": {},
   "outputs": [
    {
     "name": "stdout",
     "output_type": "stream",
     "text": [
      "Hello World!\n",
      "Welcome\n"
     ]
    }
   ],
   "source": [
    "## Print function :\n",
    "# Python was designed for readability, and has some similarities to the English language with influence from mathematics.\n",
    "print(\"Hello World!\")\n",
    "print(\"Welcome\")"
   ]
  },
  {
   "cell_type": "code",
   "execution_count": null,
   "id": "8e9b50e6",
   "metadata": {},
   "outputs": [],
   "source": []
  },
  {
   "cell_type": "markdown",
   "id": "e0779784",
   "metadata": {},
   "source": [
    "## Variable assignment : \n",
    "\n",
    "    Variable is used to store value and we use '=' i.e. assignment operator to assign value to it. \n"
   ]
  },
  {
   "cell_type": "code",
   "execution_count": 215,
   "id": "d946b85b",
   "metadata": {},
   "outputs": [
    {
     "name": "stdout",
     "output_type": "stream",
     "text": [
      "5\n"
     ]
    }
   ],
   "source": [
    "a = 5\n",
    "print(a)\n"
   ]
  },
  {
   "cell_type": "code",
   "execution_count": 216,
   "id": "cfeb8287",
   "metadata": {},
   "outputs": [
    {
     "data": {
      "text/plain": [
       "5"
      ]
     },
     "execution_count": 216,
     "metadata": {},
     "output_type": "execute_result"
    }
   ],
   "source": [
    "a=5\n",
    "a"
   ]
  },
  {
   "cell_type": "code",
   "execution_count": 217,
   "id": "04ee0ff6",
   "metadata": {},
   "outputs": [
    {
     "name": "stdout",
     "output_type": "stream",
     "text": [
      "Python\n"
     ]
    }
   ],
   "source": [
    "b = \"Python\"\n",
    "print(b)\n"
   ]
  },
  {
   "cell_type": "raw",
   "id": "d86af1b2",
   "metadata": {},
   "source": [
    "'''\n",
    " We have to take care of following things while writing identifiers\n",
    "    1. It can be of any length . \n",
    "    2. It can be combination of lower cases (a-z) , upper cases (A-Z) and digits (0-9).\n",
    "    3. It can't be start with digit.\n",
    "    4. It can't be include special symbols like { !, @, #, $ , % }, etc\n",
    "    5. We can use '_' i.e underscore in identifire for attaching two strings or one string and one number.\n",
    "    6. We can't give space between letters, words or between letter and digit.\n",
    "    7. We can't use python keywords as a python identifier\n",
    "\n",
    "Python keywords :\n",
    "\n",
    "    Keywords are the reserved words in Python.\n",
    "    We cannot use a keyword as a variable name, function name or any other identifier. They are used to define the\n",
    "    syntax and structure of the Python language.\n",
    "    In Python, keywords are case sensitive.\n",
    "    All the keywords except True, False and None are in lowercase and they must be written as they are.\n",
    "\n",
    "    eg. in , and , or , if , else , elif , def , while , break , True , False , etc .**\n",
    "\n",
    "Python identifiers\n",
    "        An identifier is a name given to entities like class, functions, variables, etc. It helps to differentiate one entity\n",
    "        from another.\n",
    "Examples \n",
    "    We can write identifier of any length like \n",
    "    - myname\n",
    "    - mynameis\n",
    "'''"
   ]
  },
  {
   "cell_type": "code",
   "execution_count": 218,
   "id": "a97632c7",
   "metadata": {},
   "outputs": [
    {
     "name": "stdout",
     "output_type": "stream",
     "text": [
      "Chinmay\n"
     ]
    }
   ],
   "source": [
    "myname = \"Chinmay\"\n",
    "print(myname)"
   ]
  },
  {
   "cell_type": "code",
   "execution_count": 219,
   "id": "0d89bcd1",
   "metadata": {},
   "outputs": [
    {
     "name": "stdout",
     "output_type": "stream",
     "text": [
      "Chinmay D\n"
     ]
    }
   ],
   "source": [
    "mynameis = \"Chinmay D\"\n",
    "print(mynameis)"
   ]
  },
  {
   "cell_type": "code",
   "execution_count": 220,
   "id": "c25565f7",
   "metadata": {},
   "outputs": [
    {
     "name": "stdout",
     "output_type": "stream",
     "text": [
      "Ganesh\n",
      "pune\n"
     ]
    }
   ],
   "source": [
    "# Identifiers using underscore  \n",
    "# - my_name \n",
    "# - my_city\n",
    "\n",
    "my_name = \"Ganesh\"\n",
    "print(my_name)\n",
    "\n",
    "my_city = \"pune\"\n",
    "print(my_city)"
   ]
  },
  {
   "cell_type": "code",
   "execution_count": 221,
   "id": "c163049f",
   "metadata": {},
   "outputs": [
    {
     "name": "stdout",
     "output_type": "stream",
     "text": [
      "22 Aug\n"
     ]
    }
   ],
   "source": [
    "# We can combine letters and words while writing identifiers\n",
    "# - Mybirth22\n",
    "Mybirth22 =\"22 Aug\"\n",
    "print(Mybirth22)"
   ]
  },
  {
   "cell_type": "code",
   "execution_count": 222,
   "id": "43399a44",
   "metadata": {},
   "outputs": [],
   "source": [
    "# We can't start our identifier by digit\n",
    "# - 1stvariable \n",
    "# - 19thnumber"
   ]
  },
  {
   "cell_type": "code",
   "execution_count": 223,
   "id": "8b9959ea",
   "metadata": {},
   "outputs": [],
   "source": [
    "# We can't include any special symbol at any position while writing identifier \n",
    "# - name@\n",
    "# - hello!\n",
    "# - time@2pm\n",
    "# - $rupees\n",
    "# - #brand "
   ]
  },
  {
   "cell_type": "code",
   "execution_count": 224,
   "id": "8194f256",
   "metadata": {},
   "outputs": [],
   "source": [
    "# We can't write identifier using space between characcters \n",
    "# - my name \n",
    "# - my number \n",
    "# - my village "
   ]
  },
  {
   "cell_type": "code",
   "execution_count": 225,
   "id": "d3ebe186",
   "metadata": {},
   "outputs": [
    {
     "name": "stdout",
     "output_type": "stream",
     "text": [
      "20\n",
      "3.14\n",
      "ABC\n",
      "40\n",
      "<class 'int'>\n",
      "<class 'float'>\n",
      "<class 'str'>\n"
     ]
    }
   ],
   "source": [
    "# Assigning multiple values to multiple variables :-\n",
    "a, b, c = 20, 3.14, \"ABC\"\n",
    "print(a)\n",
    "print(b)\n",
    "print(c)\n",
    "print(a+20)\n",
    "print(type(a))\n",
    "print(type(b))\n",
    "print(type(c))"
   ]
  },
  {
   "cell_type": "code",
   "execution_count": 226,
   "id": "c4ed5bd6",
   "metadata": {},
   "outputs": [
    {
     "name": "stdout",
     "output_type": "stream",
     "text": [
      "100\n",
      "100\n",
      "100\n"
     ]
    }
   ],
   "source": [
    "#Assign the same value to multiple variables at once :-\n",
    "x = y = z = 100\n",
    "print (x)\n",
    "print (y)\n",
    "print (z)"
   ]
  },
  {
   "cell_type": "code",
   "execution_count": 227,
   "id": "662f6f34",
   "metadata": {},
   "outputs": [
    {
     "name": "stdout",
     "output_type": "stream",
     "text": [
      "100 100 100\n"
     ]
    }
   ],
   "source": [
    "print(x,y,z)"
   ]
  },
  {
   "cell_type": "code",
   "execution_count": 228,
   "id": "25b542ab",
   "metadata": {},
   "outputs": [
    {
     "name": "stdout",
     "output_type": "stream",
     "text": [
      "100 ,100 ,100\n"
     ]
    }
   ],
   "source": [
    "print(x,y,z,sep =\" ,\")"
   ]
  },
  {
   "cell_type": "code",
   "execution_count": null,
   "id": "07149391",
   "metadata": {},
   "outputs": [],
   "source": []
  },
  {
   "cell_type": "markdown",
   "id": "6d8e4a6c",
   "metadata": {},
   "source": [
    "## Data-Types"
   ]
  },
  {
   "cell_type": "raw",
   "id": "ff26db90",
   "metadata": {},
   "source": [
    "Data-Types:- 1) Numbers (integers, float, complex)\n",
    "             2) String \n",
    "             3) lists\n",
    "             4) Tuple\n",
    "             5) set\n",
    "             6) Dictionary\n",
    "\n",
    "Datatypes are classified into two things\n",
    "    1) Immutable and\n",
    "    2) Mutable\n",
    "Immutable data value: A data value which cannot be modified.\n",
    "mutable data value : A data value which can be modified.\n",
    "\n",
    "Lists and dictionaries are mutable. strings and tuples are Immutable.\n",
    "\n",
    "To verify the type of any object in Python, use the type() function:\n"
   ]
  },
  {
   "cell_type": "code",
   "execution_count": 229,
   "id": "356d4385",
   "metadata": {},
   "outputs": [
    {
     "name": "stdout",
     "output_type": "stream",
     "text": [
      "5\n",
      "<class 'int'>\n"
     ]
    }
   ],
   "source": [
    "# eg.\n",
    "a = 5\n",
    "print(a)\n",
    "print(type(a))"
   ]
  },
  {
   "cell_type": "code",
   "execution_count": 230,
   "id": "967f7c52",
   "metadata": {},
   "outputs": [
    {
     "name": "stdout",
     "output_type": "stream",
     "text": [
      "5\n",
      "<class 'str'>\n"
     ]
    }
   ],
   "source": [
    "b = \"5\"\n",
    "print(b)\n",
    "print(type(b))"
   ]
  },
  {
   "cell_type": "raw",
   "id": "ac375f67",
   "metadata": {},
   "source": [
    "'''\n",
    "Numbers (integers, float, complex)\n",
    "\n",
    "    Number data types store numeric values.\n",
    "           1) int\n",
    "           2) float\n",
    "           3) complex\n",
    "'''\n",
    "# 1) int\n",
    "#     Integer is a whole number, positive or negative or zero, without decimals."
   ]
  },
  {
   "cell_type": "code",
   "execution_count": 231,
   "id": "cbd24aad",
   "metadata": {},
   "outputs": [
    {
     "name": "stdout",
     "output_type": "stream",
     "text": [
      "222\n",
      "<class 'int'>\n"
     ]
    }
   ],
   "source": [
    "a = 222\n",
    "print(a)\n",
    "print(type(a))"
   ]
  },
  {
   "cell_type": "code",
   "execution_count": 232,
   "id": "eac75584",
   "metadata": {},
   "outputs": [
    {
     "name": "stdout",
     "output_type": "stream",
     "text": [
      "0\n",
      "<class 'int'>\n"
     ]
    }
   ],
   "source": [
    "b = 0\n",
    "print(b)\n",
    "print(type(b))"
   ]
  },
  {
   "cell_type": "code",
   "execution_count": 233,
   "id": "fff8db29",
   "metadata": {},
   "outputs": [
    {
     "name": "stdout",
     "output_type": "stream",
     "text": [
      "-222\n",
      "<class 'int'>\n"
     ]
    }
   ],
   "source": [
    "a = -222\n",
    "print(a)\n",
    "print(type(b))"
   ]
  },
  {
   "cell_type": "code",
   "execution_count": 234,
   "id": "88677c54",
   "metadata": {},
   "outputs": [],
   "source": [
    "# 2) float\n",
    "#    Float is a number, positive or negative or zero, containing one or more decimals."
   ]
  },
  {
   "cell_type": "code",
   "execution_count": 235,
   "id": "4992aff9",
   "metadata": {},
   "outputs": [
    {
     "name": "stdout",
     "output_type": "stream",
     "text": [
      "222.222\n",
      "<class 'float'>\n"
     ]
    }
   ],
   "source": [
    "a = 222.222\n",
    "print(a)\n",
    "print(type(a))"
   ]
  },
  {
   "cell_type": "code",
   "execution_count": 236,
   "id": "8240fca1",
   "metadata": {},
   "outputs": [
    {
     "name": "stdout",
     "output_type": "stream",
     "text": [
      "0.0\n",
      "<class 'float'>\n"
     ]
    }
   ],
   "source": [
    "b = 0.0\n",
    "print(b)\n",
    "print(type(b))"
   ]
  },
  {
   "cell_type": "code",
   "execution_count": 237,
   "id": "c0d0a3d7",
   "metadata": {},
   "outputs": [
    {
     "name": "stdout",
     "output_type": "stream",
     "text": [
      "-1.2\n",
      "<class 'float'>\n"
     ]
    }
   ],
   "source": [
    "a = -1.2\n",
    "print(a)\n",
    "print(type(b))"
   ]
  },
  {
   "cell_type": "code",
   "execution_count": 238,
   "id": "e573c9c8",
   "metadata": {},
   "outputs": [],
   "source": [
    "# 3) complex\n",
    "#   Complex numbers are written with a \"j\" as the imaginary part."
   ]
  },
  {
   "cell_type": "code",
   "execution_count": 239,
   "id": "9e02350f",
   "metadata": {},
   "outputs": [
    {
     "name": "stdout",
     "output_type": "stream",
     "text": [
      "(5+3j)\n",
      "<class 'complex'>\n"
     ]
    }
   ],
   "source": [
    "a = 5 + 3j\n",
    "print(a)\n",
    "print(type(a))"
   ]
  },
  {
   "cell_type": "code",
   "execution_count": 240,
   "id": "2cae3654",
   "metadata": {},
   "outputs": [
    {
     "name": "stdout",
     "output_type": "stream",
     "text": [
      "8j\n",
      "<class 'complex'>\n"
     ]
    }
   ],
   "source": [
    "b = 8j\n",
    "print(b)\n",
    "print(type(b))"
   ]
  },
  {
   "cell_type": "code",
   "execution_count": 241,
   "id": "a9f98f00",
   "metadata": {},
   "outputs": [
    {
     "name": "stdout",
     "output_type": "stream",
     "text": [
      "(8-1.2j)\n",
      "<class 'complex'>\n"
     ]
    }
   ],
   "source": [
    "a = -1.2j + 8\n",
    "print(a)\n",
    "print(type(b))"
   ]
  },
  {
   "cell_type": "code",
   "execution_count": 242,
   "id": "a4ae7e8b",
   "metadata": {},
   "outputs": [],
   "source": [
    "# del a\n",
    "# print(a) # NameError name 'a' is not defined"
   ]
  },
  {
   "cell_type": "markdown",
   "id": "d2cffa25",
   "metadata": {},
   "source": [
    "## Python Casting"
   ]
  },
  {
   "cell_type": "raw",
   "id": "95fc58bc",
   "metadata": {},
   "source": [
    "\n",
    "Python Casting (type conversion)\n"
   ]
  },
  {
   "cell_type": "code",
   "execution_count": 243,
   "id": "e7d0593c",
   "metadata": {},
   "outputs": [
    {
     "name": "stdout",
     "output_type": "stream",
     "text": [
      "6 <class 'int'>\n"
     ]
    }
   ],
   "source": [
    "# value assign\n",
    "a = 6\n",
    "b = a\n",
    "print(b,type(b))"
   ]
  },
  {
   "cell_type": "code",
   "execution_count": 244,
   "id": "6a29276e",
   "metadata": {},
   "outputs": [
    {
     "name": "stdout",
     "output_type": "stream",
     "text": [
      "10.2 <class 'float'>\n"
     ]
    }
   ],
   "source": [
    "#Python Casting:- We can change int into float, float into int\n",
    "\n",
    "a = 10.2\n",
    "print(a,type(a))"
   ]
  },
  {
   "cell_type": "code",
   "execution_count": 245,
   "id": "f1aec7ce",
   "metadata": {},
   "outputs": [
    {
     "name": "stdout",
     "output_type": "stream",
     "text": [
      "10.2 <class 'float'>\n"
     ]
    }
   ],
   "source": [
    "b = float(a)\n",
    "print(b,type(b)) "
   ]
  },
  {
   "cell_type": "code",
   "execution_count": 246,
   "id": "9dfedd23",
   "metadata": {},
   "outputs": [
    {
     "name": "stdout",
     "output_type": "stream",
     "text": [
      "12.0 <class 'float'>\n"
     ]
    }
   ],
   "source": [
    "a = 12.0\n",
    "print(a,type(a))"
   ]
  },
  {
   "cell_type": "code",
   "execution_count": 247,
   "id": "0659afb9",
   "metadata": {},
   "outputs": [
    {
     "name": "stdout",
     "output_type": "stream",
     "text": [
      "12 <class 'int'>\n"
     ]
    }
   ],
   "source": [
    "b = int(a)\n",
    "print(b,type(b)) "
   ]
  },
  {
   "cell_type": "markdown",
   "id": "4b222618",
   "metadata": {},
   "source": [
    "## Operators:- "
   ]
  },
  {
   "cell_type": "raw",
   "id": "a7da921d",
   "metadata": {},
   "source": [
    "'''\n",
    "Operators:- \n",
    "        Operators are special symbols in Python that carry out arithmetic or logical computation. \n",
    "        The value that the operator operates on is called the operand.\n",
    "    1. Arithmetic\n",
    "    2. Comparison\n",
    "    3. Logical\n",
    "    4. Special operators :- 1) Identity operators\n",
    "                            2) Membership operators\n",
    "    5. Assignment operators:- \n",
    "'''"
   ]
  },
  {
   "cell_type": "markdown",
   "id": "dea1b551",
   "metadata": {},
   "source": [
    "## 1) Arithmetic Operators"
   ]
  },
  {
   "cell_type": "raw",
   "id": "49fd611a",
   "metadata": {},
   "source": [
    "\n",
    "1) Arithmetic Operators :-\n",
    "    Operator\tOperation\t    Description\t\n",
    "    +\t    Addition\t    Adds values on either side of the operator.\t\n",
    "    -\t    Subtraction\t    Subtracts right hand operand from left hand operand.\t\n",
    "    *\t    Multiplication\tMultiplies values on either side of the operator\t\n",
    "    /\t    Division\t    Divides left hand operand by right hand operand\t\n",
    "    %\t    Modulus\t        Divides left hand operand by right hand operand and returns remainder\t\n",
    "    **\t    Exponent    \tPerforms exponential (power) calculation on operators\t\n",
    "    //\t    Floor Division\tThe division of operands where the result is the quotient in which\n",
    "                            the digits after the decimal point are removed. \n"
   ]
  },
  {
   "cell_type": "code",
   "execution_count": 248,
   "id": "517952c2",
   "metadata": {},
   "outputs": [
    {
     "name": "stdout",
     "output_type": "stream",
     "text": [
      "12\n",
      "8\n",
      "20\n",
      "5.0\n"
     ]
    }
   ],
   "source": [
    "a = 10\n",
    "b = 2 \n",
    "print(a + b) # Addition\n",
    "print(a - b) # Subtraction\t\n",
    "print(a * b) # Multiplication\t\n",
    "print(a / b) #Division"
   ]
  },
  {
   "cell_type": "code",
   "execution_count": 249,
   "id": "ce62b268",
   "metadata": {},
   "outputs": [
    {
     "name": "stdout",
     "output_type": "stream",
     "text": [
      "0\n",
      "1\n"
     ]
    }
   ],
   "source": [
    "# Modulus \n",
    "a = 10\n",
    "b = 2 \n",
    "c = 3\n",
    "print(a%b) # Remainder is 0\n",
    "print(a%c) # Remainder is 1"
   ]
  },
  {
   "cell_type": "code",
   "execution_count": 250,
   "id": "e8390960",
   "metadata": {},
   "outputs": [
    {
     "name": "stdout",
     "output_type": "stream",
     "text": [
      "16\n",
      "16\n",
      "floor\n"
     ]
    }
   ],
   "source": [
    "# Exponent\n",
    "a = 2\n",
    "b = 4\n",
    "print(a**b)\n",
    "print(a*a*a*a)\n",
    "print(\"floor\")"
   ]
  },
  {
   "cell_type": "code",
   "execution_count": 251,
   "id": "356f571f",
   "metadata": {},
   "outputs": [
    {
     "name": "stdout",
     "output_type": "stream",
     "text": [
      "10\n"
     ]
    }
   ],
   "source": [
    "# Floor Division (after decimal we remove)\n",
    "a = 32\n",
    "b = 3\n",
    "print(a//b)"
   ]
  },
  {
   "cell_type": "code",
   "execution_count": 252,
   "id": "d9320070",
   "metadata": {},
   "outputs": [
    {
     "name": "stdout",
     "output_type": "stream",
     "text": [
      "x + y = 19\n",
      "x - y = 11\n",
      "x * y = 60\n",
      "x / y = 3.75\n",
      "x // y = 3\n",
      "x ** y = 50625\n"
     ]
    }
   ],
   "source": [
    "x = 15\n",
    "y = 4\n",
    "print('x + y =',x+y)\n",
    "print('x - y =',x-y)\n",
    "print('x * y =',x*y)\n",
    "print('x / y =',x/y)\n",
    "print('x // y =',x//y)\n",
    "print('x ** y =',x**y)"
   ]
  },
  {
   "cell_type": "markdown",
   "id": "526ae1f4",
   "metadata": {},
   "source": [
    "\n",
    "## 2) Comparison operators:"
   ]
  },
  {
   "cell_type": "raw",
   "id": "0992071c",
   "metadata": {},
   "source": [
    "\n",
    "2) Comparison operators:-\n",
    "\n",
    "    Operator\t    Description\t\n",
    "    ==\t        If the values of two operands are equal, then the condition becomes true.\t\n",
    "    !=\t        If values of two operands are not equal, then condition becomes true.\n",
    "    >\t        If the value of left operand is greater than the value of right operand, then condition becomes true.\t\n",
    "    <\t        If the value of left operand is less than the value of right operand, then condition becomes true.\t\n",
    "    >=\t        If the value of left operand is greater than or equal to the value of right operand, then condition becomes true.\t\n",
    "    <=\t        If the value of left operand is less than or equal to the value of right operand, then condition becomes true.\n"
   ]
  },
  {
   "cell_type": "code",
   "execution_count": 253,
   "id": "c6d2af23",
   "metadata": {},
   "outputs": [
    {
     "name": "stdout",
     "output_type": "stream",
     "text": [
      "False\n",
      "True\n",
      "True\n",
      "False\n",
      "True\n",
      "False\n"
     ]
    }
   ],
   "source": [
    "a = 55\n",
    "b = 45\n",
    "print(a == b) # False\n",
    "print(a != b) # True\n",
    "print(a > b) # True\n",
    "print(a < b) #False\n",
    "print(a >= b) #True\n",
    "print(a <= b) #False"
   ]
  },
  {
   "cell_type": "code",
   "execution_count": 254,
   "id": "5590bd3e",
   "metadata": {},
   "outputs": [
    {
     "name": "stdout",
     "output_type": "stream",
     "text": [
      "Is x greater than y :-  False\n",
      "Is x less than y :-  True\n",
      "Is x equal to y :-  False\n",
      "Is x not equal to y :-  True\n",
      "Is x greater than or equal to y :-  False\n",
      "Is x less than or equal to y :-  True\n"
     ]
    }
   ],
   "source": [
    "x = 20\n",
    "y = 30\n",
    "print('Is x greater than y :- ',x>y)\n",
    "print('Is x less than y :- ',x<y)\n",
    "print('Is x equal to y :- ',x==y)\n",
    "print('Is x not equal to y :- ',x!=y)\n",
    "print('Is x greater than or equal to y :- ',x>=y)\n",
    "print('Is x less than or equal to y :- ',x<=y)"
   ]
  },
  {
   "cell_type": "code",
   "execution_count": 255,
   "id": "9368e200",
   "metadata": {},
   "outputs": [
    {
     "name": "stdout",
     "output_type": "stream",
     "text": [
      "x > y is False\n",
      "x < y is True\n",
      "x == y is False\n",
      "x != y is True\n",
      "x >= y is False\n",
      "x <= y is True\n"
     ]
    }
   ],
   "source": [
    "x = 10\n",
    "y = 12\n",
    "print('x > y is',x>y)\n",
    "print('x < y is',x<y)\n",
    "print('x == y is',x==y)\n",
    "print('x != y is',x!=y)\n",
    "print('x >= y is',x>=y)\n",
    "print('x <= y is',x<=y)"
   ]
  },
  {
   "cell_type": "markdown",
   "id": "b4d8936a",
   "metadata": {},
   "source": [
    "## 3) Logical Operator"
   ]
  },
  {
   "cell_type": "raw",
   "id": "0ef27854",
   "metadata": {},
   "source": [
    "3) Logical Operator :-\n",
    "\n",
    "    Operator\t             Description\t\n",
    "    and   Logical AND\t    If both the operands are true then condition becomes true.\t(a and b) is true.\n",
    "    or    Logical OR\t    If any of the two operands are non-zero then condition becomes true. (a or b) is true.\n",
    "    not   Logical NOT\t    Used to reverse the logical state of its operand."
   ]
  },
  {
   "cell_type": "code",
   "execution_count": 256,
   "id": "f7d43bcd",
   "metadata": {},
   "outputs": [
    {
     "name": "stdout",
     "output_type": "stream",
     "text": [
      "Logical AND operation :-  False\n",
      "Logical OR operation :-  True\n",
      "NOT operation :-  False\n"
     ]
    }
   ],
   "source": [
    "x = True\n",
    "y = False\n",
    "print('Logical AND operation :- ',x and y) # True if both values are true\n",
    "print('Logical OR operation :- ',x or y) # True if either of the values is true\n",
    "print('NOT operation :- ',not x ) # True if operand is false"
   ]
  },
  {
   "cell_type": "raw",
   "id": "305c2ce9",
   "metadata": {},
   "source": [
    "# and\n",
    "# True  and  True  ==> True\n",
    "# False and  True  ==> False\n",
    "# True  and  False ==> False\n",
    "# False and  False ==> False"
   ]
  },
  {
   "cell_type": "code",
   "execution_count": 257,
   "id": "ca1da065",
   "metadata": {},
   "outputs": [
    {
     "name": "stdout",
     "output_type": "stream",
     "text": [
      "True\n",
      "False\n",
      "False\n",
      "False\n"
     ]
    }
   ],
   "source": [
    "print(12 < 13 and 7 == 7)   # True\n",
    "print(12 >= 13 and 7 != 6)  # False\n",
    "print(12 == 11 and 7 == 8)  # False\n",
    "print(12 > 11 and 7 == 8)   #False"
   ]
  },
  {
   "cell_type": "raw",
   "id": "b4e36e66",
   "metadata": {},
   "source": [
    "#or\n",
    "\n",
    "# True  or  True  ==> True\n",
    "# False or  True  ==> True\n",
    "# True  or  False ==> True\n",
    "# False or  False ==> False"
   ]
  },
  {
   "cell_type": "code",
   "execution_count": 258,
   "id": "a8ecd23a",
   "metadata": {},
   "outputs": [
    {
     "name": "stdout",
     "output_type": "stream",
     "text": [
      "True\n",
      "True\n",
      "False\n",
      "True\n"
     ]
    }
   ],
   "source": [
    "print(12 < 13 or 7 == 7)    # True\n",
    "print(12 >= 13 or 7 != 6)   # True\n",
    "print(12 == 11 or 7 == 8)   # False\n",
    "print(12 > 11 or 7 == 8)    # True"
   ]
  },
  {
   "cell_type": "raw",
   "id": "92a16cd8",
   "metadata": {},
   "source": [
    "# not \n",
    "\n",
    "#True ==> False\n",
    "#False ==> True "
   ]
  },
  {
   "cell_type": "code",
   "execution_count": 259,
   "id": "fa1ee4fe",
   "metadata": {},
   "outputs": [
    {
     "name": "stdout",
     "output_type": "stream",
     "text": [
      "False\n",
      "True\n",
      "False\n"
     ]
    }
   ],
   "source": [
    "print(not True)\n",
    "print(not False)\n",
    "print(not 8==8)"
   ]
  },
  {
   "cell_type": "raw",
   "id": "1225c6e8",
   "metadata": {},
   "source": [
    "There are two built-in functions for multiple condition\n",
    "\n",
    "all() :- True if all True otherwise False\n",
    "any() :- True if at least one is True\n",
    "\n",
    "The all() function returns True if all elements in the iterable are truthy (i.e., non-zero, non-empty, or True), or False if at least one element is falsy (i.e., zero, empty, or False)"
   ]
  },
  {
   "cell_type": "code",
   "execution_count": 260,
   "id": "19d452aa",
   "metadata": {},
   "outputs": [
    {
     "data": {
      "text/plain": [
       "True"
      ]
     },
     "execution_count": 260,
     "metadata": {},
     "output_type": "execute_result"
    }
   ],
   "source": [
    "all((12 < 13 , 7 == 7,12 <= 13 , 7 != 6)) "
   ]
  },
  {
   "cell_type": "code",
   "execution_count": 261,
   "id": "900ff35d",
   "metadata": {},
   "outputs": [
    {
     "data": {
      "text/plain": [
       "False"
      ]
     },
     "execution_count": 261,
     "metadata": {},
     "output_type": "execute_result"
    }
   ],
   "source": [
    "all((12 < 13 , 7 == 7,12 <= 13 , 7 != 6 , 0))   #why?"
   ]
  },
  {
   "cell_type": "code",
   "execution_count": 262,
   "id": "58988a01",
   "metadata": {},
   "outputs": [
    {
     "data": {
      "text/plain": [
       "True"
      ]
     },
     "execution_count": 262,
     "metadata": {},
     "output_type": "execute_result"
    }
   ],
   "source": [
    "all((12 < 13 , 7 == 7,12 <= 13 , 7 != 6 , -66))"
   ]
  },
  {
   "cell_type": "code",
   "execution_count": null,
   "id": "f8451f61",
   "metadata": {},
   "outputs": [],
   "source": []
  },
  {
   "cell_type": "code",
   "execution_count": 263,
   "id": "482ab52e",
   "metadata": {},
   "outputs": [
    {
     "data": {
      "text/plain": [
       "False"
      ]
     },
     "execution_count": 263,
     "metadata": {},
     "output_type": "execute_result"
    }
   ],
   "source": [
    "bool(0)"
   ]
  },
  {
   "cell_type": "code",
   "execution_count": 264,
   "id": "10e278ee",
   "metadata": {},
   "outputs": [
    {
     "data": {
      "text/plain": [
       "True"
      ]
     },
     "execution_count": 264,
     "metadata": {},
     "output_type": "execute_result"
    }
   ],
   "source": [
    "bool(1)"
   ]
  },
  {
   "cell_type": "code",
   "execution_count": 265,
   "id": "097f93df",
   "metadata": {},
   "outputs": [
    {
     "data": {
      "text/plain": [
       "False"
      ]
     },
     "execution_count": 265,
     "metadata": {},
     "output_type": "execute_result"
    }
   ],
   "source": [
    "bool()"
   ]
  },
  {
   "cell_type": "code",
   "execution_count": 266,
   "id": "39bcea3e",
   "metadata": {},
   "outputs": [
    {
     "data": {
      "text/plain": [
       "True"
      ]
     },
     "execution_count": 266,
     "metadata": {},
     "output_type": "execute_result"
    }
   ],
   "source": [
    "bool(-100)"
   ]
  },
  {
   "cell_type": "code",
   "execution_count": 267,
   "id": "bc01115d",
   "metadata": {},
   "outputs": [
    {
     "data": {
      "text/plain": [
       "True"
      ]
     },
     "execution_count": 267,
     "metadata": {},
     "output_type": "execute_result"
    }
   ],
   "source": [
    "any((12 < 13 , 7 == 7,12 <= 13 , 7 != 6 , 0))"
   ]
  },
  {
   "cell_type": "markdown",
   "id": "12bdee52",
   "metadata": {},
   "source": [
    "## 4) Special operators"
   ]
  },
  {
   "cell_type": "raw",
   "id": "7fb8848d",
   "metadata": {},
   "source": [
    "4) Special operators :- 1) Identity operators\n",
    "                        2) Membership operators"
   ]
  },
  {
   "cell_type": "raw",
   "id": "aba070a1",
   "metadata": {},
   "source": [
    "1) Identity operators\n",
    "\n",
    "    Operator\tDescription\t\n",
    "    is \t    Returns true if both variables are the same object\t\n",
    "   vs is not  \tReturns true if both variables are not the same object"
   ]
  },
  {
   "cell_type": "code",
   "execution_count": 268,
   "id": "08dd4406",
   "metadata": {},
   "outputs": [],
   "source": [
    "# eg\n",
    "x = 10\n",
    "y = 11 \n",
    "z = 10"
   ]
  },
  {
   "cell_type": "code",
   "execution_count": 269,
   "id": "c99c902e",
   "metadata": {},
   "outputs": [
    {
     "data": {
      "text/plain": [
       "int"
      ]
     },
     "execution_count": 269,
     "metadata": {},
     "output_type": "execute_result"
    }
   ],
   "source": [
    "type(x)"
   ]
  },
  {
   "cell_type": "code",
   "execution_count": 270,
   "id": "9601ba28",
   "metadata": {},
   "outputs": [
    {
     "data": {
      "text/plain": [
       "2856824236624"
      ]
     },
     "execution_count": 270,
     "metadata": {},
     "output_type": "execute_result"
    }
   ],
   "source": [
    "id(x)"
   ]
  },
  {
   "cell_type": "code",
   "execution_count": 271,
   "id": "48fa282f",
   "metadata": {},
   "outputs": [
    {
     "data": {
      "text/plain": [
       "True"
      ]
     },
     "execution_count": 271,
     "metadata": {},
     "output_type": "execute_result"
    }
   ],
   "source": [
    " x == z"
   ]
  },
  {
   "cell_type": "code",
   "execution_count": 272,
   "id": "2bf3fc07",
   "metadata": {},
   "outputs": [
    {
     "data": {
      "text/plain": [
       "True"
      ]
     },
     "execution_count": 272,
     "metadata": {},
     "output_type": "execute_result"
    }
   ],
   "source": [
    "x is z"
   ]
  },
  {
   "cell_type": "code",
   "execution_count": 273,
   "id": "fccf4723",
   "metadata": {},
   "outputs": [],
   "source": [
    "a = b =5"
   ]
  },
  {
   "cell_type": "code",
   "execution_count": 274,
   "id": "911e5a90",
   "metadata": {},
   "outputs": [
    {
     "data": {
      "text/plain": [
       "5"
      ]
     },
     "execution_count": 274,
     "metadata": {},
     "output_type": "execute_result"
    }
   ],
   "source": [
    "a"
   ]
  },
  {
   "cell_type": "code",
   "execution_count": 275,
   "id": "16a5cd7c",
   "metadata": {},
   "outputs": [],
   "source": [
    "a=b=c=d=e=12"
   ]
  },
  {
   "cell_type": "code",
   "execution_count": 276,
   "id": "d4ed7d85",
   "metadata": {},
   "outputs": [
    {
     "data": {
      "text/plain": [
       "12"
      ]
     },
     "execution_count": 276,
     "metadata": {},
     "output_type": "execute_result"
    }
   ],
   "source": [
    "d"
   ]
  },
  {
   "cell_type": "code",
   "execution_count": 277,
   "id": "9d5e6acb",
   "metadata": {},
   "outputs": [],
   "source": [
    "aa =5 \n",
    "bb =6\n",
    "cc = 8"
   ]
  },
  {
   "cell_type": "code",
   "execution_count": 278,
   "id": "5c64756f",
   "metadata": {},
   "outputs": [],
   "source": [
    "aa, bb,cc = 5,4,4"
   ]
  },
  {
   "cell_type": "code",
   "execution_count": 279,
   "id": "eeefc51b",
   "metadata": {},
   "outputs": [
    {
     "data": {
      "text/plain": [
       "5"
      ]
     },
     "execution_count": 279,
     "metadata": {},
     "output_type": "execute_result"
    }
   ],
   "source": [
    "aa"
   ]
  },
  {
   "cell_type": "code",
   "execution_count": 280,
   "id": "73f4a03f",
   "metadata": {},
   "outputs": [
    {
     "data": {
      "text/plain": [
       "2856824236656"
      ]
     },
     "execution_count": 280,
     "metadata": {},
     "output_type": "execute_result"
    }
   ],
   "source": [
    "id(y)"
   ]
  },
  {
   "cell_type": "code",
   "execution_count": 281,
   "id": "69e2c64d",
   "metadata": {},
   "outputs": [],
   "source": [
    "# eg\n",
    "x = 10\n",
    "y = 11 \n",
    "z = 10"
   ]
  },
  {
   "cell_type": "code",
   "execution_count": 282,
   "id": "f7113430",
   "metadata": {},
   "outputs": [
    {
     "name": "stdout",
     "output_type": "stream",
     "text": [
      "2856824236624\n",
      "2856824236656\n",
      "2856824236624\n"
     ]
    }
   ],
   "source": [
    "print(id(x))\n",
    "print(id(y))\n",
    "print(id(z))"
   ]
  },
  {
   "cell_type": "code",
   "execution_count": 283,
   "id": "f931fc22",
   "metadata": {},
   "outputs": [
    {
     "name": "stdout",
     "output_type": "stream",
     "text": [
      "False\n",
      "True\n"
     ]
    }
   ],
   "source": [
    "print(x is y) \n",
    "print(x is z) "
   ]
  },
  {
   "cell_type": "code",
   "execution_count": 284,
   "id": "cd8a9fd0",
   "metadata": {},
   "outputs": [
    {
     "data": {
      "text/plain": [
       "'ABC'"
      ]
     },
     "execution_count": 284,
     "metadata": {},
     "output_type": "execute_result"
    }
   ],
   "source": [
    "name = \"ABC\"\n",
    "name"
   ]
  },
  {
   "cell_type": "code",
   "execution_count": 285,
   "id": "f6fcd465",
   "metadata": {},
   "outputs": [
    {
     "data": {
      "text/plain": [
       "2856826498288"
      ]
     },
     "execution_count": 285,
     "metadata": {},
     "output_type": "execute_result"
    }
   ],
   "source": [
    "id(name)"
   ]
  },
  {
   "cell_type": "code",
   "execution_count": 286,
   "id": "4b990ede",
   "metadata": {},
   "outputs": [],
   "source": [
    "# eg\n",
    "x = 555\n",
    "y = 555 \n",
    "z = 300"
   ]
  },
  {
   "cell_type": "code",
   "execution_count": 287,
   "id": "89b91dab",
   "metadata": {},
   "outputs": [
    {
     "name": "stdout",
     "output_type": "stream",
     "text": [
      "2856939919248\n",
      "2856939918032\n",
      "2856939918800\n"
     ]
    }
   ],
   "source": [
    "print(id(x))\n",
    "print(id(y))\n",
    "print(id(z))"
   ]
  },
  {
   "cell_type": "code",
   "execution_count": 288,
   "id": "e3b23555",
   "metadata": {},
   "outputs": [
    {
     "name": "stdout",
     "output_type": "stream",
     "text": [
      "False\n",
      "False\n"
     ]
    }
   ],
   "source": [
    "print(x is y) \n",
    "print(x is z) "
   ]
  },
  {
   "cell_type": "raw",
   "id": "e1be2160",
   "metadata": {},
   "source": [
    "\n",
    "2) Membership Operator\n",
    "\n",
    "    Operator\t   Description\t\n",
    "      in\t        Evaluates to true if it finds a variable in the specified sequence and false otherwise.\n",
    "      not in\t    Evaluates to true if it does not finds a variable in the specified sequence and false otherwise.\n"
   ]
  },
  {
   "cell_type": "code",
   "execution_count": 289,
   "id": "7e3271aa",
   "metadata": {},
   "outputs": [
    {
     "name": "stdout",
     "output_type": "stream",
     "text": [
      "True\n",
      "False\n",
      "True\n"
     ]
    }
   ],
   "source": [
    "a = 'h'\n",
    "b = 'hello'\n",
    "c = 'world'\n",
    "print(a in b)\n",
    "print(a in c)\n",
    "print(a not in c)"
   ]
  },
  {
   "cell_type": "markdown",
   "id": "7770f30a",
   "metadata": {},
   "source": [
    "## 5) Assignment operators"
   ]
  },
  {
   "cell_type": "raw",
   "id": "7197a7c5",
   "metadata": {},
   "source": [
    "'''\n",
    "5) Assignment operators:-\n",
    "\n",
    "        Operator\t    Description\t                                                            \n",
    "    =\t                Assigns values from right side operands to left side operand\t\n",
    "    +=  Add AND\t        It adds right operand to the left operand and assign the result to left operand\t\n",
    "    -=  Subtract AND\tIt subtracts right operand from the left operand and assign the result to left operand\t\n",
    "    *=  Multiply AND\tIt multiplies right operand with the left operand and assign the result to left operand\t\n",
    "    /=  Divide AND\t    It divides left operand with the right operand and assign the result to left operand\t\n",
    "    %=  Modulus AND\t    It takes modulus using two operands and assign the result to left operand\tc %= a is equivalent to \n",
    "    **=  Exponent AND\tPerforms exponential (power) calculation on operators and assign value to the left operand\t\n",
    "    //=  Floor Division\tIt performs floor division on operators and assign value to the left operand\n",
    "'''\t"
   ]
  },
  {
   "cell_type": "code",
   "execution_count": 290,
   "id": "132c5a7a",
   "metadata": {},
   "outputs": [],
   "source": [
    " a = 10"
   ]
  },
  {
   "cell_type": "code",
   "execution_count": 291,
   "id": "b43e5c36",
   "metadata": {},
   "outputs": [
    {
     "data": {
      "text/plain": [
       "10"
      ]
     },
     "execution_count": 291,
     "metadata": {},
     "output_type": "execute_result"
    }
   ],
   "source": [
    "a\n"
   ]
  },
  {
   "cell_type": "code",
   "execution_count": 292,
   "id": "fd835cc8",
   "metadata": {},
   "outputs": [],
   "source": [
    "a=5\n",
    "b=2"
   ]
  },
  {
   "cell_type": "code",
   "execution_count": 293,
   "id": "2abac87a",
   "metadata": {},
   "outputs": [
    {
     "name": "stdout",
     "output_type": "stream",
     "text": [
      "5 2\n"
     ]
    }
   ],
   "source": [
    "print(a,b)"
   ]
  },
  {
   "cell_type": "code",
   "execution_count": 294,
   "id": "9639566f",
   "metadata": {},
   "outputs": [
    {
     "data": {
      "text/plain": [
       "7"
      ]
     },
     "execution_count": 294,
     "metadata": {},
     "output_type": "execute_result"
    }
   ],
   "source": [
    "a += 2 # a = a+2\n",
    "a"
   ]
  },
  {
   "cell_type": "code",
   "execution_count": 295,
   "id": "64fbdb48",
   "metadata": {},
   "outputs": [],
   "source": [
    "a += b  #==== a = a+b\n",
    "a -= b   #==== a = a-b\n",
    "\n",
    "a *= b   #==== a = a*b\n",
    "\n",
    "a /= b   #==== a = a/b\n",
    "a **= b   #==== a= a ** b\n",
    "a //= b   #==== a= a //b "
   ]
  },
  {
   "cell_type": "code",
   "execution_count": 296,
   "id": "6c4fad95",
   "metadata": {},
   "outputs": [],
   "source": [
    "a=3\n",
    "b= 2"
   ]
  },
  {
   "cell_type": "code",
   "execution_count": 297,
   "id": "f4723967",
   "metadata": {},
   "outputs": [
    {
     "data": {
      "text/plain": [
       "1.5"
      ]
     },
     "execution_count": 297,
     "metadata": {},
     "output_type": "execute_result"
    }
   ],
   "source": [
    "a /= b # a= a/b\n",
    "a"
   ]
  },
  {
   "cell_type": "code",
   "execution_count": 298,
   "id": "a924e70e",
   "metadata": {},
   "outputs": [
    {
     "data": {
      "text/plain": [
       "1.5"
      ]
     },
     "execution_count": 298,
     "metadata": {},
     "output_type": "execute_result"
    }
   ],
   "source": [
    "a"
   ]
  },
  {
   "cell_type": "code",
   "execution_count": null,
   "id": "8f1d9a70",
   "metadata": {},
   "outputs": [],
   "source": []
  },
  {
   "cell_type": "code",
   "execution_count": 299,
   "id": "bc1cfde2",
   "metadata": {},
   "outputs": [],
   "source": [
    "b=10"
   ]
  },
  {
   "cell_type": "code",
   "execution_count": 300,
   "id": "3826ba12",
   "metadata": {},
   "outputs": [],
   "source": [
    "c=5"
   ]
  },
  {
   "cell_type": "code",
   "execution_count": 301,
   "id": "c8e8774a",
   "metadata": {},
   "outputs": [],
   "source": [
    "c +=20  # c =c+20"
   ]
  },
  {
   "cell_type": "code",
   "execution_count": 302,
   "id": "1d3c65eb",
   "metadata": {},
   "outputs": [
    {
     "data": {
      "text/plain": [
       "25"
      ]
     },
     "execution_count": 302,
     "metadata": {},
     "output_type": "execute_result"
    }
   ],
   "source": [
    "c"
   ]
  },
  {
   "cell_type": "code",
   "execution_count": 303,
   "id": "966a8880",
   "metadata": {},
   "outputs": [
    {
     "data": {
      "text/plain": [
       "5"
      ]
     },
     "execution_count": 303,
     "metadata": {},
     "output_type": "execute_result"
    }
   ],
   "source": [
    "c -=20 \n",
    "c"
   ]
  },
  {
   "cell_type": "code",
   "execution_count": 304,
   "id": "431cfa1e",
   "metadata": {},
   "outputs": [
    {
     "data": {
      "text/plain": [
       "-15"
      ]
     },
     "execution_count": 304,
     "metadata": {},
     "output_type": "execute_result"
    }
   ],
   "source": [
    "c -=20 \n",
    "c"
   ]
  },
  {
   "cell_type": "code",
   "execution_count": 305,
   "id": "c86e9969",
   "metadata": {},
   "outputs": [
    {
     "data": {
      "text/plain": [
       "5"
      ]
     },
     "execution_count": 305,
     "metadata": {},
     "output_type": "execute_result"
    }
   ],
   "source": [
    "c %=20 #=== c = c % 20\n",
    "c"
   ]
  },
  {
   "cell_type": "code",
   "execution_count": 306,
   "id": "fe36070e",
   "metadata": {},
   "outputs": [
    {
     "data": {
      "text/plain": [
       "5"
      ]
     },
     "execution_count": 306,
     "metadata": {},
     "output_type": "execute_result"
    }
   ],
   "source": [
    "c %=20 #=== c = c % 20\n",
    "c"
   ]
  },
  {
   "cell_type": "code",
   "execution_count": null,
   "id": "85b5a4a9",
   "metadata": {},
   "outputs": [],
   "source": []
  },
  {
   "cell_type": "code",
   "execution_count": null,
   "id": "9f2a9c96",
   "metadata": {},
   "outputs": [],
   "source": []
  },
  {
   "cell_type": "code",
   "execution_count": 307,
   "id": "29ca51e1",
   "metadata": {},
   "outputs": [
    {
     "data": {
      "text/plain": [
       "25"
      ]
     },
     "execution_count": 307,
     "metadata": {},
     "output_type": "execute_result"
    }
   ],
   "source": [
    "c =c+20\n",
    "c"
   ]
  },
  {
   "cell_type": "code",
   "execution_count": 308,
   "id": "3a324e7f",
   "metadata": {},
   "outputs": [],
   "source": [
    " a = a+b   #===== a+=b"
   ]
  },
  {
   "cell_type": "code",
   "execution_count": 309,
   "id": "6b03f734",
   "metadata": {},
   "outputs": [],
   "source": [
    "a=3\n",
    "b= 2"
   ]
  },
  {
   "cell_type": "code",
   "execution_count": 310,
   "id": "a2200c66",
   "metadata": {},
   "outputs": [
    {
     "data": {
      "text/plain": [
       "5"
      ]
     },
     "execution_count": 310,
     "metadata": {},
     "output_type": "execute_result"
    }
   ],
   "source": [
    "a = a+b\n",
    "a"
   ]
  },
  {
   "cell_type": "code",
   "execution_count": 311,
   "id": "d2bd3e9e",
   "metadata": {},
   "outputs": [
    {
     "name": "stdout",
     "output_type": "stream",
     "text": [
      "5 2\n"
     ]
    }
   ],
   "source": [
    "print(a,b)"
   ]
  },
  {
   "cell_type": "code",
   "execution_count": 312,
   "id": "57c8c6bd",
   "metadata": {},
   "outputs": [
    {
     "data": {
      "text/plain": [
       "2"
      ]
     },
     "execution_count": 312,
     "metadata": {},
     "output_type": "execute_result"
    }
   ],
   "source": [
    "a//=b # == a = a// b === a = 3.5 // 2\n",
    "a"
   ]
  },
  {
   "cell_type": "code",
   "execution_count": 313,
   "id": "1985f70b",
   "metadata": {},
   "outputs": [
    {
     "data": {
      "text/plain": [
       "1.75"
      ]
     },
     "execution_count": 313,
     "metadata": {},
     "output_type": "execute_result"
    }
   ],
   "source": [
    "3.5 / 2"
   ]
  },
  {
   "cell_type": "code",
   "execution_count": 314,
   "id": "f2f19be6",
   "metadata": {},
   "outputs": [
    {
     "name": "stdout",
     "output_type": "stream",
     "text": [
      "7\n"
     ]
    }
   ],
   "source": [
    "# eg.\n",
    "z=5\n",
    "z+=2\n",
    "print(z)"
   ]
  },
  {
   "cell_type": "code",
   "execution_count": 315,
   "id": "0858d704",
   "metadata": {},
   "outputs": [
    {
     "name": "stdout",
     "output_type": "stream",
     "text": [
      "4\n"
     ]
    }
   ],
   "source": [
    "z-=3\n",
    "print(z)"
   ]
  },
  {
   "cell_type": "code",
   "execution_count": 316,
   "id": "82154977",
   "metadata": {},
   "outputs": [
    {
     "name": "stdout",
     "output_type": "stream",
     "text": [
      "8\n"
     ]
    }
   ],
   "source": [
    "z*=2\n",
    "print(z)"
   ]
  },
  {
   "cell_type": "code",
   "execution_count": 317,
   "id": "6b222a0a",
   "metadata": {},
   "outputs": [
    {
     "name": "stdout",
     "output_type": "stream",
     "text": [
      "64\n"
     ]
    }
   ],
   "source": [
    "z**=2\n",
    "print(z)"
   ]
  },
  {
   "cell_type": "code",
   "execution_count": 318,
   "id": "267c8063",
   "metadata": {},
   "outputs": [
    {
     "name": "stdout",
     "output_type": "stream",
     "text": [
      "32.0\n"
     ]
    }
   ],
   "source": [
    "z/=2\n",
    "print(z)"
   ]
  },
  {
   "cell_type": "code",
   "execution_count": 319,
   "id": "31e8a4c2",
   "metadata": {},
   "outputs": [
    {
     "name": "stdout",
     "output_type": "stream",
     "text": [
      "16.0\n"
     ]
    }
   ],
   "source": [
    "z//=2\n",
    "print(z)"
   ]
  },
  {
   "cell_type": "code",
   "execution_count": 320,
   "id": "a4c4aa46",
   "metadata": {},
   "outputs": [
    {
     "name": "stdout",
     "output_type": "stream",
     "text": [
      "0.0\n"
     ]
    }
   ],
   "source": [
    "z%=2\n",
    "print(z)"
   ]
  },
  {
   "cell_type": "code",
   "execution_count": 321,
   "id": "c3d2b4b9",
   "metadata": {},
   "outputs": [
    {
     "name": "stdout",
     "output_type": "stream",
     "text": [
      "2\n",
      "3\n"
     ]
    }
   ],
   "source": [
    "# eg.\n",
    "a = 2\n",
    "b = 2\n",
    "c = 10\n",
    "print(a)\n",
    "a = 3\n",
    "print(a)"
   ]
  },
  {
   "cell_type": "code",
   "execution_count": 322,
   "id": "1f3af685",
   "metadata": {},
   "outputs": [
    {
     "name": "stdout",
     "output_type": "stream",
     "text": [
      "4\n"
     ]
    }
   ],
   "source": [
    "a +=1\n",
    "print(a)\n",
    "b -= 1"
   ]
  },
  {
   "cell_type": "code",
   "execution_count": 323,
   "id": "c2561661",
   "metadata": {},
   "outputs": [
    {
     "name": "stdout",
     "output_type": "stream",
     "text": [
      "5\n"
     ]
    }
   ],
   "source": [
    "a +=1\n",
    "print(a)"
   ]
  },
  {
   "cell_type": "code",
   "execution_count": 324,
   "id": "b72dc81a",
   "metadata": {},
   "outputs": [
    {
     "name": "stdout",
     "output_type": "stream",
     "text": [
      "0\n"
     ]
    }
   ],
   "source": [
    "b -= 1\n",
    "print(b)"
   ]
  },
  {
   "cell_type": "code",
   "execution_count": 325,
   "id": "ea41deef",
   "metadata": {},
   "outputs": [
    {
     "name": "stdout",
     "output_type": "stream",
     "text": [
      "0\n"
     ]
    }
   ],
   "source": [
    "b *= 2\n",
    "print(b)"
   ]
  },
  {
   "cell_type": "code",
   "execution_count": 326,
   "id": "0263c28f",
   "metadata": {},
   "outputs": [
    {
     "name": "stdout",
     "output_type": "stream",
     "text": [
      "0.0\n"
     ]
    }
   ],
   "source": [
    "b /= 2\n",
    "print(b)"
   ]
  },
  {
   "cell_type": "code",
   "execution_count": 327,
   "id": "27ffccbd",
   "metadata": {},
   "outputs": [
    {
     "name": "stdout",
     "output_type": "stream",
     "text": [
      "0\n"
     ]
    }
   ],
   "source": [
    "c %= 2\n",
    "print(c)"
   ]
  },
  {
   "cell_type": "code",
   "execution_count": 328,
   "id": "16b69a80",
   "metadata": {},
   "outputs": [
    {
     "name": "stdout",
     "output_type": "stream",
     "text": [
      "4\n"
     ]
    }
   ],
   "source": [
    "c +=2\n",
    "c **=2\n",
    "print(c)"
   ]
  },
  {
   "cell_type": "code",
   "execution_count": 329,
   "id": "c1e7b9a1",
   "metadata": {},
   "outputs": [
    {
     "name": "stdout",
     "output_type": "stream",
     "text": [
      "2\n"
     ]
    }
   ],
   "source": [
    "c //=2\n",
    "print(c)"
   ]
  }
 ],
 "metadata": {
  "kernelspec": {
   "display_name": "Python 3 (ipykernel)",
   "language": "python",
   "name": "python3"
  },
  "language_info": {
   "codemirror_mode": {
    "name": "ipython",
    "version": 3
   },
   "file_extension": ".py",
   "mimetype": "text/x-python",
   "name": "python",
   "nbconvert_exporter": "python",
   "pygments_lexer": "ipython3",
   "version": "3.9.13"
  }
 },
 "nbformat": 4,
 "nbformat_minor": 5
}
