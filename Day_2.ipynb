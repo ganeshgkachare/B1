{
 "cells": [
  {
   "cell_type": "markdown",
   "id": "9c49c43c",
   "metadata": {},
   "source": [
    "## String"
   ]
  },
  {
   "cell_type": "raw",
   "id": "691cd652",
   "metadata": {},
   "source": [
    "Strings are one of the fundamental Python data types.\n",
    "It is text or words or sentence in quotation mark (single or double). \n",
    "Strings are used to represent text.\n",
    "\n",
    "properties:\n",
    "1. Strings contain individual letters or symbols called characters.\n",
    "2. Characters in a string appear in a sequence, which means that each character has a numbered position in the string."
   ]
  },
  {
   "cell_type": "code",
   "execution_count": 98,
   "id": "6b23da00",
   "metadata": {},
   "outputs": [
    {
     "name": "stdout",
     "output_type": "stream",
     "text": [
      "Ganesh\n"
     ]
    }
   ],
   "source": [
    "# Here we assign Ganesh value to my_name variable\n",
    "\n",
    "my_name = \"Ganesh\"\n",
    "print(my_name)"
   ]
  },
  {
   "cell_type": "code",
   "execution_count": 99,
   "id": "3b3432bc",
   "metadata": {},
   "outputs": [
    {
     "data": {
      "text/plain": [
       "'n'"
      ]
     },
     "execution_count": 99,
     "metadata": {},
     "output_type": "execute_result"
    }
   ],
   "source": [
    "my_name[2]"
   ]
  },
  {
   "cell_type": "code",
   "execution_count": 100,
   "id": "98139514",
   "metadata": {},
   "outputs": [
    {
     "data": {
      "text/plain": [
       "str"
      ]
     },
     "execution_count": 100,
     "metadata": {},
     "output_type": "execute_result"
    }
   ],
   "source": [
    "\n",
    "type(my_name)"
   ]
  },
  {
   "cell_type": "code",
   "execution_count": 96,
   "id": "36177d5c",
   "metadata": {},
   "outputs": [
    {
     "data": {
      "text/plain": [
       "'abc'"
      ]
     },
     "execution_count": 96,
     "metadata": {},
     "output_type": "execute_result"
    }
   ],
   "source": [
    "'abc'"
   ]
  },
  {
   "cell_type": "code",
   "execution_count": 97,
   "id": "8ef4dafe",
   "metadata": {},
   "outputs": [
    {
     "data": {
      "text/plain": [
       "'abc'"
      ]
     },
     "execution_count": 97,
     "metadata": {},
     "output_type": "execute_result"
    }
   ],
   "source": [
    "\"abc\""
   ]
  },
  {
   "cell_type": "code",
   "execution_count": null,
   "id": "053a6958",
   "metadata": {},
   "outputs": [],
   "source": []
  },
  {
   "cell_type": "code",
   "execution_count": 101,
   "id": "2f6d393b",
   "metadata": {},
   "outputs": [
    {
     "data": {
      "text/plain": [
       "6"
      ]
     },
     "execution_count": 101,
     "metadata": {},
     "output_type": "execute_result"
    }
   ],
   "source": [
    "len(my_name)"
   ]
  },
  {
   "cell_type": "markdown",
   "id": "67b85dfb",
   "metadata": {},
   "source": [
    "## Indexing"
   ]
  },
  {
   "cell_type": "raw",
   "id": "730402d0",
   "metadata": {},
   "source": [
    "Indexing :-\n",
    "\n",
    "    Indexing means referring to an element of an iterable by its position within the iterable. Each of a string’s characters corresponds to an index number and each character can be accessed using its index number. We can access characters in a String in Two ways :\n",
    "\n",
    "    1) Accessing Characters by Positive Index Number\n",
    "    2) Accessing Characters by Negative Index Number"
   ]
  },
  {
   "cell_type": "code",
   "execution_count": 102,
   "id": "b2a5dfd5",
   "metadata": {},
   "outputs": [
    {
     "data": {
      "text/plain": [
       "8"
      ]
     },
     "execution_count": 102,
     "metadata": {},
     "output_type": "execute_result"
    }
   ],
   "source": [
    "name = \"Priyanka\"\n",
    "len(name)"
   ]
  },
  {
   "cell_type": "code",
   "execution_count": 104,
   "id": "629e404e",
   "metadata": {},
   "outputs": [
    {
     "name": "stdout",
     "output_type": "stream",
     "text": [
      "P r i y a n k a "
     ]
    }
   ],
   "source": [
    "for char in name:\n",
    "    print(char, end =\" \")"
   ]
  },
  {
   "cell_type": "raw",
   "id": "692cd288",
   "metadata": {},
   "source": [
    "\n",
    "1) Accessing Characters by Positive Index Number:\n",
    "   We pass a Positive index(which we want to access) in square brackets.\n",
    " The index number starts from index number 0 (which denotes the first character of a string).\n",
    "\n",
    "\n",
    "2) Accessing Characters by Negative Index Number: \n",
    "    We pass the Negative index(which we want to access) in square brackets. \n",
    "    Here the index number starts from index number -1 (which denotes the last character of a string)."
   ]
  },
  {
   "cell_type": "raw",
   "id": "a4e1d79f",
   "metadata": {},
   "source": [
    "    0   1   2   3    4   5    6   7   ====>  Positive Index Number\n",
    "    P   r   i   y    a   n    k   a   ====>  String\n",
    "   -8  -7  -6  -5   -4   -3  -2   -1  ====>  Negative Index Number"
   ]
  },
  {
   "cell_type": "code",
   "execution_count": null,
   "id": "0b8f6b73",
   "metadata": {},
   "outputs": [],
   "source": [
    "#Positive Index Number"
   ]
  },
  {
   "cell_type": "code",
   "execution_count": null,
   "id": "d1deecc9",
   "metadata": {},
   "outputs": [],
   "source": [
    "name = \"Priyanka\""
   ]
  },
  {
   "cell_type": "code",
   "execution_count": 105,
   "id": "9365156c",
   "metadata": {},
   "outputs": [
    {
     "name": "stdout",
     "output_type": "stream",
     "text": [
      "y\n"
     ]
    }
   ],
   "source": [
    "print(name[3])"
   ]
  },
  {
   "cell_type": "code",
   "execution_count": 106,
   "id": "096b2f3d",
   "metadata": {},
   "outputs": [
    {
     "name": "stdout",
     "output_type": "stream",
     "text": [
      "a\n"
     ]
    }
   ],
   "source": [
    "print(name[7])"
   ]
  },
  {
   "cell_type": "code",
   "execution_count": 107,
   "id": "54c03359",
   "metadata": {},
   "outputs": [
    {
     "name": "stdout",
     "output_type": "stream",
     "text": [
      "a\n"
     ]
    }
   ],
   "source": [
    "print(name[-1])"
   ]
  },
  {
   "cell_type": "code",
   "execution_count": 108,
   "id": "8d8234fc",
   "metadata": {},
   "outputs": [
    {
     "ename": "IndexError",
     "evalue": "string index out of range",
     "output_type": "error",
     "traceback": [
      "\u001b[1;31m---------------------------------------------------------------------------\u001b[0m",
      "\u001b[1;31mIndexError\u001b[0m                                Traceback (most recent call last)",
      "\u001b[1;32m~\\AppData\\Local\\Temp\\ipykernel_10308\\2475380930.py\u001b[0m in \u001b[0;36m<module>\u001b[1;34m\u001b[0m\n\u001b[1;32m----> 1\u001b[1;33m \u001b[0mprint\u001b[0m\u001b[1;33m(\u001b[0m\u001b[0mname\u001b[0m\u001b[1;33m[\u001b[0m\u001b[1;36m8\u001b[0m\u001b[1;33m]\u001b[0m\u001b[1;33m)\u001b[0m\u001b[1;33m\u001b[0m\u001b[1;33m\u001b[0m\u001b[0m\n\u001b[0m",
      "\u001b[1;31mIndexError\u001b[0m: string index out of range"
     ]
    }
   ],
   "source": [
    "print(name[8])"
   ]
  },
  {
   "cell_type": "code",
   "execution_count": null,
   "id": "0e27732b",
   "metadata": {},
   "outputs": [],
   "source": []
  },
  {
   "cell_type": "code",
   "execution_count": null,
   "id": "ff1d4802",
   "metadata": {},
   "outputs": [],
   "source": []
  },
  {
   "cell_type": "code",
   "execution_count": null,
   "id": "882db19d",
   "metadata": {},
   "outputs": [],
   "source": []
  },
  {
   "cell_type": "code",
   "execution_count": null,
   "id": "2ee4d772",
   "metadata": {},
   "outputs": [],
   "source": [
    "print(name[0])     #First element\n",
    "print(name[3])     \n",
    "print(name[7])     \n",
    "# print(name[9])   #IndexError :- string index out of range"
   ]
  },
  {
   "cell_type": "code",
   "execution_count": null,
   "id": "8e197378",
   "metadata": {},
   "outputs": [],
   "source": [
    "# Negative Index Number\n",
    "\n",
    "print(name[-8])     \n",
    "print(name[-5])     \n",
    "print(name[-1])    #Last element"
   ]
  },
  {
   "cell_type": "code",
   "execution_count": null,
   "id": "01609052",
   "metadata": {},
   "outputs": [],
   "source": []
  },
  {
   "cell_type": "code",
   "execution_count": 110,
   "id": "a4842430",
   "metadata": {},
   "outputs": [],
   "source": [
    "b = \"sghfk\""
   ]
  },
  {
   "cell_type": "code",
   "execution_count": 111,
   "id": "aafa1fb3",
   "metadata": {},
   "outputs": [
    {
     "name": "stdout",
     "output_type": "stream",
     "text": [
      "g\n"
     ]
    }
   ],
   "source": [
    "print(b[-4])"
   ]
  },
  {
   "cell_type": "code",
   "execution_count": 112,
   "id": "a0746193",
   "metadata": {},
   "outputs": [
    {
     "name": "stdout",
     "output_type": "stream",
     "text": [
      "f\n"
     ]
    }
   ],
   "source": [
    "print(b[3])"
   ]
  },
  {
   "cell_type": "code",
   "execution_count": null,
   "id": "d3f1c59e",
   "metadata": {},
   "outputs": [],
   "source": []
  },
  {
   "cell_type": "code",
   "execution_count": null,
   "id": "de0886b6",
   "metadata": {},
   "outputs": [],
   "source": []
  },
  {
   "cell_type": "markdown",
   "id": "2292dec4",
   "metadata": {},
   "source": [
    "## Slicing"
   ]
  },
  {
   "cell_type": "markdown",
   "id": "d4e473f3",
   "metadata": {},
   "source": [
    "\n",
    "Slicing :-\n",
    "\n",
    "    Slicing in Python is a feature that enables accessing parts of the sequence. \n",
    "    We use slicing when we require a part of the string and not the complete string.\n",
    "    \n",
    "Syntax :\n",
    "        string[start : end : step]\n",
    "\n",
    "    start : We provide the starting index.\n",
    "    end : We provide the end index(this is not included in substring).\n",
    "    step : It is an optional argument that determines the increment between each index for slicing."
   ]
  },
  {
   "cell_type": "code",
   "execution_count": 113,
   "id": "7d02d28d",
   "metadata": {},
   "outputs": [
    {
     "name": "stdout",
     "output_type": "stream",
     "text": [
      "This is python class for Data Analyst.\n",
      "<class 'str'>\n",
      "38\n"
     ]
    }
   ],
   "source": [
    "#         0123456789   13\n",
    "string = \"This is python class for Data Analyst.\"\n",
    "#                 8\n",
    "\n",
    "#left ------------------>right\n",
    "\n",
    "print(string)\n",
    "print(type(string))\n",
    "print(len(string))"
   ]
  },
  {
   "cell_type": "code",
   "execution_count": 126,
   "id": "9ecf59bf",
   "metadata": {},
   "outputs": [
    {
     "name": "stdout",
     "output_type": "stream",
     "text": [
      "6\n"
     ]
    }
   ],
   "source": [
    "#Indexing\n",
    "print(len(string[14:8:-1]))"
   ]
  },
  {
   "cell_type": "code",
   "execution_count": 127,
   "id": "47bba82e",
   "metadata": {},
   "outputs": [
    {
     "data": {
      "text/plain": [
       "' nohty'"
      ]
     },
     "execution_count": 127,
     "metadata": {},
     "output_type": "execute_result"
    }
   ],
   "source": [
    "string[14:8:-1]"
   ]
  },
  {
   "cell_type": "code",
   "execution_count": 124,
   "id": "2ca54e80",
   "metadata": {},
   "outputs": [
    {
     "data": {
      "text/plain": [
       "'nohtyp'"
      ]
     },
     "execution_count": 124,
     "metadata": {},
     "output_type": "execute_result"
    }
   ],
   "source": [
    "b=\"python\"\n",
    "b[::-1]"
   ]
  },
  {
   "cell_type": "code",
   "execution_count": 122,
   "id": "ca94fdf4",
   "metadata": {},
   "outputs": [
    {
     "name": "stdout",
     "output_type": "stream",
     "text": [
      "\n",
      "pytho\n"
     ]
    }
   ],
   "source": [
    "print(string[8:13])"
   ]
  },
  {
   "cell_type": "code",
   "execution_count": null,
   "id": "4463c7a5",
   "metadata": {},
   "outputs": [],
   "source": [
    "#Slicing\n",
    "print(string[-13:-9])"
   ]
  },
  {
   "cell_type": "code",
   "execution_count": 117,
   "id": "70cb38be",
   "metadata": {},
   "outputs": [
    {
     "name": "stdout",
     "output_type": "stream",
     "text": [
      "s is python class for Data Analyst.\n"
     ]
    }
   ],
   "source": [
    "print(string[3:])"
   ]
  },
  {
   "cell_type": "code",
   "execution_count": 119,
   "id": "fa31b051",
   "metadata": {},
   "outputs": [
    {
     "name": "stdout",
     "output_type": "stream",
     "text": [
      "This is python class for Data Analyst.\n"
     ]
    }
   ],
   "source": [
    "print(string[:])"
   ]
  },
  {
   "cell_type": "code",
   "execution_count": 120,
   "id": "57b694f1",
   "metadata": {},
   "outputs": [
    {
     "name": "stdout",
     "output_type": "stream",
     "text": [
      ".tsylanA ataD rof ssalc nohtyp si sihT\n"
     ]
    }
   ],
   "source": [
    "print(string[::-1])"
   ]
  },
  {
   "cell_type": "code",
   "execution_count": null,
   "id": "57ebb8d5",
   "metadata": {},
   "outputs": [],
   "source": [
    "string = \"This is python class for Data Analyst.\""
   ]
  },
  {
   "cell_type": "code",
   "execution_count": null,
   "id": "eac88f1b",
   "metadata": {},
   "outputs": [],
   "source": [
    "str2 = \"Python\"\n",
    " \n",
    "print(str2[:])      # Full string\n",
    "print(str2[::-1])   # Reverse string"
   ]
  },
  {
   "cell_type": "code",
   "execution_count": 129,
   "id": "dc8fff2f",
   "metadata": {},
   "outputs": [
    {
     "ename": "TypeError",
     "evalue": "'str' object does not support item assignment",
     "output_type": "error",
     "traceback": [
      "\u001b[1;31m---------------------------------------------------------------------------\u001b[0m",
      "\u001b[1;31mTypeError\u001b[0m                                 Traceback (most recent call last)",
      "\u001b[1;32m~\\AppData\\Local\\Temp\\ipykernel_10308\\1188531071.py\u001b[0m in \u001b[0;36m<module>\u001b[1;34m\u001b[0m\n\u001b[0;32m      1\u001b[0m \u001b[0mstr2\u001b[0m \u001b[1;33m=\u001b[0m \u001b[1;34m\"Python\"\u001b[0m\u001b[1;33m\u001b[0m\u001b[1;33m\u001b[0m\u001b[0m\n\u001b[1;32m----> 2\u001b[1;33m \u001b[0mstr2\u001b[0m\u001b[1;33m[\u001b[0m\u001b[1;36m2\u001b[0m\u001b[1;33m]\u001b[0m \u001b[1;33m=\u001b[0m \u001b[1;34m\"T\"\u001b[0m\u001b[1;33m\u001b[0m\u001b[1;33m\u001b[0m\u001b[0m\n\u001b[0m",
      "\u001b[1;31mTypeError\u001b[0m: 'str' object does not support item assignment"
     ]
    }
   ],
   "source": [
    "str2 = \"Python\"\n",
    "str2[2] = \"T\""
   ]
  },
  {
   "cell_type": "code",
   "execution_count": null,
   "id": "2e3de2a5",
   "metadata": {},
   "outputs": [],
   "source": [
    "# str2[0] = \"A\"  #TypeError :-'str' object does not support item assignment\n",
    "#String is immutable"
   ]
  },
  {
   "cell_type": "code",
   "execution_count": 130,
   "id": "2c083ac6",
   "metadata": {},
   "outputs": [
    {
     "name": "stdout",
     "output_type": "stream",
     "text": [
      "Python Class\n"
     ]
    }
   ],
   "source": [
    "#String Concatenation :-\n",
    "str2 = \"Python\"\n",
    "str3 = \" Class\"\n",
    "str4 = str2 + str3  \n",
    "print(str4)"
   ]
  },
  {
   "cell_type": "code",
   "execution_count": 131,
   "id": "77dabefb",
   "metadata": {},
   "outputs": [
    {
     "name": "stdout",
     "output_type": "stream",
     "text": [
      "PythonPythonPython\n"
     ]
    }
   ],
   "source": [
    "#String Repetation:-\n",
    "str2 = \"Python\"\n",
    "str5 = str2 * 3\n",
    "print(str5)"
   ]
  },
  {
   "cell_type": "code",
   "execution_count": null,
   "id": "8784c678",
   "metadata": {},
   "outputs": [],
   "source": [
    "print(\"Hi\" + \" Good\" + \" Morning\")\n",
    "# print(\"Five\" + 5)   #TypeError :- can only concatenate str (not \"int\") to str\n",
    "print(\"Five \" + '5')"
   ]
  },
  {
   "cell_type": "raw",
   "id": "a2b96c7f",
   "metadata": {},
   "source": [
    "\n",
    "string + string   ===> string\n",
    "string + int      ===> Error\n",
    "string + str(int) ===> string\n",
    "\n"
   ]
  },
  {
   "cell_type": "code",
   "execution_count": 132,
   "id": "d26b310e",
   "metadata": {},
   "outputs": [],
   "source": [
    "a=5"
   ]
  },
  {
   "cell_type": "code",
   "execution_count": 135,
   "id": "34a99f85",
   "metadata": {},
   "outputs": [
    {
     "data": {
      "text/plain": [
       "str"
      ]
     },
     "execution_count": 135,
     "metadata": {},
     "output_type": "execute_result"
    }
   ],
   "source": [
    "type(str(a))"
   ]
  },
  {
   "cell_type": "markdown",
   "id": "fec863d8",
   "metadata": {},
   "source": [
    "## STRING FORMATTING"
   ]
  },
  {
   "cell_type": "raw",
   "id": "8df6f611",
   "metadata": {},
   "source": [
    "STRING FORMATTING\n",
    "\n",
    "     1) f-string\n",
    "     2) .format()\n",
    "\n",
    "placeholders {}\n",
    "\n",
    "\n",
    "\n",
    "\"My name is ---.I am --- years old\""
   ]
  },
  {
   "cell_type": "code",
   "execution_count": null,
   "id": "a2e496f0",
   "metadata": {},
   "outputs": [],
   "source": []
  },
  {
   "cell_type": "code",
   "execution_count": 138,
   "id": "5ac01544",
   "metadata": {},
   "outputs": [],
   "source": [
    "name =\"Praj\"\n",
    "age = 25"
   ]
  },
  {
   "cell_type": "code",
   "execution_count": null,
   "id": "a6f3cd0d",
   "metadata": {},
   "outputs": [],
   "source": []
  },
  {
   "cell_type": "code",
   "execution_count": 139,
   "id": "fa9ff6b1",
   "metadata": {},
   "outputs": [
    {
     "data": {
      "text/plain": [
       "'My name is Praj .I am 25 years old'"
      ]
     },
     "execution_count": 139,
     "metadata": {},
     "output_type": "execute_result"
    }
   ],
   "source": [
    "f\"My name is {name} .I am {age} years old\""
   ]
  },
  {
   "cell_type": "raw",
   "id": "7f4064b4",
   "metadata": {},
   "source": [
    "#  .format()"
   ]
  },
  {
   "cell_type": "code",
   "execution_count": 140,
   "id": "9b576ded",
   "metadata": {},
   "outputs": [
    {
     "data": {
      "text/plain": [
       "'My name is Praj.I am 25 years old'"
      ]
     },
     "execution_count": 140,
     "metadata": {},
     "output_type": "execute_result"
    }
   ],
   "source": [
    "\"My name is {}.I am {} years old\".format(name,age)"
   ]
  },
  {
   "cell_type": "code",
   "execution_count": 141,
   "id": "ee1fc853",
   "metadata": {},
   "outputs": [
    {
     "data": {
      "text/plain": [
       "'My name is 25.I am Praj years old'"
      ]
     },
     "execution_count": 141,
     "metadata": {},
     "output_type": "execute_result"
    }
   ],
   "source": [
    "\"My name is {}.I am {} years old\".format(age,name)\n",
    "#                                         0   1"
   ]
  },
  {
   "cell_type": "code",
   "execution_count": 142,
   "id": "8adec363",
   "metadata": {},
   "outputs": [
    {
     "data": {
      "text/plain": [
       "'My name is Praj.I am 25 years old'"
      ]
     },
     "execution_count": 142,
     "metadata": {},
     "output_type": "execute_result"
    }
   ],
   "source": [
    "\"My name is {1}.I am {0} years old\".format(age,name)\n",
    "#                                           0    1"
   ]
  },
  {
   "cell_type": "code",
   "execution_count": 148,
   "id": "b8ffb89e",
   "metadata": {},
   "outputs": [],
   "source": [
    "a=\"My name is {1}.I am {0} years old\""
   ]
  },
  {
   "cell_type": "code",
   "execution_count": 147,
   "id": "fac42aae",
   "metadata": {},
   "outputs": [
    {
     "data": {
      "text/plain": [
       "'My name is {}.I am {} years old'"
      ]
     },
     "execution_count": 147,
     "metadata": {},
     "output_type": "execute_result"
    }
   ],
   "source": [
    "a"
   ]
  },
  {
   "cell_type": "code",
   "execution_count": null,
   "id": "d052abdb",
   "metadata": {},
   "outputs": [],
   "source": []
  },
  {
   "cell_type": "code",
   "execution_count": 149,
   "id": "22344168",
   "metadata": {},
   "outputs": [
    {
     "data": {
      "text/plain": [
       "'My name is 25.I am Praj years old'"
      ]
     },
     "execution_count": 149,
     "metadata": {},
     "output_type": "execute_result"
    }
   ],
   "source": [
    "a.format(name,age)\n",
    "#         0    1"
   ]
  },
  {
   "cell_type": "code",
   "execution_count": null,
   "id": "874fe663",
   "metadata": {},
   "outputs": [],
   "source": [
    "a"
   ]
  },
  {
   "cell_type": "markdown",
   "id": "5b8cebdc",
   "metadata": {},
   "source": [
    "## String Methods"
   ]
  },
  {
   "cell_type": "raw",
   "id": "94e65440",
   "metadata": {},
   "source": [
    "\"\"\"\n",
    " String Methods :-\n",
    "\n",
    " syntax:-\n",
    "        stringVariableName.method()\n",
    "\"\"\""
   ]
  },
  {
   "cell_type": "code",
   "execution_count": 156,
   "id": "bea69b11",
   "metadata": {},
   "outputs": [],
   "source": [
    "String = \"Pythonclass\"  #(a-z A-Z 0-9)\n",
    "# isalnum() \n",
    "# Returns True if all characters in the string are alphanumeric .meaning alphabet letter (a-z) and numbers (0-9\n",
    "# not alphanumeric: (space)!#%&? "
   ]
  },
  {
   "cell_type": "code",
   "execution_count": 154,
   "id": "2d9dc976",
   "metadata": {},
   "outputs": [
    {
     "data": {
      "text/plain": [
       "False"
      ]
     },
     "execution_count": 154,
     "metadata": {},
     "output_type": "execute_result"
    }
   ],
   "source": [
    "String.isalnum()"
   ]
  },
  {
   "cell_type": "code",
   "execution_count": null,
   "id": "960f31c3",
   "metadata": {},
   "outputs": [],
   "source": [
    "str1 = String.isalnum()\n",
    "str1"
   ]
  },
  {
   "cell_type": "code",
   "execution_count": 157,
   "id": "c728973c",
   "metadata": {},
   "outputs": [
    {
     "data": {
      "text/plain": [
       "True"
      ]
     },
     "execution_count": 157,
     "metadata": {},
     "output_type": "execute_result"
    }
   ],
   "source": [
    "# isalpha()\n",
    "# Returns True if all characters in the string are alphabet letters. (a-z)\n",
    "str1 = String.isalpha() \n",
    "str1"
   ]
  },
  {
   "cell_type": "code",
   "execution_count": null,
   "id": "4c4942b8",
   "metadata": {},
   "outputs": [],
   "source": [
    "# upper() \n",
    "# Converts a string into upper case\n",
    "\n",
    "String = \"Python class\"\n",
    "b1 = String.upper()\n",
    "print(b1)"
   ]
  },
  {
   "cell_type": "code",
   "execution_count": 158,
   "id": "fafd27d2",
   "metadata": {},
   "outputs": [
    {
     "name": "stdout",
     "output_type": "stream",
     "text": [
      "PYTHON CLASS\n"
     ]
    }
   ],
   "source": []
  },
  {
   "cell_type": "code",
   "execution_count": 159,
   "id": "964ee9cd",
   "metadata": {},
   "outputs": [
    {
     "name": "stdout",
     "output_type": "stream",
     "text": [
      "True\n"
     ]
    }
   ],
   "source": [
    "#isupper()\n",
    "a3 = \"JAIPUR\"\n",
    "b3 = a3.isupper()\n",
    "print(b3)"
   ]
  },
  {
   "cell_type": "code",
   "execution_count": 160,
   "id": "6e8a60ed",
   "metadata": {},
   "outputs": [
    {
     "name": "stdout",
     "output_type": "stream",
     "text": [
      "True\n"
     ]
    }
   ],
   "source": [
    "#islower()\n",
    "a4 = \"wardha\"\n",
    "b4 = a4.islower()\n",
    "print(b4)"
   ]
  },
  {
   "cell_type": "code",
   "execution_count": 161,
   "id": "ae004e3d",
   "metadata": {},
   "outputs": [
    {
     "name": "stdout",
     "output_type": "stream",
     "text": [
      "My name\n"
     ]
    }
   ],
   "source": [
    "#capitalize()\n",
    "\n",
    "a5 = \"my name\"\n",
    "b5 = a5.capitalize()\n",
    "print(b5)"
   ]
  },
  {
   "cell_type": "code",
   "execution_count": 162,
   "id": "2db7439c",
   "metadata": {},
   "outputs": [
    {
     "data": {
      "text/plain": [
       "'My Name'"
      ]
     },
     "execution_count": 162,
     "metadata": {},
     "output_type": "execute_result"
    }
   ],
   "source": [
    "a5.title()"
   ]
  },
  {
   "cell_type": "code",
   "execution_count": 163,
   "id": "2c8dc267",
   "metadata": {},
   "outputs": [
    {
     "data": {
      "text/plain": [
       "'dATA SCIENCE mASTERS'"
      ]
     },
     "execution_count": 163,
     "metadata": {},
     "output_type": "execute_result"
    }
   ],
   "source": [
    "#swapcase()\n",
    "name=\"Data science Masters\"\n",
    "name.swapcase()"
   ]
  },
  {
   "cell_type": "code",
   "execution_count": 164,
   "id": "41e0beab",
   "metadata": {},
   "outputs": [
    {
     "name": "stdout",
     "output_type": "stream",
     "text": [
      "False\n"
     ]
    }
   ],
   "source": [
    "# startswith()\n",
    "\n",
    "a6 = \"delhi\"\n",
    "b6 = a6.startswith(\"h\")\n",
    "print(b6)"
   ]
  },
  {
   "cell_type": "code",
   "execution_count": 165,
   "id": "ddee7789",
   "metadata": {},
   "outputs": [
    {
     "name": "stdout",
     "output_type": "stream",
     "text": [
      "True\n"
     ]
    }
   ],
   "source": [
    "#endswith()\n",
    "\n",
    "a7 = \"akola\"\n",
    "b7 = a7.endswith(\"la\")\n",
    "print(b7)"
   ]
  },
  {
   "cell_type": "code",
   "execution_count": 167,
   "id": "43951e7b",
   "metadata": {},
   "outputs": [
    {
     "name": "stdout",
     "output_type": "stream",
     "text": [
      "5\n"
     ]
    }
   ],
   "source": [
    "#index()\n",
    "\n",
    "a8 = \"I am learning javascript\"\n",
    "b8 = a8.index(\"l\")\n",
    "print(b8)"
   ]
  },
  {
   "cell_type": "code",
   "execution_count": 168,
   "id": "3544d73d",
   "metadata": {},
   "outputs": [
    {
     "name": "stdout",
     "output_type": "stream",
     "text": [
      "2\n"
     ]
    }
   ],
   "source": [
    "#count()\n",
    "\n",
    "a9 = \"abhisha\"\n",
    "b9 = a9.count('a')\n",
    "print(b9)"
   ]
  },
  {
   "cell_type": "code",
   "execution_count": 169,
   "id": "dfbb0a82",
   "metadata": {},
   "outputs": [
    {
     "name": "stdout",
     "output_type": "stream",
     "text": [
      "I am learning python\n"
     ]
    }
   ],
   "source": [
    "#replace()\n",
    "a10 = \"I am learning javascript\"\n",
    "b10 = a10.replace('javascript','python')\n",
    "print(b10)"
   ]
  },
  {
   "cell_type": "code",
   "execution_count": 170,
   "id": "0ac99e4d",
   "metadata": {},
   "outputs": [
    {
     "data": {
      "text/plain": [
       "6"
      ]
     },
     "execution_count": 170,
     "metadata": {},
     "output_type": "execute_result"
    }
   ],
   "source": [
    "# strip : Returns a trimmed version of the string\n",
    "\n",
    "a11 = \" amol \"\n",
    "len(a11)"
   ]
  },
  {
   "cell_type": "code",
   "execution_count": 171,
   "id": "c281e9fa",
   "metadata": {},
   "outputs": [
    {
     "name": "stdout",
     "output_type": "stream",
     "text": [
      "amol\n",
      "4\n"
     ]
    }
   ],
   "source": [
    "b11 = a11.strip()\n",
    "print(b11)\n",
    "print(len(b11))"
   ]
  },
  {
   "cell_type": "code",
   "execution_count": 173,
   "id": "5f8d53f5",
   "metadata": {},
   "outputs": [
    {
     "name": "stdout",
     "output_type": "stream",
     "text": [
      "['abcdefghijklmn', 'gmail.com']\n"
     ]
    }
   ],
   "source": [
    "# split()\n",
    "#   Splits the string at the specified separator, and returns a list\n",
    "\n",
    "print(\"abcdefghijklmn@gmail.com\".split('@'))"
   ]
  },
  {
   "cell_type": "code",
   "execution_count": 174,
   "id": "5ffa62b8",
   "metadata": {},
   "outputs": [
    {
     "data": {
      "text/plain": [
       "['abc', 'efghijklmn@gmail.com']"
      ]
     },
     "execution_count": 174,
     "metadata": {},
     "output_type": "execute_result"
    }
   ],
   "source": [
    "\"abcdefghijklmn@gmail.com\".split('d')"
   ]
  },
  {
   "cell_type": "code",
   "execution_count": null,
   "id": "423ea7d7",
   "metadata": {},
   "outputs": [],
   "source": [
    "print(\"abcdefghijklmn@gmail.com\".split('g'))"
   ]
  },
  {
   "cell_type": "code",
   "execution_count": 172,
   "id": "d11101e4",
   "metadata": {},
   "outputs": [
    {
     "data": {
      "text/plain": [
       "['ab', 'defg']"
      ]
     },
     "execution_count": 172,
     "metadata": {},
     "output_type": "execute_result"
    }
   ],
   "source": [
    "\"abcdefg\".split(\"c\")"
   ]
  },
  {
   "cell_type": "code",
   "execution_count": null,
   "id": "2cca21f9",
   "metadata": {},
   "outputs": [],
   "source": [
    "email=\"abcdefghijklmn@gmail.com\"\n",
    "print(email.split(\"@\"))"
   ]
  },
  {
   "cell_type": "code",
   "execution_count": 182,
   "id": "7c729d01",
   "metadata": {},
   "outputs": [
    {
     "data": {
      "text/plain": [
       "'Abc'"
      ]
     },
     "execution_count": 182,
     "metadata": {},
     "output_type": "execute_result"
    }
   ],
   "source": [
    "a = \"abc\"\n",
    "a.replace(\"a\",\"A\")"
   ]
  },
  {
   "cell_type": "markdown",
   "id": "8174933a",
   "metadata": {},
   "source": [
    "## List"
   ]
  },
  {
   "cell_type": "markdown",
   "id": "422bc457",
   "metadata": {},
   "source": [
    "List\n",
    "    The list is a sequence data type which is used to store the collection of data.\n",
    "    List is mutable."
   ]
  },
  {
   "cell_type": "code",
   "execution_count": 176,
   "id": "d88ec86d",
   "metadata": {},
   "outputs": [
    {
     "data": {
      "text/plain": [
       "list"
      ]
     },
     "execution_count": 176,
     "metadata": {},
     "output_type": "execute_result"
    }
   ],
   "source": [
    "lst = [1,2,3]\n",
    "type(lst)"
   ]
  },
  {
   "cell_type": "markdown",
   "id": "95f90b84",
   "metadata": {},
   "source": []
  },
  {
   "cell_type": "code",
   "execution_count": 178,
   "id": "452709ce",
   "metadata": {},
   "outputs": [],
   "source": [
    "l = [1,2,2]"
   ]
  },
  {
   "cell_type": "code",
   "execution_count": 179,
   "id": "cc9d8240",
   "metadata": {},
   "outputs": [
    {
     "name": "stdout",
     "output_type": "stream",
     "text": [
      "<class 'list'>\n",
      "3\n"
     ]
    }
   ],
   "source": [
    "print(type(l))\n",
    "print(len(l))"
   ]
  },
  {
   "cell_type": "code",
   "execution_count": 183,
   "id": "c1b3cc40",
   "metadata": {},
   "outputs": [],
   "source": [
    "a = [1,2,3,4,\"5\",\"6\",\"7\",\"Hello\",\"World\",True,False,\"Houndred\"]"
   ]
  },
  {
   "cell_type": "code",
   "execution_count": null,
   "id": "910909d2",
   "metadata": {},
   "outputs": [],
   "source": [
    " \n",
    "print(a)"
   ]
  },
  {
   "cell_type": "code",
   "execution_count": null,
   "id": "099b2848",
   "metadata": {},
   "outputs": [],
   "source": [
    "print(len(a))"
   ]
  },
  {
   "cell_type": "code",
   "execution_count": null,
   "id": "0159535a",
   "metadata": {},
   "outputs": [],
   "source": [
    "print(a[2])\n",
    "print(a[3])"
   ]
  },
  {
   "cell_type": "code",
   "execution_count": 184,
   "id": "1eaedfd4",
   "metadata": {},
   "outputs": [
    {
     "name": "stdout",
     "output_type": "stream",
     "text": [
      "Four\n"
     ]
    }
   ],
   "source": [
    "a[3] = \"Four\"\n",
    "print(a[3])"
   ]
  },
  {
   "cell_type": "code",
   "execution_count": 185,
   "id": "37b4c396",
   "metadata": {},
   "outputs": [
    {
     "data": {
      "text/plain": [
       "[1, 2, 3, 'Four', '5', '6', '7', 'Hello', 'World', True, False, 'Houndred']"
      ]
     },
     "execution_count": 185,
     "metadata": {},
     "output_type": "execute_result"
    }
   ],
   "source": [
    "a"
   ]
  },
  {
   "cell_type": "code",
   "execution_count": null,
   "id": "8a1a9cb9",
   "metadata": {},
   "outputs": [],
   "source": [
    "print(a[-1])"
   ]
  },
  {
   "cell_type": "code",
   "execution_count": null,
   "id": "6920757a",
   "metadata": {},
   "outputs": [],
   "source": [
    "print(a.reverse())"
   ]
  },
  {
   "cell_type": "code",
   "execution_count": null,
   "id": "1aa7aa7e",
   "metadata": {},
   "outputs": [],
   "source": [
    "a.reverse()"
   ]
  },
  {
   "cell_type": "code",
   "execution_count": null,
   "id": "93701b6a",
   "metadata": {},
   "outputs": [],
   "source": [
    "a"
   ]
  },
  {
   "cell_type": "markdown",
   "id": "1db533e3",
   "metadata": {},
   "source": [
    "## for loop"
   ]
  },
  {
   "cell_type": "code",
   "execution_count": null,
   "id": "877ff5d6",
   "metadata": {},
   "outputs": [],
   "source": [
    "# iterate over the list items \n",
    "\n",
    "a = [1,2,3,4,\"5\",\"6\",\"7\",\"Hello\",\"World\",True,False,\"Houndred\"] "
   ]
  },
  {
   "cell_type": "code",
   "execution_count": null,
   "id": "f24bc420",
   "metadata": {},
   "outputs": [],
   "source": [
    "for i in range(len(a)):\n",
    "    print(a[i])"
   ]
  },
  {
   "cell_type": "code",
   "execution_count": null,
   "id": "c3886026",
   "metadata": {},
   "outputs": [],
   "source": [
    "for i in a:\n",
    "    print(i)"
   ]
  },
  {
   "cell_type": "markdown",
   "id": "a5dd22ee",
   "metadata": {},
   "source": [
    "## Range()"
   ]
  },
  {
   "cell_type": "raw",
   "id": "a43ec40b",
   "metadata": {},
   "source": [
    "\n",
    "Range():-\n",
    "    The range() function returns a sequence of numbers, starting from 0 by default,\n",
    "    and increments by 1 (by default), and stops before a specified number.\n",
    "Syntax\n",
    "    range(start, stop, step)\n",
    "\n",
    "    Parameter\tDescription\n",
    "    start\t    Optional. An integer number specifying at which position to start. Default is 0\n",
    "    stop\t    Required. An integer number specifying at which position to stop (not included).\n",
    "    step\t    Optional. An integer number specifying the incrementation. Default is 1"
   ]
  },
  {
   "cell_type": "code",
   "execution_count": null,
   "id": "2102e4fd",
   "metadata": {},
   "outputs": [],
   "source": [
    "#eg.1\n",
    "a = range(10)\n",
    "print(a)"
   ]
  },
  {
   "cell_type": "code",
   "execution_count": null,
   "id": "0eeaf334",
   "metadata": {},
   "outputs": [],
   "source": [
    "for i in a:\n",
    "    print (i)"
   ]
  },
  {
   "cell_type": "code",
   "execution_count": null,
   "id": "dc49cc3a",
   "metadata": {},
   "outputs": [],
   "source": [
    "#eg.2\n",
    "b = list(range (6))\n",
    "print(b)"
   ]
  },
  {
   "cell_type": "code",
   "execution_count": null,
   "id": "68c1301f",
   "metadata": {},
   "outputs": [],
   "source": [
    "#eg.3 Create a sequence of numbers from 3 to 5, and print each item in the sequence:\n",
    "x = range(3, 6)\n",
    "for n in x:\n",
    "    print(n)"
   ]
  },
  {
   "cell_type": "code",
   "execution_count": null,
   "id": "6c0cc4fa",
   "metadata": {},
   "outputs": [],
   "source": [
    "# eg.4\n",
    "x = range(1, 6)\n",
    "print(x)"
   ]
  },
  {
   "cell_type": "raw",
   "id": "391a95a9",
   "metadata": {},
   "source": [
    "## Casting"
   ]
  },
  {
   "cell_type": "code",
   "execution_count": null,
   "id": "66e1e270",
   "metadata": {},
   "outputs": [],
   "source": [
    "# eg.5\n",
    "a = list(range(1, 6))"
   ]
  },
  {
   "cell_type": "code",
   "execution_count": null,
   "id": "9f4469f4",
   "metadata": {},
   "outputs": [],
   "source": [
    "a"
   ]
  },
  {
   "cell_type": "code",
   "execution_count": null,
   "id": "a7b83d32",
   "metadata": {},
   "outputs": [],
   "source": [
    "type(a)"
   ]
  },
  {
   "cell_type": "code",
   "execution_count": null,
   "id": "daa5a63c",
   "metadata": {},
   "outputs": [],
   "source": [
    "# eg.6\n",
    "b= tuple(range(1, 10))\n",
    "print(b)\n",
    "print(type(b))"
   ]
  },
  {
   "cell_type": "code",
   "execution_count": null,
   "id": "b5b4c7ac",
   "metadata": {},
   "outputs": [],
   "source": [
    "\"#Step\"\n",
    "# eg.7\n",
    "a = list(range(0,50,5))\n",
    "print(a)\n",
    "print(type(a))"
   ]
  },
  {
   "cell_type": "code",
   "execution_count": null,
   "id": "e3172eb9",
   "metadata": {},
   "outputs": [],
   "source": [
    "# eg.8\n",
    "a = list(range(0,41,4))\n",
    "print(a)\n",
    "print(type(a))"
   ]
  },
  {
   "cell_type": "code",
   "execution_count": null,
   "id": "85c85c78",
   "metadata": {},
   "outputs": [],
   "source": []
  },
  {
   "cell_type": "code",
   "execution_count": null,
   "id": "55fcca96",
   "metadata": {},
   "outputs": [],
   "source": []
  },
  {
   "cell_type": "code",
   "execution_count": null,
   "id": "aaaac6cd",
   "metadata": {},
   "outputs": [],
   "source": []
  },
  {
   "cell_type": "code",
   "execution_count": null,
   "id": "96aea27f",
   "metadata": {},
   "outputs": [],
   "source": [
    "for i in range(0,10):\n",
    "    print(i)\n",
    "    \n",
    "\n",
    "\n",
    "# for l in a:\n",
    "    # print(l,a[l])\n",
    "    # print(a[l])"
   ]
  },
  {
   "cell_type": "code",
   "execution_count": null,
   "id": "34439ef3",
   "metadata": {},
   "outputs": [],
   "source": [
    "a= [1, 2, 3, 4, '5', '6', '7', 'Hello', 'World', True, False, 'Houndred']\n"
   ]
  },
  {
   "cell_type": "code",
   "execution_count": null,
   "id": "91426750",
   "metadata": {},
   "outputs": [],
   "source": [
    "# ### Slicing\n",
    "#a[starting_index:ending_index:jump]\n",
    "# All Elements\n"
   ]
  },
  {
   "cell_type": "code",
   "execution_count": null,
   "id": "83ffbfa0",
   "metadata": {},
   "outputs": [],
   "source": [
    "print(a[3:]) # From 3 to foward"
   ]
  },
  {
   "cell_type": "code",
   "execution_count": null,
   "id": "a978b31f",
   "metadata": {},
   "outputs": [],
   "source": [
    "print(a[5:8] )# Between 5 and 8 (5,8)"
   ]
  },
  {
   "cell_type": "code",
   "execution_count": null,
   "id": "09f6d40f",
   "metadata": {},
   "outputs": [],
   "source": [
    "print(a[:3] )# from start to 3 "
   ]
  },
  {
   "cell_type": "code",
   "execution_count": null,
   "id": "f9372e83",
   "metadata": {},
   "outputs": [],
   "source": [
    "print(a[::]) #start_index:Ending_index:Jump(how many index we want to skip)"
   ]
  },
  {
   "cell_type": "code",
   "execution_count": null,
   "id": "18a347a8",
   "metadata": {},
   "outputs": [],
   "source": []
  },
  {
   "cell_type": "code",
   "execution_count": null,
   "id": "837b3e20",
   "metadata": {},
   "outputs": [],
   "source": [
    "# Reverse"
   ]
  },
  {
   "cell_type": "code",
   "execution_count": null,
   "id": "5b916545",
   "metadata": {},
   "outputs": [],
   "source": [
    "# ### Concatenate\n",
    "b = [1,2,3,4]\n",
    "c = [4,6,7,8]\n",
    "n = b + c\n",
    "n"
   ]
  },
  {
   "cell_type": "code",
   "execution_count": null,
   "id": "18c7852c",
   "metadata": {},
   "outputs": [],
   "source": []
  },
  {
   "cell_type": "code",
   "execution_count": null,
   "id": "bb0bfe60",
   "metadata": {},
   "outputs": [],
   "source": []
  },
  {
   "cell_type": "code",
   "execution_count": null,
   "id": "bf7e201d",
   "metadata": {},
   "outputs": [],
   "source": [
    "# ### Data Manipulation\n",
    "\n",
    "a = [1,2,3,4,\"5\",\"6\",\"7\",\"Hello\",\"World\",True,False,\"Houndred\"]\n",
    "print(a)"
   ]
  },
  {
   "cell_type": "code",
   "execution_count": null,
   "id": "381377d0",
   "metadata": {},
   "outputs": [],
   "source": [
    "print(a[4])\n",
    "print(type(a[4]))\n",
    "print(type(a[5]))"
   ]
  },
  {
   "cell_type": "code",
   "execution_count": null,
   "id": "bcbf872c",
   "metadata": {},
   "outputs": [],
   "source": [
    "a[4] = 5\n",
    "print(a)\n",
    "print(type(a[4]))"
   ]
  },
  {
   "cell_type": "code",
   "execution_count": null,
   "id": "d8feed7b",
   "metadata": {},
   "outputs": [],
   "source": [
    "complex_list = [1,\"1\",[1],[\"1\"],[[1],[\"hello\"]]]"
   ]
  },
  {
   "cell_type": "code",
   "execution_count": null,
   "id": "3756963a",
   "metadata": {},
   "outputs": [],
   "source": []
  },
  {
   "cell_type": "code",
   "execution_count": null,
   "id": "755dce4b",
   "metadata": {},
   "outputs": [],
   "source": [
    "#\"hello\""
   ]
  },
  {
   "cell_type": "code",
   "execution_count": null,
   "id": "2ec329a2",
   "metadata": {},
   "outputs": [],
   "source": [
    "# l"
   ]
  },
  {
   "cell_type": "code",
   "execution_count": null,
   "id": "471473a6",
   "metadata": {},
   "outputs": [],
   "source": []
  },
  {
   "cell_type": "markdown",
   "id": "76a61a51",
   "metadata": {},
   "source": [
    "## Method"
   ]
  },
  {
   "cell_type": "code",
   "execution_count": null,
   "id": "ea54e264",
   "metadata": {},
   "outputs": [],
   "source": [
    "a = [1,2,3,4,\"5\",\"6\",\"7\",\"Hello\",\"World\",True,False,\"Houndred\"]"
   ]
  },
  {
   "cell_type": "code",
   "execution_count": null,
   "id": "9a495539",
   "metadata": {},
   "outputs": [],
   "source": [
    "a.append(\"This is a another String\") # Add an element\n",
    "print(a)"
   ]
  },
  {
   "cell_type": "code",
   "execution_count": null,
   "id": "78f224ac",
   "metadata": {},
   "outputs": [],
   "source": [
    "a.remove(\"This is a another String\") # remove element\n",
    "print(a)"
   ]
  },
  {
   "cell_type": "code",
   "execution_count": null,
   "id": "b109b0d7",
   "metadata": {},
   "outputs": [],
   "source": [
    "print(a.pop(5)) # remove element\n",
    "print(a)"
   ]
  },
  {
   "cell_type": "code",
   "execution_count": null,
   "id": "77dcbe69",
   "metadata": {},
   "outputs": [],
   "source": [
    "a[5:6] = [6,7]\n",
    "print(a)"
   ]
  },
  {
   "cell_type": "code",
   "execution_count": null,
   "id": "c9034a25",
   "metadata": {},
   "outputs": [],
   "source": [
    "# The insert() method inserts an item at the specified index:\n",
    "b = [8, 9, 12]\n",
    "b.insert(2, 40)\n",
    "print(b)"
   ]
  },
  {
   "cell_type": "code",
   "execution_count": null,
   "id": "3b0acca3",
   "metadata": {},
   "outputs": [],
   "source": [
    "# To add an item to the end of the list, use the append() method:\n",
    "b = [8, 9, 12]\n",
    "b.append(40)\n",
    "print(b)"
   ]
  },
  {
   "cell_type": "code",
   "execution_count": null,
   "id": "31b55e0d",
   "metadata": {},
   "outputs": [],
   "source": [
    "b = [8, 9, 12]\n",
    "b.append([23,24,25])\n",
    "print(b)"
   ]
  },
  {
   "cell_type": "code",
   "execution_count": null,
   "id": "c87a88f1",
   "metadata": {},
   "outputs": [],
   "source": [
    "# To append elements from another list to the current list, use the extend() method.\n",
    "b = [8, 9, 12]\n",
    "b.extend([23,24,25])\n",
    "print(b)"
   ]
  },
  {
   "cell_type": "code",
   "execution_count": null,
   "id": "2c6b06f0",
   "metadata": {},
   "outputs": [],
   "source": [
    "# The remove() method removes the specified item.\n",
    "b = [8, 9, 12, 23,18, 24, 25]\n",
    "b.remove(18)\n",
    "print(b)"
   ]
  },
  {
   "cell_type": "code",
   "execution_count": null,
   "id": "278f562f",
   "metadata": {},
   "outputs": [],
   "source": [
    "# The pop() method removes the specified index.\n",
    "b = [8, 9, 12, 23,18, 24, 25]\n",
    "print(b.pop(2))\n",
    "print(b)"
   ]
  },
  {
   "cell_type": "code",
   "execution_count": null,
   "id": "433d1cb3",
   "metadata": {},
   "outputs": [],
   "source": [
    "# If you do not specify the index, the pop() method removes the last item.\n",
    "b = [8, 9, 12, 23,18, 24, 25]\n",
    "print(b.pop())\n",
    "print(b)"
   ]
  },
  {
   "cell_type": "code",
   "execution_count": null,
   "id": "f6d78508",
   "metadata": {},
   "outputs": [],
   "source": []
  },
  {
   "cell_type": "code",
   "execution_count": null,
   "id": "6bb448ec",
   "metadata": {},
   "outputs": [],
   "source": [
    "# The del keyword also removes the specified index:\n",
    "b = [8, 9, 12, 23,18, 24, 25]\n",
    "del b[3]\n",
    "print(b)"
   ]
  },
  {
   "cell_type": "code",
   "execution_count": null,
   "id": "8e72266d",
   "metadata": {},
   "outputs": [],
   "source": [
    "# The del keyword can also delete the list completely.\n",
    "b = [8, 9, 12, 23,18, 24, 25]\n",
    "del b\n",
    "# print(b)"
   ]
  },
  {
   "cell_type": "code",
   "execution_count": null,
   "id": "60c5f21f",
   "metadata": {},
   "outputs": [],
   "source": [
    "# The clear() method empties the list.\n",
    "b = [8, 9, 12, 23,18, 24, 25]\n",
    "b.clear()\n",
    "print(b)"
   ]
  },
  {
   "cell_type": "code",
   "execution_count": null,
   "id": "28a37841",
   "metadata": {},
   "outputs": [],
   "source": [
    "\n",
    "# Sort the list alphabetically:\n",
    "\n",
    "thislist = [\"orange\", \"mango\", \"kiwi\", \"pineapple\", \"banana\"]\n",
    "thislist.sort()\n",
    "print(thislist)"
   ]
  },
  {
   "cell_type": "code",
   "execution_count": null,
   "id": "59d21a12",
   "metadata": {},
   "outputs": [],
   "source": [
    "# Sort the list numerically:\n",
    "\n",
    "thislist = [100, 50, 65, 82, 23]\n",
    "thislist.sort()\n",
    "print(thislist)"
   ]
  },
  {
   "cell_type": "code",
   "execution_count": null,
   "id": "86a5edd3",
   "metadata": {},
   "outputs": [],
   "source": [
    "# Sort Descending\n",
    "# To sort descending, use the keyword argument reverse = True:\n",
    "\n",
    "# Example\n",
    "# Sort the list descending:\n",
    "\n",
    "thislist = [\"orange\", \"mango\", \"kiwi\", \"pineapple\", \"banana\"]\n",
    "thislist.sort(reverse = True)\n",
    "print(thislist)"
   ]
  },
  {
   "cell_type": "code",
   "execution_count": null,
   "id": "84d65150",
   "metadata": {},
   "outputs": [],
   "source": [
    "thislist = [100, 50, 65, 82, 23]\n",
    "thislist.sort(reverse = True)\n",
    "print(thislist)"
   ]
  },
  {
   "cell_type": "code",
   "execution_count": null,
   "id": "263d8813",
   "metadata": {},
   "outputs": [],
   "source": [
    "# Copy a List\n",
    "# You cannot copy a list simply by typing list2 = list1, because: list2 will only be a reference to list1, and changes made in list1 will automatically also be made in list2.\n",
    "\n",
    "# There are ways to make a copy, one way is to use the built-in List method copy()."
   ]
  },
  {
   "cell_type": "code",
   "execution_count": null,
   "id": "20c953e5",
   "metadata": {},
   "outputs": [],
   "source": [
    "# Example\n",
    "# Make a copy of a list with the copy() method:\n",
    "a = [2,3,4,5,6]\n",
    "b=a\n"
   ]
  },
  {
   "cell_type": "code",
   "execution_count": null,
   "id": "caee5309",
   "metadata": {},
   "outputs": [],
   "source": []
  },
  {
   "cell_type": "code",
   "execution_count": null,
   "id": "dcc3c6e0",
   "metadata": {},
   "outputs": [],
   "source": [
    "c=a.copy()"
   ]
  },
  {
   "cell_type": "code",
   "execution_count": null,
   "id": "2df6ecf0",
   "metadata": {},
   "outputs": [],
   "source": []
  },
  {
   "cell_type": "markdown",
   "id": "b4a9ec3e",
   "metadata": {},
   "source": [
    "\n",
    "\n",
    "## CONDITIONAL STATEMENT IN PYTHON"
   ]
  },
  {
   "cell_type": "code",
   "execution_count": null,
   "id": "427a4862",
   "metadata": {},
   "outputs": [],
   "source": [
    "# EG:\n",
    "# marks = input(\"Enter your marks: \")\n",
    "# print(\"your marks are {}\".format(marks))\n",
    "\n",
    "\n",
    "p = int(input(\"Enter marks of Physics : \"))\n",
    "c = int(input(\"Enter marks of Chem : \"))\n",
    "m = int(input(\"Enter marks of Maths : \"))\n",
    "\n",
    "\n",
    "print(\"your marks are {}\".format(p))\n",
    "print(\"your marks are {}\".format(c))\n",
    "print(\"your marks are {}\".format(m))\n",
    "\n",
    "average = (p+c+m)/3\n",
    "print(average)\n",
    "\n",
    "\n",
    "if average > 35 :\n",
    "    print(\"Pass\")\n",
    "else:\n",
    "    print(\"Try next time\")"
   ]
  },
  {
   "cell_type": "code",
   "execution_count": null,
   "id": "96d2a8ce",
   "metadata": {},
   "outputs": [],
   "source": [
    "# eg: \n",
    "# voting age\n",
    "\n",
    "\n",
    "age_candidate = int(input(\" Enter your age :\"))\n",
    "print(\"your age is : {}\".format(age_candidate))\n",
    "\n",
    "\n",
    "if age_candidate >= 18: # boundary condition\n",
    "    print(\" You are eligible for voting\")\n",
    "else:\n",
    "    print(\" You are not  eligible for voting\")"
   ]
  },
  {
   "cell_type": "code",
   "execution_count": null,
   "id": "07bde59d",
   "metadata": {},
   "outputs": [],
   "source": [
    "marks = int(input(\"Enter your total marks: \"))\n",
    "print(\"Your marks are : {}\".format(marks))\n",
    "\n",
    "print(type(marks))\n",
    "\n",
    "\n",
    "if marks> 95:\n",
    "    print(\"Grade A\")\n",
    "if marks> 80:\n",
    "    print(\"Grade B\")\n",
    "if marks> 75:\n",
    "    print(\"Grade C\")"
   ]
  },
  {
   "cell_type": "code",
   "execution_count": null,
   "id": "6a0f3cd9",
   "metadata": {},
   "outputs": [],
   "source": [
    "age_candidate  = int(input(\"Enter you age: \"))\n",
    "\n",
    "\n",
    "if 0 < age_candidate < 18:\n",
    "    print(\"You are not eligible to vote\")\n",
    "elif 18 <= age_candidate < 45:\n",
    "    print(\"You are  eligible to vote\")\n",
    "elif 45 <= age_candidate < 60:\n",
    "    print(\"You are  eligible to vote\")\n",
    "    print(\"You  must exercise your rights properly\")\n",
    "elif 60 <= age_candidate < 99:\n",
    "    print(\"You are  eligible to vote\")\n",
    "    print(\"You  can ask office for assistance to vote \")\n",
    "else:\n",
    "    print(\"Enter yor age properly\")"
   ]
  },
  {
   "cell_type": "code",
   "execution_count": null,
   "id": "20c9f947",
   "metadata": {},
   "outputs": [],
   "source": []
  },
  {
   "cell_type": "code",
   "execution_count": null,
   "id": "05788236",
   "metadata": {},
   "outputs": [],
   "source": []
  },
  {
   "cell_type": "code",
   "execution_count": null,
   "id": "bbbbb400",
   "metadata": {},
   "outputs": [],
   "source": []
  },
  {
   "cell_type": "code",
   "execution_count": null,
   "id": "194d72eb",
   "metadata": {},
   "outputs": [],
   "source": []
  }
 ],
 "metadata": {
  "kernelspec": {
   "display_name": "Python 3 (ipykernel)",
   "language": "python",
   "name": "python3"
  },
  "language_info": {
   "codemirror_mode": {
    "name": "ipython",
    "version": 3
   },
   "file_extension": ".py",
   "mimetype": "text/x-python",
   "name": "python",
   "nbconvert_exporter": "python",
   "pygments_lexer": "ipython3",
   "version": "3.9.13"
  }
 },
 "nbformat": 4,
 "nbformat_minor": 5
}
