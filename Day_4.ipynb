{
 "cells": [
  {
   "cell_type": "code",
   "execution_count": null,
   "id": "11db79b7",
   "metadata": {},
   "outputs": [],
   "source": []
  },
  {
   "cell_type": "markdown",
   "id": "3b3fb5d1",
   "metadata": {},
   "source": [
    "## DICTIONARY  IN PYTHON"
   ]
  },
  {
   "cell_type": "code",
   "execution_count": null,
   "id": "0bca90c2",
   "metadata": {},
   "outputs": [],
   "source": []
  },
  {
   "cell_type": "raw",
   "id": "9d83c34d",
   "metadata": {},
   "source": [
    "Dictionaries are used to store data values in key:value pairs.\n",
    "    A dictionary is a collection which is  changeable and do not allow duplicates.\n",
    "    Dictionaries cannot have two items with the same key"
   ]
  },
  {
   "cell_type": "code",
   "execution_count": 34,
   "id": "58bb1431",
   "metadata": {},
   "outputs": [
    {
     "name": "stdout",
     "output_type": "stream",
     "text": [
      "{'one_day': 700, 'test': 740, 't_20': 470, 'international': 250}\n"
     ]
    }
   ],
   "source": [
    "score_vk = {\"one_day\" : 700,\n",
    "            \"test\" : 740,\n",
    "            \"t_20\" : 470,\n",
    "            \"international\" : 250}\n",
    "\n",
    "print(score_vk)"
   ]
  },
  {
   "cell_type": "code",
   "execution_count": 36,
   "id": "3309172b",
   "metadata": {},
   "outputs": [
    {
     "name": "stdout",
     "output_type": "stream",
     "text": [
      "{'legs': 4, 'color': 'red', 'eyes': 2}\n"
     ]
    }
   ],
   "source": [
    "# duplicate key in dictionary\n",
    "animal = {\n",
    "    'legs':2,\n",
    "    'color':'red',\n",
    "    'eyes':2,\n",
    "    'legs':4\n",
    "}\n",
    "print(animal)"
   ]
  },
  {
   "cell_type": "code",
   "execution_count": 45,
   "id": "01b80d22",
   "metadata": {},
   "outputs": [
    {
     "ename": "TypeError",
     "evalue": "unhashable type: 'list'",
     "output_type": "error",
     "traceback": [
      "\u001b[1;31m---------------------------------------------------------------------------\u001b[0m",
      "\u001b[1;31mTypeError\u001b[0m                                 Traceback (most recent call last)",
      "\u001b[1;32m~\\AppData\\Local\\Temp\\ipykernel_2672\\1739566914.py\u001b[0m in \u001b[0;36m<module>\u001b[1;34m\u001b[0m\n\u001b[0;32m      1\u001b[0m \u001b[1;31m# keys are hashable\u001b[0m\u001b[1;33m\u001b[0m\u001b[1;33m\u001b[0m\u001b[0m\n\u001b[1;32m----> 2\u001b[1;33m dict_student = {\n\u001b[0m\u001b[0;32m      3\u001b[0m     \u001b[1;34m'name'\u001b[0m \u001b[1;33m:\u001b[0m \u001b[1;34m'Viplov'\u001b[0m\u001b[1;33m,\u001b[0m\u001b[1;33m\u001b[0m\u001b[1;33m\u001b[0m\u001b[0m\n\u001b[0;32m      4\u001b[0m     \u001b[1;34m'roll no.'\u001b[0m \u001b[1;33m:\u001b[0m \u001b[1;36m54\u001b[0m\u001b[1;33m,\u001b[0m\u001b[1;33m\u001b[0m\u001b[1;33m\u001b[0m\u001b[0m\n\u001b[0;32m      5\u001b[0m     \u001b[1;34m'Addr'\u001b[0m \u001b[1;33m:\u001b[0m \u001b[1;34m'Jalpigudi'\u001b[0m\u001b[1;33m,\u001b[0m\u001b[1;33m\u001b[0m\u001b[1;33m\u001b[0m\u001b[0m\n",
      "\u001b[1;31mTypeError\u001b[0m: unhashable type: 'list'"
     ]
    }
   ],
   "source": [
    "# keys are hashable\n",
    "dict_student = {\n",
    "    'name' : 'Viplov',\n",
    "    'roll no.' : 54,\n",
    "    'Addr' : 'Jalpigudi',\n",
    "    'Hobby' :  'cricket',\n",
    "    [101,55,21,9] : 'Scores',# unhashable type: 'list'\n",
    "    (101,55,21,9) : 'Score' ,# ok... but not to be used\n",
    "    'Score' :[101,55,21,9],\n",
    "    1 : 'ONE'\n",
    "}\n",
    "# keys are hashable\n",
    "dict_student"
   ]
  },
  {
   "cell_type": "code",
   "execution_count": 46,
   "id": "eee42b34",
   "metadata": {},
   "outputs": [],
   "source": [
    "#  Defining the dict with values\n",
    "#   dict does not stores the value by index\n",
    "\n",
    "person = {\n",
    "    \"firstName\":\"Raj\",\n",
    "    (3,5,6):6,\n",
    "    \"Age\":22\n",
    "}"
   ]
  },
  {
   "cell_type": "code",
   "execution_count": 48,
   "id": "9e12a646",
   "metadata": {},
   "outputs": [
    {
     "data": {
      "text/plain": [
       "dict"
      ]
     },
     "execution_count": 48,
     "metadata": {},
     "output_type": "execute_result"
    }
   ],
   "source": [
    "type(person)"
   ]
  },
  {
   "cell_type": "code",
   "execution_count": 47,
   "id": "aa113f43",
   "metadata": {},
   "outputs": [
    {
     "ename": "KeyError",
     "evalue": "1",
     "output_type": "error",
     "traceback": [
      "\u001b[1;31m---------------------------------------------------------------------------\u001b[0m",
      "\u001b[1;31mKeyError\u001b[0m                                  Traceback (most recent call last)",
      "\u001b[1;32m~\\AppData\\Local\\Temp\\ipykernel_2672\\3150881383.py\u001b[0m in \u001b[0;36m<module>\u001b[1;34m\u001b[0m\n\u001b[0;32m      1\u001b[0m \u001b[1;31m# retrive Method\u001b[0m\u001b[1;33m\u001b[0m\u001b[1;33m\u001b[0m\u001b[0m\n\u001b[1;32m----> 2\u001b[1;33m \u001b[0mprint\u001b[0m\u001b[1;33m(\u001b[0m\u001b[0mperson\u001b[0m\u001b[1;33m[\u001b[0m\u001b[1;36m1\u001b[0m\u001b[1;33m]\u001b[0m\u001b[1;33m)\u001b[0m \u001b[1;31m#KeyError\u001b[0m\u001b[1;33m\u001b[0m\u001b[1;33m\u001b[0m\u001b[0m\n\u001b[0m",
      "\u001b[1;31mKeyError\u001b[0m: 1"
     ]
    }
   ],
   "source": [
    "# retrive Method\n",
    "print(person[1]) #KeyError\n"
   ]
  },
  {
   "cell_type": "code",
   "execution_count": null,
   "id": "258c558c",
   "metadata": {},
   "outputs": [],
   "source": [
    "#retrive 1"
   ]
  },
  {
   "cell_type": "code",
   "execution_count": 49,
   "id": "acfd9be5",
   "metadata": {},
   "outputs": [
    {
     "data": {
      "text/plain": [
       "'Raj'"
      ]
     },
     "execution_count": 49,
     "metadata": {},
     "output_type": "execute_result"
    }
   ],
   "source": [
    "person[\"firstName\"]"
   ]
  },
  {
   "cell_type": "code",
   "execution_count": 50,
   "id": "4b5d3974",
   "metadata": {},
   "outputs": [
    {
     "ename": "KeyError",
     "evalue": "'lastname'",
     "output_type": "error",
     "traceback": [
      "\u001b[1;31m---------------------------------------------------------------------------\u001b[0m",
      "\u001b[1;31mKeyError\u001b[0m                                  Traceback (most recent call last)",
      "\u001b[1;32m~\\AppData\\Local\\Temp\\ipykernel_2672\\811476641.py\u001b[0m in \u001b[0;36m<module>\u001b[1;34m\u001b[0m\n\u001b[1;32m----> 1\u001b[1;33m \u001b[0mperson\u001b[0m\u001b[1;33m[\u001b[0m\u001b[1;34m\"lastname\"\u001b[0m\u001b[1;33m]\u001b[0m\u001b[1;33m\u001b[0m\u001b[1;33m\u001b[0m\u001b[0m\n\u001b[0m",
      "\u001b[1;31mKeyError\u001b[0m: 'lastname'"
     ]
    }
   ],
   "source": [
    "person[\"lastname\"]"
   ]
  },
  {
   "cell_type": "code",
   "execution_count": 51,
   "id": "7bc8434e",
   "metadata": {},
   "outputs": [],
   "source": [
    "person[\"lastname\"] = \"RRRRR\""
   ]
  },
  {
   "cell_type": "code",
   "execution_count": 52,
   "id": "fb5431e7",
   "metadata": {},
   "outputs": [
    {
     "data": {
      "text/plain": [
       "'RRRRR'"
      ]
     },
     "execution_count": 52,
     "metadata": {},
     "output_type": "execute_result"
    }
   ],
   "source": [
    "person[\"lastname\"]"
   ]
  },
  {
   "cell_type": "code",
   "execution_count": 53,
   "id": "54fe8eb5",
   "metadata": {},
   "outputs": [
    {
     "data": {
      "text/plain": [
       "{'firstName': 'Raj', (3, 5, 6): 6, 'Age': 22, 'lastname': 'RRRRR'}"
      ]
     },
     "execution_count": 53,
     "metadata": {},
     "output_type": "execute_result"
    }
   ],
   "source": [
    "person"
   ]
  },
  {
   "cell_type": "code",
   "execution_count": 54,
   "id": "faf99501",
   "metadata": {},
   "outputs": [],
   "source": [
    "person[\"lastname\"] = \"AAAA\""
   ]
  },
  {
   "cell_type": "code",
   "execution_count": 55,
   "id": "13ab2ac3",
   "metadata": {},
   "outputs": [
    {
     "data": {
      "text/plain": [
       "{'firstName': 'Raj', (3, 5, 6): 6, 'Age': 22, 'lastname': 'AAAA'}"
      ]
     },
     "execution_count": 55,
     "metadata": {},
     "output_type": "execute_result"
    }
   ],
   "source": [
    "person"
   ]
  },
  {
   "cell_type": "code",
   "execution_count": null,
   "id": "6e9d9189",
   "metadata": {},
   "outputs": [],
   "source": [
    "fn = person[\"firstName\"]"
   ]
  },
  {
   "cell_type": "code",
   "execution_count": 7,
   "id": "6ccc949f",
   "metadata": {},
   "outputs": [
    {
     "name": "stdout",
     "output_type": "stream",
     "text": [
      "Raj\n",
      "22\n"
     ]
    }
   ],
   "source": [
    "print(fn)\n",
    "print(person[\"Age\"])"
   ]
  },
  {
   "cell_type": "code",
   "execution_count": 3,
   "id": "3e416c50",
   "metadata": {},
   "outputs": [
    {
     "name": "stdout",
     "output_type": "stream",
     "text": [
      "{'firstName': 'Raj', (3, 5, 6): 6, 'Age': 22}\n"
     ]
    }
   ],
   "source": [
    "print(person)\n",
    "# print(type(person))"
   ]
  },
  {
   "cell_type": "code",
   "execution_count": null,
   "id": "72e56fa9",
   "metadata": {},
   "outputs": [],
   "source": [
    "# METHODS IN DICT"
   ]
  },
  {
   "cell_type": "code",
   "execution_count": 57,
   "id": "64307ef4",
   "metadata": {},
   "outputs": [],
   "source": [
    "dict_student = {\n",
    "    \"Name\" : \"Vivek\",\n",
    "    \"Class\" :  \"FYJC\",\n",
    "    \"PIN\" : 442404,\n",
    "    \"Sub\" : ['P' ,\"C\" , \"M\" ,\"IT\"]\n",
    "}"
   ]
  },
  {
   "cell_type": "code",
   "execution_count": null,
   "id": "60e3d24a",
   "metadata": {},
   "outputs": [],
   "source": [
    "person[2] #this will not work"
   ]
  },
  {
   "cell_type": "code",
   "execution_count": null,
   "id": "b69c1369",
   "metadata": {},
   "outputs": [],
   "source": []
  },
  {
   "cell_type": "code",
   "execution_count": 59,
   "id": "6506750a",
   "metadata": {},
   "outputs": [],
   "source": [
    "\n",
    "person = {\n",
    "    \"firstName\":\"Raj\",\n",
    "    (3,5,6):6,\n",
    "    \"Age\":22\n",
    "}"
   ]
  },
  {
   "cell_type": "code",
   "execution_count": 62,
   "id": "e0ed2dbf",
   "metadata": {},
   "outputs": [
    {
     "name": "stdout",
     "output_type": "stream",
     "text": [
      "Raj\n",
      "22\n"
     ]
    }
   ],
   "source": [
    "# retrive 1\n",
    "fn = person['firstName']\n",
    "ag = person['Age']\n",
    "print(fn)\n",
    "print(ag)"
   ]
  },
  {
   "cell_type": "code",
   "execution_count": 67,
   "id": "e38838d2",
   "metadata": {},
   "outputs": [
    {
     "name": "stdout",
     "output_type": "stream",
     "text": [
      "Raj\n",
      "not present\n"
     ]
    }
   ],
   "source": [
    "# retrive 2\n",
    "fn2 = person.get('firstName')\n",
    "fn3 = person.get('firstNamem',\"not present\")\n",
    "print(fn2)\n",
    "print(fn3)"
   ]
  },
  {
   "cell_type": "code",
   "execution_count": 64,
   "id": "6e827569",
   "metadata": {},
   "outputs": [
    {
     "ename": "KeyError",
     "evalue": "'firstNamem'",
     "output_type": "error",
     "traceback": [
      "\u001b[1;31m---------------------------------------------------------------------------\u001b[0m",
      "\u001b[1;31mKeyError\u001b[0m                                  Traceback (most recent call last)",
      "\u001b[1;32m~\\AppData\\Local\\Temp\\ipykernel_2672\\788773238.py\u001b[0m in \u001b[0;36m<module>\u001b[1;34m\u001b[0m\n\u001b[1;32m----> 1\u001b[1;33m \u001b[0mperson\u001b[0m\u001b[1;33m[\u001b[0m\u001b[1;34m'firstNamem'\u001b[0m\u001b[1;33m]\u001b[0m\u001b[1;33m\u001b[0m\u001b[1;33m\u001b[0m\u001b[0m\n\u001b[0m",
      "\u001b[1;31mKeyError\u001b[0m: 'firstNamem'"
     ]
    }
   ],
   "source": [
    "person['firstNamem']"
   ]
  },
  {
   "cell_type": "code",
   "execution_count": 68,
   "id": "0151d8d3",
   "metadata": {},
   "outputs": [
    {
     "name": "stdout",
     "output_type": "stream",
     "text": [
      "40\n"
     ]
    }
   ],
   "source": [
    "# update\n",
    "person['age'] = 40\n",
    "print(person['age'])"
   ]
  },
  {
   "cell_type": "code",
   "execution_count": 69,
   "id": "cc1ba351",
   "metadata": {},
   "outputs": [
    {
     "name": "stdout",
     "output_type": "stream",
     "text": [
      "{'firstName': 'Raj', (3, 5, 6): 6, 'Age': 22, 'age': 40, 'city': 'pune'}\n"
     ]
    }
   ],
   "source": [
    "# add\n",
    "person['city'] = \"pune\"\n",
    "print(person)"
   ]
  },
  {
   "cell_type": "code",
   "execution_count": 71,
   "id": "24e8ea6d",
   "metadata": {},
   "outputs": [
    {
     "ename": "KeyError",
     "evalue": "'age'",
     "output_type": "error",
     "traceback": [
      "\u001b[1;31m---------------------------------------------------------------------------\u001b[0m",
      "\u001b[1;31mKeyError\u001b[0m                                  Traceback (most recent call last)",
      "\u001b[1;32m~\\AppData\\Local\\Temp\\ipykernel_2672\\488275442.py\u001b[0m in \u001b[0;36m<module>\u001b[1;34m\u001b[0m\n\u001b[0;32m      1\u001b[0m \u001b[1;31m#delete\u001b[0m\u001b[1;33m\u001b[0m\u001b[1;33m\u001b[0m\u001b[0m\n\u001b[1;32m----> 2\u001b[1;33m \u001b[1;32mdel\u001b[0m \u001b[0mperson\u001b[0m\u001b[1;33m[\u001b[0m\u001b[1;34m'age'\u001b[0m\u001b[1;33m]\u001b[0m\u001b[1;33m\u001b[0m\u001b[1;33m\u001b[0m\u001b[0m\n\u001b[0m\u001b[0;32m      3\u001b[0m \u001b[0mprint\u001b[0m\u001b[1;33m(\u001b[0m\u001b[0mperson\u001b[0m\u001b[1;33m)\u001b[0m\u001b[1;33m\u001b[0m\u001b[1;33m\u001b[0m\u001b[0m\n",
      "\u001b[1;31mKeyError\u001b[0m: 'age'"
     ]
    }
   ],
   "source": [
    "#delete\n",
    "del person['age']\n",
    "print(person)"
   ]
  },
  {
   "cell_type": "code",
   "execution_count": 72,
   "id": "12a89cd2",
   "metadata": {},
   "outputs": [],
   "source": [
    "vehicle = {\n",
    "    'color':'red',\n",
    "    'type':\"sedane\"\n",
    "}"
   ]
  },
  {
   "cell_type": "code",
   "execution_count": 73,
   "id": "4a482fe0",
   "metadata": {},
   "outputs": [
    {
     "name": "stdout",
     "output_type": "stream",
     "text": [
      "red\n"
     ]
    }
   ],
   "source": [
    "# retrive\n",
    "print(vehicle['color'])"
   ]
  },
  {
   "cell_type": "code",
   "execution_count": 75,
   "id": "d6564da1",
   "metadata": {},
   "outputs": [
    {
     "data": {
      "text/plain": [
       "{'color': 'black', 'type': 'sedane'}"
      ]
     },
     "execution_count": 75,
     "metadata": {},
     "output_type": "execute_result"
    }
   ],
   "source": [
    "#update \n",
    "vehicle['color'] = \"black\"\n",
    "vehicle"
   ]
  },
  {
   "cell_type": "code",
   "execution_count": 77,
   "id": "5e55afd8",
   "metadata": {},
   "outputs": [
    {
     "data": {
      "text/plain": [
       "{'color': 'black', 'type': 'sedane', 'model': 'q7'}"
      ]
     },
     "execution_count": 77,
     "metadata": {},
     "output_type": "execute_result"
    }
   ],
   "source": [
    "#add\n",
    "vehicle['model'] = \"q7\"\n",
    "vehicle"
   ]
  },
  {
   "cell_type": "code",
   "execution_count": 79,
   "id": "36552f25",
   "metadata": {},
   "outputs": [
    {
     "ename": "KeyError",
     "evalue": "'color'",
     "output_type": "error",
     "traceback": [
      "\u001b[1;31m---------------------------------------------------------------------------\u001b[0m",
      "\u001b[1;31mKeyError\u001b[0m                                  Traceback (most recent call last)",
      "\u001b[1;32m~\\AppData\\Local\\Temp\\ipykernel_2672\\3748549434.py\u001b[0m in \u001b[0;36m<module>\u001b[1;34m\u001b[0m\n\u001b[0;32m      1\u001b[0m \u001b[1;31m# delete\u001b[0m\u001b[1;33m\u001b[0m\u001b[1;33m\u001b[0m\u001b[0m\n\u001b[1;32m----> 2\u001b[1;33m \u001b[1;32mdel\u001b[0m \u001b[0mvehicle\u001b[0m\u001b[1;33m[\u001b[0m\u001b[1;34m'color'\u001b[0m\u001b[1;33m]\u001b[0m\u001b[1;33m\u001b[0m\u001b[1;33m\u001b[0m\u001b[0m\n\u001b[0m\u001b[0;32m      3\u001b[0m \u001b[0mprint\u001b[0m\u001b[1;33m(\u001b[0m\u001b[0mvehicle\u001b[0m\u001b[1;33m)\u001b[0m\u001b[1;33m\u001b[0m\u001b[1;33m\u001b[0m\u001b[0m\n",
      "\u001b[1;31mKeyError\u001b[0m: 'color'"
     ]
    }
   ],
   "source": [
    "# delete\n",
    "del vehicle['color']\n",
    "print(vehicle)"
   ]
  },
  {
   "cell_type": "code",
   "execution_count": null,
   "id": "74ccc32c",
   "metadata": {},
   "outputs": [],
   "source": []
  },
  {
   "cell_type": "code",
   "execution_count": 81,
   "id": "c6a65434",
   "metadata": {},
   "outputs": [
    {
     "name": "stdout",
     "output_type": "stream",
     "text": [
      "True\n",
      "True\n",
      "False\n"
     ]
    }
   ],
   "source": [
    "# dict with in operator\n",
    "print(\"legs\" in animal)\n",
    "print(\"leg\" not in animal)\n",
    "print(\"leg\" in animal)\n",
    "animal = {\n",
    "    #property - values\n",
    "    #key  -     values\n",
    "    'legs':2,\n",
    "    'color':'red',\n",
    "    'eyes':2,\n",
    "    'legs':4\n",
    "}"
   ]
  },
  {
   "cell_type": "code",
   "execution_count": null,
   "id": "f111fe32",
   "metadata": {},
   "outputs": [],
   "source": [
    "for key in animal:\n",
    "    print(key,animal[key])"
   ]
  },
  {
   "cell_type": "code",
   "execution_count": 82,
   "id": "504f1319",
   "metadata": {},
   "outputs": [],
   "source": [
    "flower = {\n",
    "    'name':\"lotus\",\n",
    "    \"color\":\"white\",\n",
    "    \"region\":\"kashmir\",\n",
    "    \"lifeShell\":4\n",
    "}"
   ]
  },
  {
   "cell_type": "code",
   "execution_count": null,
   "id": "7aecf41f",
   "metadata": {},
   "outputs": [],
   "source": [
    "for prop in flower:\n",
    "    print(prop,flower[prop])"
   ]
  },
  {
   "cell_type": "code",
   "execution_count": 83,
   "id": "9d7af61a",
   "metadata": {},
   "outputs": [
    {
     "name": "stdout",
     "output_type": "stream",
     "text": [
      "dict_keys(['name', 'color', 'region', 'lifeShell'])\n"
     ]
    }
   ],
   "source": [
    "# keys()\n",
    "print(flower.keys())"
   ]
  },
  {
   "cell_type": "code",
   "execution_count": 84,
   "id": "1f379036",
   "metadata": {},
   "outputs": [
    {
     "name": "stdout",
     "output_type": "stream",
     "text": [
      "dict_values(['lotus', 'white', 'kashmir', 4])\n"
     ]
    }
   ],
   "source": [
    "# values()\n",
    "print(flower.values())"
   ]
  },
  {
   "cell_type": "code",
   "execution_count": 85,
   "id": "44ccf4a1",
   "metadata": {},
   "outputs": [
    {
     "name": "stdout",
     "output_type": "stream",
     "text": [
      "dict_items([('name', 'lotus'), ('color', 'white'), ('region', 'kashmir'), ('lifeShell', 4)])\n"
     ]
    }
   ],
   "source": [
    "# items()\n",
    "print(flower.items())"
   ]
  },
  {
   "cell_type": "code",
   "execution_count": 86,
   "id": "bb680d9d",
   "metadata": {},
   "outputs": [
    {
     "name": "stdout",
     "output_type": "stream",
     "text": [
      "legs\n",
      "color\n",
      "eyes\n"
     ]
    }
   ],
   "source": [
    "# keys()\n",
    "for x in animal.keys():\n",
    "    print(x)"
   ]
  },
  {
   "cell_type": "code",
   "execution_count": 87,
   "id": "ed34c615",
   "metadata": {},
   "outputs": [
    {
     "name": "stdout",
     "output_type": "stream",
     "text": [
      "4\n",
      "red\n",
      "2\n"
     ]
    }
   ],
   "source": [
    "# values\n",
    "for x in animal.values():\n",
    "    print(x)"
   ]
  },
  {
   "cell_type": "code",
   "execution_count": 94,
   "id": "d36a9885",
   "metadata": {},
   "outputs": [
    {
     "name": "stdout",
     "output_type": "stream",
     "text": [
      "This is key:  legs This is value: 4\n",
      "This is key:  color This is value: red\n",
      "This is key:  eyes This is value: 2\n"
     ]
    }
   ],
   "source": [
    "#items()\n",
    "for x , y in animal.items():\n",
    "    print(\"This is key: \",x,\"This is value:\",y)"
   ]
  },
  {
   "cell_type": "code",
   "execution_count": 89,
   "id": "1aa31c05",
   "metadata": {},
   "outputs": [
    {
     "data": {
      "text/plain": [
       "dict_items([('legs', 4), ('color', 'red'), ('eyes', 2)])"
      ]
     },
     "execution_count": 89,
     "metadata": {},
     "output_type": "execute_result"
    }
   ],
   "source": [
    "animal.items()"
   ]
  },
  {
   "cell_type": "code",
   "execution_count": 90,
   "id": "1867dd91",
   "metadata": {},
   "outputs": [],
   "source": [
    "tup = ('legs', 4)"
   ]
  },
  {
   "cell_type": "code",
   "execution_count": 91,
   "id": "7f6c75f5",
   "metadata": {},
   "outputs": [],
   "source": [
    "a,b =tup"
   ]
  },
  {
   "cell_type": "code",
   "execution_count": 92,
   "id": "e7922f68",
   "metadata": {},
   "outputs": [
    {
     "data": {
      "text/plain": [
       "'legs'"
      ]
     },
     "execution_count": 92,
     "metadata": {},
     "output_type": "execute_result"
    }
   ],
   "source": [
    "a"
   ]
  },
  {
   "cell_type": "code",
   "execution_count": 93,
   "id": "c9f27b53",
   "metadata": {},
   "outputs": [
    {
     "data": {
      "text/plain": [
       "4"
      ]
     },
     "execution_count": 93,
     "metadata": {},
     "output_type": "execute_result"
    }
   ],
   "source": [
    "b"
   ]
  },
  {
   "cell_type": "code",
   "execution_count": null,
   "id": "289421b1",
   "metadata": {},
   "outputs": [],
   "source": []
  },
  {
   "cell_type": "code",
   "execution_count": null,
   "id": "262c8c54",
   "metadata": {},
   "outputs": [],
   "source": []
  },
  {
   "cell_type": "code",
   "execution_count": 11,
   "id": "4482a412",
   "metadata": {},
   "outputs": [],
   "source": [
    "# Nested Dictionary\n",
    "\n",
    "family = {\n",
    "    'son':\"chinmay\",\n",
    "    'daughter':'gauri',\n",
    "    'parent':{\n",
    "        'mother':'kanchan',\n",
    "        'father':'shirish'\n",
    "    },\n",
    "    'skills':[\"python\",\"c++\"]\n",
    "} "
   ]
  },
  {
   "cell_type": "code",
   "execution_count": null,
   "id": "e6e5ed57",
   "metadata": {},
   "outputs": [],
   "source": [
    "print(family['parent']['father'])   #shirish"
   ]
  },
  {
   "cell_type": "code",
   "execution_count": null,
   "id": "db059b62",
   "metadata": {},
   "outputs": [],
   "source": [
    "family['parent']['mother'] ='kanchan s' "
   ]
  },
  {
   "cell_type": "code",
   "execution_count": 12,
   "id": "9444ded2",
   "metadata": {},
   "outputs": [
    {
     "name": "stdout",
     "output_type": "stream",
     "text": [
      "shirish\n"
     ]
    }
   ],
   "source": [
    "family['skills'].append('js')"
   ]
  },
  {
   "cell_type": "markdown",
   "id": "4f434f50",
   "metadata": {},
   "source": [
    "\n",
    "## HOW TO CREATE A DICTIONARY"
   ]
  },
  {
   "cell_type": "code",
   "execution_count": 95,
   "id": "70ed9385",
   "metadata": {},
   "outputs": [
    {
     "data": {
      "text/plain": [
       "{'name': 'Nikhita', 'age': 26, 'job': 'SOftwareTeste'}"
      ]
     },
     "execution_count": 95,
     "metadata": {},
     "output_type": "execute_result"
    }
   ],
   "source": [
    "b_basic = {'name': 'Nikhita' ,\n",
    "           'age': 26 ,\n",
    "           'job' : 'SOftwareTeste'}\n",
    "b_basic"
   ]
  },
  {
   "cell_type": "code",
   "execution_count": 96,
   "id": "de3613eb",
   "metadata": {},
   "outputs": [
    {
     "data": {
      "text/plain": [
       "{'name': 'rahul', 'age': 32, 'job': 'teacher'}"
      ]
     },
     "execution_count": 96,
     "metadata": {},
     "output_type": "execute_result"
    }
   ],
   "source": [
    "# By using variable\n",
    "a_var = dict(name = \"rahul\", age = 32 ,job = 'teacher')\n",
    "a_var"
   ]
  },
  {
   "cell_type": "code",
   "execution_count": 97,
   "id": "1b35aec7",
   "metadata": {},
   "outputs": [
    {
     "data": {
      "text/plain": [
       "{'name': 'Akash', 'age': 35, 'job': 'Instructor'}"
      ]
     },
     "execution_count": 97,
     "metadata": {},
     "output_type": "execute_result"
    }
   ],
   "source": [
    "# By using tuple\n",
    "d_tup = dict([('name',\"Akash\"),('age',35),('job',\"Instructor\")])\n",
    "d_tup"
   ]
  },
  {
   "cell_type": "code",
   "execution_count": 98,
   "id": "aafeb33e",
   "metadata": {},
   "outputs": [
    {
     "ename": "TypeError",
     "evalue": "dict expected at most 1 argument, got 3",
     "output_type": "error",
     "traceback": [
      "\u001b[1;31m---------------------------------------------------------------------------\u001b[0m",
      "\u001b[1;31mTypeError\u001b[0m                                 Traceback (most recent call last)",
      "\u001b[1;32m~\\AppData\\Local\\Temp\\ipykernel_2672\\996015466.py\u001b[0m in \u001b[0;36m<module>\u001b[1;34m\u001b[0m\n\u001b[1;32m----> 1\u001b[1;33m \u001b[0md_tup\u001b[0m \u001b[1;33m=\u001b[0m \u001b[0mdict\u001b[0m\u001b[1;33m(\u001b[0m\u001b[1;33m(\u001b[0m\u001b[1;34m'name'\u001b[0m\u001b[1;33m,\u001b[0m\u001b[1;34m\"Akash\"\u001b[0m\u001b[1;33m)\u001b[0m\u001b[1;33m,\u001b[0m\u001b[1;33m(\u001b[0m\u001b[1;34m'age'\u001b[0m\u001b[1;33m,\u001b[0m\u001b[1;36m35\u001b[0m\u001b[1;33m)\u001b[0m\u001b[1;33m,\u001b[0m\u001b[1;33m(\u001b[0m\u001b[1;34m'job'\u001b[0m\u001b[1;33m,\u001b[0m\u001b[1;34m\"Instructor\"\u001b[0m\u001b[1;33m)\u001b[0m\u001b[1;33m)\u001b[0m\u001b[1;33m\u001b[0m\u001b[1;33m\u001b[0m\u001b[0m\n\u001b[0m",
      "\u001b[1;31mTypeError\u001b[0m: dict expected at most 1 argument, got 3"
     ]
    }
   ],
   "source": [
    "d_tup = dict(('name',\"Akash\"),('age',35),('job',\"Instructor\")) # use list"
   ]
  },
  {
   "cell_type": "code",
   "execution_count": null,
   "id": "25e2f1c2",
   "metadata": {},
   "outputs": [],
   "source": []
  },
  {
   "cell_type": "code",
   "execution_count": 101,
   "id": "c912708f",
   "metadata": {},
   "outputs": [
    {
     "data": {
      "text/plain": [
       "{1: 'one', 2: 'two', 3: 'three', 4: 'four', 5: 'five', 6: 'six'}"
      ]
     },
     "execution_count": 101,
     "metadata": {},
     "output_type": "execute_result"
    }
   ],
   "source": [
    "# By using two list\n",
    "list_keys = [1,2,3,4,5,6,]\n",
    "list_values= [\"one\",\"two\",\"three\",\"four\",\"five\",\"six\"]\n",
    "\n",
    "c_zip = dict(zip(list_keys ,list_values))\n",
    "c_zip"
   ]
  },
  {
   "cell_type": "code",
   "execution_count": null,
   "id": "086884bb",
   "metadata": {},
   "outputs": [],
   "source": []
  },
  {
   "cell_type": "code",
   "execution_count": 102,
   "id": "7b4f6318",
   "metadata": {},
   "outputs": [
    {
     "data": {
      "text/plain": [
       "[(1, 'one'), (2, 'two'), (3, 'three'), (4, 'four'), (5, 'five'), (6, 'six')]"
      ]
     },
     "execution_count": 102,
     "metadata": {},
     "output_type": "execute_result"
    }
   ],
   "source": [
    "list(zip(list_keys ,list_values))"
   ]
  },
  {
   "cell_type": "code",
   "execution_count": 103,
   "id": "4a1a2104",
   "metadata": {},
   "outputs": [
    {
     "data": {
      "text/plain": [
       "{1: 'one', 2: 'two', 3: 'three', 4: 'four', 5: 'five', 6: 'six'}"
      ]
     },
     "execution_count": 103,
     "metadata": {},
     "output_type": "execute_result"
    }
   ],
   "source": [
    "list_keys = (1,2,3,4,5,6,)\n",
    "list_values= (\"one\",\"two\",\"three\",\"four\",\"five\",\"six\")\n",
    "\n",
    "c_zip = dict(zip(list_keys ,list_values))\n",
    "c_zip"
   ]
  },
  {
   "cell_type": "code",
   "execution_count": null,
   "id": "f4b23b26",
   "metadata": {},
   "outputs": [],
   "source": []
  },
  {
   "cell_type": "code",
   "execution_count": 105,
   "id": "10ade06e",
   "metadata": {},
   "outputs": [
    {
     "data": {
      "text/plain": [
       "{1: 'one', 2: 'two', 3: 'three'}"
      ]
     },
     "execution_count": 105,
     "metadata": {},
     "output_type": "execute_result"
    }
   ],
   "source": [
    "list_keys = (1,2,3)\n",
    "list_values= (\"one\",\"two\",\"three\",\"four\",\"five\",\"six\")\n",
    "\n",
    "c_zip = dict(zip(list_keys ,list_values))\n",
    "c_zip"
   ]
  },
  {
   "cell_type": "code",
   "execution_count": null,
   "id": "42703a11",
   "metadata": {},
   "outputs": [],
   "source": []
  },
  {
   "cell_type": "code",
   "execution_count": null,
   "id": "6e013d76",
   "metadata": {},
   "outputs": [],
   "source": []
  },
  {
   "cell_type": "markdown",
   "id": "c749e29b",
   "metadata": {},
   "source": [
    "## Homework"
   ]
  },
  {
   "cell_type": "code",
   "execution_count": null,
   "id": "0bbeba70",
   "metadata": {},
   "outputs": [],
   "source": [
    "# score_vk = {\n",
    "#         one_day : 700,\n",
    "#         test : 740,\n",
    "#         t_20 : 470,\n",
    "#         international : 250\n",
    "# }"
   ]
  },
  {
   "cell_type": "code",
   "execution_count": 30,
   "id": "ecfc4baa",
   "metadata": {},
   "outputs": [
    {
     "name": "stdout",
     "output_type": "stream",
     "text": [
      "{'one_day': 700, 'test': 740, 't_20': 470, 'international': 250}\n"
     ]
    }
   ],
   "source": [
    "# 1. CREATE ABOVE DICTIONARY USING BASIC METHOD \n",
    "# {} AND NAME IT AS score_vk_basic\n",
    "score_vk = {\"one_day\" : 700,\"test\" : 740,\"t_20\" : 470,\"international\" : 250}\n",
    "print(score_vk)"
   ]
  },
  {
   "cell_type": "code",
   "execution_count": 31,
   "id": "5d9e0374",
   "metadata": {},
   "outputs": [
    {
     "name": "stdout",
     "output_type": "stream",
     "text": [
      "{'one_day': 700, 'test': 740, 't_20': 470, 'international': 250}\n"
     ]
    }
   ],
   "source": [
    "# 2. CREATE ABOVE DICTIONARY USING \n",
    "# variable assignments way AND NAME IT AS score_vk_var\n",
    "score_vk_var= dict(one_day = 700,test = 740,t_20 = 470,international = 250)\n",
    "print(score_vk_var)"
   ]
  },
  {
   "cell_type": "code",
   "execution_count": 32,
   "id": "20a4b7df",
   "metadata": {},
   "outputs": [
    {
     "name": "stdout",
     "output_type": "stream",
     "text": [
      "{'one_day': 700, 'test': 740, 't_20': 470, 'international': 250}\n"
     ]
    }
   ],
   "source": [
    "# 3. CREATE ABOVE DICTIONARY USING \n",
    "# tuple pair way  AND NAME IT AS score_vk_basic_tup\n",
    "score_vk_basic_tup = dict([(\"one_day\", 700),(\"test\" , 740),(\"t_20\" , 470),(\"international\" , 250)])\n",
    "print(score_vk_basic_tup)"
   ]
  },
  {
   "cell_type": "code",
   "execution_count": 33,
   "id": "71f317ed",
   "metadata": {},
   "outputs": [
    {
     "name": "stdout",
     "output_type": "stream",
     "text": [
      "{'one_day': 700, 'test': 740, 't_20': 470, 'international': 250}\n"
     ]
    }
   ],
   "source": [
    "# 4. CREATE ABOVE DICTIONARY USING \n",
    "# zip method CONSIDERING \n",
    "# KEYS LIST AS list_keys AND \n",
    "# VALUES LIST AS list_values  AND \n",
    "# NAME IT AS score_vk_basic_tup\n",
    "list_keys = ['one_day', 'test', 't_20', 'international']\n",
    "list_values = [700, 740, 470, 250]\n",
    "score_vk_basic_tup = dict(zip(list_keys,list_values))\n",
    "print(score_vk_basic_tup)"
   ]
  },
  {
   "cell_type": "code",
   "execution_count": 24,
   "id": "600ff7d7",
   "metadata": {},
   "outputs": [],
   "source": []
  },
  {
   "cell_type": "code",
   "execution_count": null,
   "id": "5af13f29",
   "metadata": {},
   "outputs": [],
   "source": []
  }
 ],
 "metadata": {
  "kernelspec": {
   "display_name": "Python 3 (ipykernel)",
   "language": "python",
   "name": "python3"
  },
  "language_info": {
   "codemirror_mode": {
    "name": "ipython",
    "version": 3
   },
   "file_extension": ".py",
   "mimetype": "text/x-python",
   "name": "python",
   "nbconvert_exporter": "python",
   "pygments_lexer": "ipython3",
   "version": "3.9.13"
  }
 },
 "nbformat": 4,
 "nbformat_minor": 5
}
