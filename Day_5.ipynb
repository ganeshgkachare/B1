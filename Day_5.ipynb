{
 "cells": [
  {
   "cell_type": "markdown",
   "id": "5ee6848b",
   "metadata": {},
   "source": [
    "## Dictionary"
   ]
  },
  {
   "cell_type": "code",
   "execution_count": 77,
   "id": "de1a6834",
   "metadata": {},
   "outputs": [],
   "source": [
    "student = {\n",
    "    'firstName':\"Raj\",\n",
    "    'lastName':\"RRR\",\n",
    "    \"age\":23,\n",
    "    \"skills\":[\"pyhton\",\"javascript\"],\n",
    "}"
   ]
  },
  {
   "cell_type": "markdown",
   "id": "92273846",
   "metadata": {},
   "source": [
    "#### Retrive:"
   ]
  },
  {
   "cell_type": "code",
   "execution_count": 78,
   "id": "1852f950",
   "metadata": {},
   "outputs": [
    {
     "name": "stdout",
     "output_type": "stream",
     "text": [
      "Raj\n"
     ]
    }
   ],
   "source": [
    "q1 = student.get('firstName')\n",
    "print(q1)"
   ]
  },
  {
   "cell_type": "code",
   "execution_count": 80,
   "id": "c19fce98",
   "metadata": {},
   "outputs": [
    {
     "name": "stdout",
     "output_type": "stream",
     "text": [
      "None\n"
     ]
    }
   ],
   "source": [
    "#get\n",
    "q2 = student.get('FirstName')\n",
    "print(q2)"
   ]
  },
  {
   "cell_type": "code",
   "execution_count": 81,
   "id": "40f6e99d",
   "metadata": {},
   "outputs": [
    {
     "name": "stdout",
     "output_type": "stream",
     "text": [
      "None\n",
      "Key not defined\n"
     ]
    }
   ],
   "source": [
    "# get does not give error if key does not exist\n",
    "#print(student['FirstName']) # It gives KeyError\n",
    "\n",
    "q1 = student.get('FirstName')\n",
    "print(q1)\n",
    "q2 = student.get('FirstName',\"Key not defined\")\n",
    "print(q2)"
   ]
  },
  {
   "cell_type": "code",
   "execution_count": null,
   "id": "e9f0f9a0",
   "metadata": {},
   "outputs": [],
   "source": []
  },
  {
   "cell_type": "markdown",
   "id": "6a90118e",
   "metadata": {},
   "source": [
    "#### update()"
   ]
  },
  {
   "cell_type": "code",
   "execution_count": 86,
   "id": "9f451d2e",
   "metadata": {},
   "outputs": [
    {
     "data": {
      "text/plain": [
       "{'firstName': 'tanmay', 'lastName': 'RRR', 'kk': 'KKK'}"
      ]
     },
     "execution_count": 86,
     "metadata": {},
     "output_type": "execute_result"
    }
   ],
   "source": [
    "# one at one time\n",
    "student['kk']=\"KKK\"\n",
    "student"
   ]
  },
  {
   "cell_type": "code",
   "execution_count": 83,
   "id": "6ffad26f",
   "metadata": {},
   "outputs": [
    {
     "name": "stdout",
     "output_type": "stream",
     "text": [
      "{'firstName': 'tanmay', 'lastName': 'RRR', 'age': 56, 'skills': ['pyhton', 'javascript']}\n"
     ]
    }
   ],
   "source": [
    "# multiple at one time\n",
    "\n",
    "student.update({\"firstName\":\"tanmay\",\"age\":56})\n",
    "print(student)"
   ]
  },
  {
   "cell_type": "code",
   "execution_count": 84,
   "id": "1485f7c3",
   "metadata": {},
   "outputs": [
    {
     "name": "stdout",
     "output_type": "stream",
     "text": [
      "56\n",
      "{'firstName': 'tanmay', 'lastName': 'RRR', 'skills': ['pyhton', 'javascript']}\n"
     ]
    }
   ],
   "source": [
    "#pop()\n",
    "\n",
    "print(student.pop('age'))\n",
    "print(student)\n"
   ]
  },
  {
   "cell_type": "code",
   "execution_count": 88,
   "id": "6a69b807",
   "metadata": {},
   "outputs": [
    {
     "name": "stdout",
     "output_type": "stream",
     "text": [
      "('kkkkk', 'KKkkkkK')\n",
      "{'firstName': 'tanmay', 'lastName': 'RRR', 'kk': 'KKK'}\n"
     ]
    }
   ],
   "source": [
    "# popitem() :- removes the last inserted item\n",
    "print(student.popitem())\n",
    "print(student)"
   ]
  },
  {
   "cell_type": "code",
   "execution_count": null,
   "id": "1cc87d4b",
   "metadata": {},
   "outputs": [],
   "source": []
  },
  {
   "cell_type": "code",
   "execution_count": 91,
   "id": "227c7607",
   "metadata": {},
   "outputs": [],
   "source": [
    "student = {\n",
    "    'firstName':\"Raj\",\n",
    "    'lastName':\"RRR\",\n",
    "    \"age\":23,\n",
    "    \"skills\":[\"pyhton\",\"javascript\"],\n",
    "}"
   ]
  },
  {
   "cell_type": "code",
   "execution_count": 87,
   "id": "2af77e79",
   "metadata": {},
   "outputs": [
    {
     "data": {
      "text/plain": [
       "{'firstName': 'tanmay', 'lastName': 'RRR', 'kk': 'KKK', 'kkkkk': 'KKkkkkK'}"
      ]
     },
     "execution_count": 87,
     "metadata": {},
     "output_type": "execute_result"
    }
   ],
   "source": [
    "student['kkkkk']=\"KKkkkkK\"\n",
    "student"
   ]
  },
  {
   "cell_type": "code",
   "execution_count": 89,
   "id": "112cbc25",
   "metadata": {},
   "outputs": [
    {
     "data": {
      "text/plain": [
       "{'firstName': 'tanmay', 'kk': 'KKK'}"
      ]
     },
     "execution_count": 89,
     "metadata": {},
     "output_type": "execute_result"
    }
   ],
   "source": [
    "# del :- removes the item with the specified key name\n",
    "\n",
    "del student['lastName']\n",
    "student"
   ]
  },
  {
   "cell_type": "code",
   "execution_count": 92,
   "id": "2be4cebc",
   "metadata": {},
   "outputs": [
    {
     "ename": "NameError",
     "evalue": "name 'student' is not defined",
     "output_type": "error",
     "traceback": [
      "\u001b[1;31m---------------------------------------------------------------------------\u001b[0m",
      "\u001b[1;31mNameError\u001b[0m                                 Traceback (most recent call last)",
      "\u001b[1;32m~\\AppData\\Local\\Temp\\ipykernel_4332\\1137258176.py\u001b[0m in \u001b[0;36m<module>\u001b[1;34m\u001b[0m\n\u001b[0;32m      1\u001b[0m \u001b[1;31m# also delete fulll dict\u001b[0m\u001b[1;33m\u001b[0m\u001b[1;33m\u001b[0m\u001b[0m\n\u001b[0;32m      2\u001b[0m \u001b[1;32mdel\u001b[0m \u001b[0mstudent\u001b[0m\u001b[1;33m\u001b[0m\u001b[1;33m\u001b[0m\u001b[0m\n\u001b[1;32m----> 3\u001b[1;33m \u001b[0mstudent\u001b[0m\u001b[1;33m\u001b[0m\u001b[1;33m\u001b[0m\u001b[0m\n\u001b[0m",
      "\u001b[1;31mNameError\u001b[0m: name 'student' is not defined"
     ]
    }
   ],
   "source": [
    "# also delete fulll dict\n",
    "del student\n",
    "student"
   ]
  },
  {
   "cell_type": "raw",
   "id": "8d06853c",
   "metadata": {},
   "source": [
    "# fromkeys()\n",
    "The fromkeys() method returns a dictionary with the specified keys and the specified value.\n",
    "#Syntax\n",
    "dict.fromkeys(keys, value)"
   ]
  },
  {
   "cell_type": "code",
   "execution_count": 93,
   "id": "40756483",
   "metadata": {},
   "outputs": [
    {
     "name": "stdout",
     "output_type": "stream",
     "text": [
      "{'student1': None, 'student2': None, 'student3': None}\n"
     ]
    }
   ],
   "source": [
    "keys = [\"student1\",\"student2\",\"student3\"]\n",
    "y = None\n",
    "d = dict.fromkeys(keys,y)\n",
    "print(d)"
   ]
  },
  {
   "cell_type": "code",
   "execution_count": 98,
   "id": "efdeaa15",
   "metadata": {},
   "outputs": [
    {
     "name": "stdout",
     "output_type": "stream",
     "text": [
      "{'student1': [1, 2, 3], 'student2': [1, 2, 3], 'student3': [1, 2, 3]}\n"
     ]
    }
   ],
   "source": [
    "keys = [\"student1\",\"student2\",\"student3\"]\n",
    "y = [1,2,3]\n",
    "\n",
    "d = dict.fromkeys(keys,y)\n",
    "print(d)"
   ]
  },
  {
   "cell_type": "code",
   "execution_count": 96,
   "id": "65522a29",
   "metadata": {},
   "outputs": [
    {
     "data": {
      "text/plain": [
       "dict_keys(['student1', 'student2', 'student3'])"
      ]
     },
     "execution_count": 96,
     "metadata": {},
     "output_type": "execute_result"
    }
   ],
   "source": [
    "d.keys()"
   ]
  },
  {
   "cell_type": "code",
   "execution_count": 97,
   "id": "e15e9373",
   "metadata": {},
   "outputs": [
    {
     "data": {
      "text/plain": [
       "dict_values([[1, 2, 3], [1, 2, 3], [1, 2, 3]])"
      ]
     },
     "execution_count": 97,
     "metadata": {},
     "output_type": "execute_result"
    }
   ],
   "source": [
    "d.values()"
   ]
  },
  {
   "cell_type": "code",
   "execution_count": null,
   "id": "8f2168b1",
   "metadata": {},
   "outputs": [],
   "source": []
  },
  {
   "cell_type": "raw",
   "id": "9b4b733d",
   "metadata": {},
   "source": [
    "# setdefault() = get + update\n",
    "If the key does not exist, insert the key, with the specified value\n",
    "# Syntax\n",
    "dictionary.setdefault(keyname, value)"
   ]
  },
  {
   "cell_type": "code",
   "execution_count": 102,
   "id": "59048a4c",
   "metadata": {},
   "outputs": [],
   "source": [
    "student = {\n",
    "    'firstName':\"Priyanka\",\n",
    "    'lastName':\"deshpande\",\n",
    "    \"age\":23,\n",
    "    \"skills\":[\"pyhton\",\"javascript\"],\n",
    "}"
   ]
  },
  {
   "cell_type": "code",
   "execution_count": 100,
   "id": "0b4f1d31",
   "metadata": {},
   "outputs": [
    {
     "ename": "KeyError",
     "evalue": "'city'",
     "output_type": "error",
     "traceback": [
      "\u001b[1;31m---------------------------------------------------------------------------\u001b[0m",
      "\u001b[1;31mKeyError\u001b[0m                                  Traceback (most recent call last)",
      "\u001b[1;32m~\\AppData\\Local\\Temp\\ipykernel_4332\\4029896397.py\u001b[0m in \u001b[0;36m<module>\u001b[1;34m\u001b[0m\n\u001b[1;32m----> 1\u001b[1;33m \u001b[0mstudent\u001b[0m\u001b[1;33m[\u001b[0m\u001b[1;34m'city'\u001b[0m\u001b[1;33m]\u001b[0m\u001b[1;33m\u001b[0m\u001b[1;33m\u001b[0m\u001b[0m\n\u001b[0m",
      "\u001b[1;31mKeyError\u001b[0m: 'city'"
     ]
    }
   ],
   "source": [
    "student['city']"
   ]
  },
  {
   "cell_type": "code",
   "execution_count": 103,
   "id": "b4038881",
   "metadata": {},
   "outputs": [
    {
     "name": "stdout",
     "output_type": "stream",
     "text": [
      "{'firstName': 'Priyanka', 'lastName': 'deshpande', 'age': 23, 'skills': ['pyhton', 'javascript'], 'city': 'Pune'}\n"
     ]
    }
   ],
   "source": [
    "student.setdefault('city','Pune')\n",
    "print(student)"
   ]
  },
  {
   "cell_type": "code",
   "execution_count": 106,
   "id": "78269ff7",
   "metadata": {},
   "outputs": [],
   "source": [
    "student = {\n",
    "    'firstName':\"Priyanka\",\n",
    "    'lastName':\"deshpande\",\n",
    "    \"age\":23,\n",
    "    \"skills\":[\"pyhton\",\"javascript\"],\n",
    "    'city':\"Mumbai\"\n",
    "}"
   ]
  },
  {
   "cell_type": "code",
   "execution_count": 108,
   "id": "d5d26d03",
   "metadata": {},
   "outputs": [
    {
     "name": "stdout",
     "output_type": "stream",
     "text": [
      "{'firstName': 'Priyanka', 'lastName': 'deshpande', 'age': 23, 'skills': ['pyhton', 'javascript'], 'city': 'Mumbai'}\n"
     ]
    }
   ],
   "source": [
    "student.setdefault('city','Pune')  #If not exist then update\n",
    "print(student)"
   ]
  },
  {
   "cell_type": "code",
   "execution_count": null,
   "id": "b2420467",
   "metadata": {},
   "outputs": [],
   "source": []
  },
  {
   "cell_type": "markdown",
   "id": "06557bd3",
   "metadata": {},
   "source": [
    "## Function in Python"
   ]
  },
  {
   "cell_type": "code",
   "execution_count": 111,
   "id": "0a64b6e6",
   "metadata": {},
   "outputs": [],
   "source": [
    "def even(x):\n",
    "    b = []\n",
    "    for i in x:\n",
    "        if i%2 == 0:\n",
    "            b.append(i)\n",
    "    return b"
   ]
  },
  {
   "cell_type": "code",
   "execution_count": 110,
   "id": "fcc473c5",
   "metadata": {},
   "outputs": [
    {
     "data": {
      "text/plain": [
       "[10, 22, 78, 44]"
      ]
     },
     "execution_count": 110,
     "metadata": {},
     "output_type": "execute_result"
    }
   ],
   "source": [
    "even([10,22,45,78,77,44,11])"
   ]
  },
  {
   "cell_type": "code",
   "execution_count": 113,
   "id": "fd3564a1",
   "metadata": {},
   "outputs": [],
   "source": [
    "list_num = [100,200,300,400]\n",
    "\n",
    "def double(z):\n",
    "    d = []\n",
    "    for i in z:\n",
    "        d.append(2*i)\n",
    "    return d"
   ]
  },
  {
   "cell_type": "code",
   "execution_count": 112,
   "id": "9f0c319e",
   "metadata": {},
   "outputs": [
    {
     "name": "stdout",
     "output_type": "stream",
     "text": [
      "[200, 400, 600, 800]\n"
     ]
    }
   ],
   "source": [
    "print(double(list_num))"
   ]
  },
  {
   "cell_type": "code",
   "execution_count": null,
   "id": "b276b486",
   "metadata": {},
   "outputs": [],
   "source": []
  },
  {
   "cell_type": "code",
   "execution_count": 30,
   "id": "31cf9dd2",
   "metadata": {},
   "outputs": [
    {
     "data": {
      "text/plain": [
       "[10, 22, 78, 44]"
      ]
     },
     "execution_count": 30,
     "metadata": {},
     "output_type": "execute_result"
    }
   ],
   "source": [
    "\n"
   ]
  },
  {
   "cell_type": "code",
   "execution_count": 114,
   "id": "28ed88cb",
   "metadata": {},
   "outputs": [
    {
     "name": "stdout",
     "output_type": "stream",
     "text": [
      "[13, 11, 12, 12.0, 0]\n"
     ]
    }
   ],
   "source": [
    "def calculator(a,b):\n",
    "    q1 = a + b\n",
    "    q2 = a - b\n",
    "    q3 = a * b\n",
    "    q4 = a / b\n",
    "    q5 = a % b\n",
    "    return [q1,q2,q3,q4,q5]\n",
    "\n",
    "listC = calculator(12,1)\n",
    "print(listC)\n"
   ]
  },
  {
   "cell_type": "code",
   "execution_count": 116,
   "id": "7acaafe0",
   "metadata": {},
   "outputs": [
    {
     "data": {
      "text/plain": [
       "[9, 5, 14, 3.5, 1]"
      ]
     },
     "execution_count": 116,
     "metadata": {},
     "output_type": "execute_result"
    }
   ],
   "source": [
    "calculator(7,2)"
   ]
  },
  {
   "cell_type": "code",
   "execution_count": null,
   "id": "c59bdfda",
   "metadata": {},
   "outputs": [],
   "source": []
  },
  {
   "cell_type": "raw",
   "id": "59d13f13",
   "metadata": {},
   "source": [
    "Docstrings in Python\n",
    "    The full meaning of docstring is documentation string.\n",
    "    It's specified in source code that is used, like a comment, to document a specific segment of code.\n",
    "    \n",
    "# Declaring Docstrings: The docstrings are declared using '''triple single quotes''' or \"\"\"triple double quotes\"\"\" just below the class/function.\n"
   ]
  },
  {
   "cell_type": "code",
   "execution_count": null,
   "id": "ddb2fc2b",
   "metadata": {},
   "outputs": [],
   "source": []
  },
  {
   "cell_type": "code",
   "execution_count": 117,
   "id": "26222894",
   "metadata": {},
   "outputs": [],
   "source": [
    "def add(a,b):\n",
    "    \"\"\"Function to add two numbers\"\"\"\n",
    "    add = a+b\n",
    "    return add"
   ]
  },
  {
   "cell_type": "code",
   "execution_count": 32,
   "id": "3638ed09",
   "metadata": {},
   "outputs": [
    {
     "data": {
      "text/plain": [
       "10"
      ]
     },
     "execution_count": 32,
     "metadata": {},
     "output_type": "execute_result"
    }
   ],
   "source": [
    "add(5,5)"
   ]
  },
  {
   "cell_type": "code",
   "execution_count": 119,
   "id": "9d4e65ed",
   "metadata": {},
   "outputs": [
    {
     "data": {
      "text/plain": [
       "'Function to add two numbers'"
      ]
     },
     "execution_count": 119,
     "metadata": {},
     "output_type": "execute_result"
    }
   ],
   "source": [
    "# Accessing Docstrings: The docstrings can be accessed using the __doc__ method of the object or using the help functio\n",
    "\n",
    "#we can access the doctsrting as follows\n",
    "\n",
    "add.__doc__\n",
    "# print(add.__doc__)"
   ]
  },
  {
   "cell_type": "code",
   "execution_count": 120,
   "id": "3554f027",
   "metadata": {},
   "outputs": [],
   "source": [
    "def even(x):\n",
    "    \"\"\"This function gives even number\"\"\"\n",
    "    b = []\n",
    "    for i in x:\n",
    "        if i%2 == 0:\n",
    "            b.append(i)\n",
    "    return b"
   ]
  },
  {
   "cell_type": "code",
   "execution_count": 121,
   "id": "300aedde",
   "metadata": {},
   "outputs": [
    {
     "data": {
      "text/plain": [
       "'This function gives even number'"
      ]
     },
     "execution_count": 121,
     "metadata": {},
     "output_type": "execute_result"
    }
   ],
   "source": [
    "even.__doc__"
   ]
  },
  {
   "cell_type": "code",
   "execution_count": 122,
   "id": "7d7ecf5b",
   "metadata": {},
   "outputs": [
    {
     "data": {
      "text/plain": [
       "[10, 22, 78, 44]"
      ]
     },
     "execution_count": 122,
     "metadata": {},
     "output_type": "execute_result"
    }
   ],
   "source": [
    " even([10,22,45,78,77,44,11])"
   ]
  },
  {
   "cell_type": "code",
   "execution_count": null,
   "id": "ccf25b9e",
   "metadata": {},
   "outputs": [],
   "source": []
  },
  {
   "cell_type": "code",
   "execution_count": 123,
   "id": "ff587a03",
   "metadata": {},
   "outputs": [],
   "source": [
    "def odd(x):\n",
    "    \"\"\"This function gives odd number\"\"\"\n",
    "    b = []\n",
    "    for i in x:\n",
    "        if i%2 != 0:\n",
    "            b.append(i)\n",
    "    return b"
   ]
  },
  {
   "cell_type": "code",
   "execution_count": 124,
   "id": "43fbe275",
   "metadata": {},
   "outputs": [
    {
     "data": {
      "text/plain": [
       "'This function gives odd number'"
      ]
     },
     "execution_count": 124,
     "metadata": {},
     "output_type": "execute_result"
    }
   ],
   "source": [
    "odd.__doc__"
   ]
  },
  {
   "cell_type": "code",
   "execution_count": 125,
   "id": "4b785c53",
   "metadata": {},
   "outputs": [
    {
     "data": {
      "text/plain": [
       "[45, 77, 11]"
      ]
     },
     "execution_count": 125,
     "metadata": {},
     "output_type": "execute_result"
    }
   ],
   "source": [
    " odd([10,22,45,78,77,44,11])"
   ]
  },
  {
   "cell_type": "code",
   "execution_count": 127,
   "id": "250a9787",
   "metadata": {},
   "outputs": [
    {
     "ename": "TypeError",
     "evalue": "odd() takes 1 positional argument but 2 were given",
     "output_type": "error",
     "traceback": [
      "\u001b[1;31m---------------------------------------------------------------------------\u001b[0m",
      "\u001b[1;31mTypeError\u001b[0m                                 Traceback (most recent call last)",
      "\u001b[1;32m~\\AppData\\Local\\Temp\\ipykernel_4332\\1468238910.py\u001b[0m in \u001b[0;36m<module>\u001b[1;34m\u001b[0m\n\u001b[1;32m----> 1\u001b[1;33m \u001b[0modd\u001b[0m\u001b[1;33m(\u001b[0m\u001b[1;36m2\u001b[0m\u001b[1;33m,\u001b[0m\u001b[1;36m3\u001b[0m\u001b[1;33m)\u001b[0m\u001b[1;33m\u001b[0m\u001b[1;33m\u001b[0m\u001b[0m\n\u001b[0m",
      "\u001b[1;31mTypeError\u001b[0m: odd() takes 1 positional argument but 2 were given"
     ]
    }
   ],
   "source": [
    " odd(2,3)"
   ]
  },
  {
   "cell_type": "code",
   "execution_count": 126,
   "id": "b626afc2",
   "metadata": {},
   "outputs": [
    {
     "name": "stdout",
     "output_type": "stream",
     "text": [
      "10.0\n"
     ]
    }
   ],
   "source": [
    "def average(a,b,c):\n",
    "    avg= (a+b+c)/3\n",
    "    return avg\n",
    "print(average(5,10,15))"
   ]
  },
  {
   "cell_type": "code",
   "execution_count": null,
   "id": "c1bf5510",
   "metadata": {},
   "outputs": [],
   "source": [
    " # *args :- variable lenght argument \n",
    "\n",
    "# *args used when we don't know how many arguments will be given (it create tuple)"
   ]
  },
  {
   "cell_type": "code",
   "execution_count": 130,
   "id": "63ec30c5",
   "metadata": {},
   "outputs": [
    {
     "name": "stdout",
     "output_type": "stream",
     "text": [
      "3.0\n"
     ]
    }
   ],
   "source": [
    "def avg(*args):\n",
    "    avg=sum(args)/len(args)\n",
    "    return avg\n",
    "print(avg(1,2,3,4,5))\n"
   ]
  },
  {
   "cell_type": "code",
   "execution_count": 129,
   "id": "368511c4",
   "metadata": {},
   "outputs": [
    {
     "data": {
      "text/plain": [
       "11.466666666666667"
      ]
     },
     "execution_count": 129,
     "metadata": {},
     "output_type": "execute_result"
    }
   ],
   "source": [
    "avg(23.4,5,6)"
   ]
  },
  {
   "cell_type": "markdown",
   "id": "29093281",
   "metadata": {},
   "source": [
    "#### Lambda function"
   ]
  },
  {
   "cell_type": "raw",
   "id": "5423c462",
   "metadata": {},
   "source": [
    "A lambda function is an anonymous function in Python that can be created quickly and easily without having to define a named function using the def keyword."
   ]
  },
  {
   "cell_type": "code",
   "execution_count": 133,
   "id": "159e62f8",
   "metadata": {},
   "outputs": [
    {
     "name": "stdout",
     "output_type": "stream",
     "text": [
      "144\n",
      "9\n"
     ]
    }
   ],
   "source": [
    "def square(x):\n",
    "    return x * x\n",
    "print(square(12))\n",
    "print(square(3))"
   ]
  },
  {
   "cell_type": "code",
   "execution_count": null,
   "id": "f086ba64",
   "metadata": {},
   "outputs": [],
   "source": [
    "lambda x : X*X"
   ]
  },
  {
   "cell_type": "code",
   "execution_count": 134,
   "id": "ec9bd8b7",
   "metadata": {},
   "outputs": [
    {
     "name": "stdout",
     "output_type": "stream",
     "text": [
      "144\n",
      "36\n"
     ]
    }
   ],
   "source": [
    "q1 = lambda x:x*x\n",
    "print(q1(12))\n",
    "print(q1(6))"
   ]
  },
  {
   "cell_type": "code",
   "execution_count": null,
   "id": "52dc2c79",
   "metadata": {},
   "outputs": [],
   "source": [
    "a1 = lambda x,y:x+y\n",
    "print(a1(12,3))"
   ]
  },
  {
   "cell_type": "code",
   "execution_count": 135,
   "id": "781da1e1",
   "metadata": {},
   "outputs": [],
   "source": [
    "a = lambda x,y,z,zz : x+y-z+zz"
   ]
  },
  {
   "cell_type": "code",
   "execution_count": 136,
   "id": "f169419c",
   "metadata": {},
   "outputs": [
    {
     "data": {
      "text/plain": [
       "6"
      ]
     },
     "execution_count": 136,
     "metadata": {},
     "output_type": "execute_result"
    }
   ],
   "source": [
    "a(2,3,4,5)"
   ]
  },
  {
   "cell_type": "raw",
   "id": "5d768865",
   "metadata": {},
   "source": [
    "# Rules of global Keyword\n",
    "The basic rules for global keyword in Python are:\n",
    "\n",
    "When we create a variable inside a function, it is local by default.\n",
    "When we define a variable outside of a function, it is global by default. You don't have to use global keyword.\n",
    "We use global keyword to read and write a global variable inside a function.\n",
    "Use of global keyword outside a function has no effect.\n",
    "\n"
   ]
  },
  {
   "cell_type": "code",
   "execution_count": 141,
   "id": "74c1ee65",
   "metadata": {},
   "outputs": [
    {
     "name": "stdout",
     "output_type": "stream",
     "text": [
      "10\n"
     ]
    }
   ],
   "source": [
    "# only in local scope\n",
    "def addA():\n",
    "    aa = 10\n",
    "    print(aa)\n",
    "addA()\n",
    "# print(a) not accessible\n"
   ]
  },
  {
   "cell_type": "code",
   "execution_count": 142,
   "id": "a1ec21cd",
   "metadata": {},
   "outputs": [
    {
     "ename": "NameError",
     "evalue": "name 'aa' is not defined",
     "output_type": "error",
     "traceback": [
      "\u001b[1;31m---------------------------------------------------------------------------\u001b[0m",
      "\u001b[1;31mNameError\u001b[0m                                 Traceback (most recent call last)",
      "\u001b[1;32m~\\AppData\\Local\\Temp\\ipykernel_4332\\2504174267.py\u001b[0m in \u001b[0;36m<module>\u001b[1;34m\u001b[0m\n\u001b[1;32m----> 1\u001b[1;33m \u001b[0mprint\u001b[0m\u001b[1;33m(\u001b[0m\u001b[0maa\u001b[0m\u001b[1;33m)\u001b[0m\u001b[1;33m\u001b[0m\u001b[1;33m\u001b[0m\u001b[0m\n\u001b[0m",
      "\u001b[1;31mNameError\u001b[0m: name 'aa' is not defined"
     ]
    }
   ],
   "source": [
    "print(aa)  "
   ]
  },
  {
   "cell_type": "code",
   "execution_count": 145,
   "id": "a03a4dee",
   "metadata": {},
   "outputs": [
    {
     "data": {
      "text/plain": [
       "10"
      ]
     },
     "execution_count": 145,
     "metadata": {},
     "output_type": "execute_result"
    }
   ],
   "source": [
    "def addA():\n",
    "    global a\n",
    "    a = 10\n",
    "    return(a)\n",
    "addA()\n",
    "# print(a) not accessible"
   ]
  },
  {
   "cell_type": "code",
   "execution_count": 144,
   "id": "35bd158e",
   "metadata": {},
   "outputs": [
    {
     "name": "stdout",
     "output_type": "stream",
     "text": [
      "10\n"
     ]
    }
   ],
   "source": [
    "print(a)  "
   ]
  },
  {
   "cell_type": "code",
   "execution_count": 137,
   "id": "1cad8875",
   "metadata": {},
   "outputs": [],
   "source": [
    "a= 5"
   ]
  },
  {
   "cell_type": "code",
   "execution_count": null,
   "id": "612c8432",
   "metadata": {},
   "outputs": [],
   "source": [
    "# map , filter , reduce"
   ]
  },
  {
   "cell_type": "code",
   "execution_count": 146,
   "id": "d400846e",
   "metadata": {},
   "outputs": [
    {
     "ename": "NameError",
     "evalue": "name 'function' is not defined",
     "output_type": "error",
     "traceback": [
      "\u001b[1;31m---------------------------------------------------------------------------\u001b[0m",
      "\u001b[1;31mNameError\u001b[0m                                 Traceback (most recent call last)",
      "\u001b[1;32m~\\AppData\\Local\\Temp\\ipykernel_4332\\3292065526.py\u001b[0m in \u001b[0;36m<module>\u001b[1;34m\u001b[0m\n\u001b[1;32m----> 1\u001b[1;33m \u001b[0mmap\u001b[0m\u001b[1;33m(\u001b[0m\u001b[0mfunction\u001b[0m\u001b[1;33m,\u001b[0m\u001b[0miterable_object\u001b[0m\u001b[1;33m)\u001b[0m\u001b[1;33m\u001b[0m\u001b[1;33m\u001b[0m\u001b[0m\n\u001b[0m",
      "\u001b[1;31mNameError\u001b[0m: name 'function' is not defined"
     ]
    }
   ],
   "source": [
    "Syntax\n",
    "map(function,iterable_object)"
   ]
  },
  {
   "cell_type": "code",
   "execution_count": 147,
   "id": "a324ba9c",
   "metadata": {},
   "outputs": [],
   "source": [
    "def double(z):\n",
    "    d = []\n",
    "    for i in z:\n",
    "        d.append(2*i)\n",
    "    return d"
   ]
  },
  {
   "cell_type": "code",
   "execution_count": 150,
   "id": "1775e352",
   "metadata": {},
   "outputs": [
    {
     "data": {
      "text/plain": [
       "[1, 4, 9, 16]"
      ]
     },
     "execution_count": 150,
     "metadata": {},
     "output_type": "execute_result"
    }
   ],
   "source": [
    "list(map(lambda x:x*x,[1,2,3,4]))"
   ]
  },
  {
   "cell_type": "code",
   "execution_count": null,
   "id": "7de022ca",
   "metadata": {},
   "outputs": [],
   "source": [
    "[1,2,3,4] # +"
   ]
  }
 ],
 "metadata": {
  "kernelspec": {
   "display_name": "Python 3 (ipykernel)",
   "language": "python",
   "name": "python3"
  },
  "language_info": {
   "codemirror_mode": {
    "name": "ipython",
    "version": 3
   },
   "file_extension": ".py",
   "mimetype": "text/x-python",
   "name": "python",
   "nbconvert_exporter": "python",
   "pygments_lexer": "ipython3",
   "version": "3.9.13"
  }
 },
 "nbformat": 4,
 "nbformat_minor": 5
}
