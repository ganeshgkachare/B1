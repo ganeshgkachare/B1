{
 "cells": [
  {
   "cell_type": "markdown",
   "id": "f1785828",
   "metadata": {},
   "source": [
    "## input() function"
   ]
  },
  {
   "cell_type": "raw",
   "id": "49a08351",
   "metadata": {},
   "source": [
    "In Python, Using the input() function, we take input from a user, and using the\n",
    "print() function we display output on the screen. \n",
    "\n",
    "\n",
    "The Python input() function is used to accept user inputs. \n",
    "\n",
    "input (): This function first takes the input from the user and converts it into a string. "
   ]
  },
  {
   "cell_type": "code",
   "execution_count": 78,
   "id": "3d8814fa",
   "metadata": {},
   "outputs": [],
   "source": [
    "a =5"
   ]
  },
  {
   "cell_type": "code",
   "execution_count": 79,
   "id": "1ffab1e0",
   "metadata": {},
   "outputs": [
    {
     "data": {
      "text/plain": [
       "5"
      ]
     },
     "execution_count": 79,
     "metadata": {},
     "output_type": "execute_result"
    }
   ],
   "source": [
    "a\n"
   ]
  },
  {
   "cell_type": "code",
   "execution_count": 80,
   "id": "37eabbec",
   "metadata": {},
   "outputs": [
    {
     "name": "stdout",
     "output_type": "stream",
     "text": [
      "put any number666\n"
     ]
    }
   ],
   "source": [
    "a = input(\"put any number\")"
   ]
  },
  {
   "cell_type": "code",
   "execution_count": 82,
   "id": "b370215e",
   "metadata": {},
   "outputs": [
    {
     "data": {
      "text/plain": [
       "str"
      ]
     },
     "execution_count": 82,
     "metadata": {},
     "output_type": "execute_result"
    }
   ],
   "source": [
    "type(a)\n"
   ]
  },
  {
   "cell_type": "code",
   "execution_count": null,
   "id": "d8e843eb",
   "metadata": {},
   "outputs": [],
   "source": []
  },
  {
   "cell_type": "code",
   "execution_count": 83,
   "id": "6ed7de85",
   "metadata": {},
   "outputs": [
    {
     "name": "stdout",
     "output_type": "stream",
     "text": [
      "put any number55\n"
     ]
    }
   ],
   "source": [
    "a = int(input(\"put any number\"))"
   ]
  },
  {
   "cell_type": "code",
   "execution_count": 84,
   "id": "863188f5",
   "metadata": {},
   "outputs": [
    {
     "data": {
      "text/plain": [
       "int"
      ]
     },
     "execution_count": 84,
     "metadata": {},
     "output_type": "execute_result"
    }
   ],
   "source": [
    "type(a)"
   ]
  },
  {
   "cell_type": "code",
   "execution_count": 3,
   "id": "c62f0776",
   "metadata": {},
   "outputs": [
    {
     "name": "stdout",
     "output_type": "stream",
     "text": [
      "Enter a number 3\n",
      "User entered: 3\n"
     ]
    }
   ],
   "source": [
    "# Example:\n",
    "\n",
    "number = input('Enter a number ')\n",
    "print('User entered:',number)"
   ]
  },
  {
   "cell_type": "code",
   "execution_count": 4,
   "id": "df52b451",
   "metadata": {},
   "outputs": [
    {
     "name": "stdout",
     "output_type": "stream",
     "text": [
      "<class 'str'>\n"
     ]
    }
   ],
   "source": [
    "print(type(number))"
   ]
  },
  {
   "cell_type": "code",
   "execution_count": 5,
   "id": "312cfe1f",
   "metadata": {},
   "outputs": [
    {
     "name": "stdout",
     "output_type": "stream",
     "text": [
      "Enter a number 5\n",
      "User entered: 5\n"
     ]
    }
   ],
   "source": [
    "#You can change input datatype by casting\n",
    "#eg.1\n",
    "number = int(input('Enter a number '))\n",
    "print('User entered:',number)"
   ]
  },
  {
   "cell_type": "code",
   "execution_count": 6,
   "id": "3f96afd3",
   "metadata": {},
   "outputs": [
    {
     "name": "stdout",
     "output_type": "stream",
     "text": [
      "<class 'int'>\n"
     ]
    }
   ],
   "source": [
    "print(type(number))"
   ]
  },
  {
   "cell_type": "code",
   "execution_count": 85,
   "id": "d4717b8c",
   "metadata": {},
   "outputs": [
    {
     "name": "stdout",
     "output_type": "stream",
     "text": [
      "Enter a Quantity: 5\n",
      "Enter size: 20\n",
      "Your item cost is:  100\n"
     ]
    }
   ],
   "source": [
    "#eg.2\n",
    "product_quantity = int(input('Enter a Quantity: '))\n",
    "product_price = int(input('Enter size: '))\n",
    "product_cost = product_quantity * product_price\n",
    "\n",
    "print('Your item cost is: ',product_cost)"
   ]
  },
  {
   "cell_type": "code",
   "execution_count": null,
   "id": "d24917f6",
   "metadata": {},
   "outputs": [],
   "source": []
  },
  {
   "cell_type": "markdown",
   "id": "b7ee268f",
   "metadata": {},
   "source": [
    "## Tuple"
   ]
  },
  {
   "cell_type": "raw",
   "id": "4f905d8d",
   "metadata": {},
   "source": [
    "A tuple is a collection which is ordered and unchangeable (Immutable) and allow duplicates.\n",
    "\n",
    "Tuples are written with round brackets."
   ]
  },
  {
   "cell_type": "code",
   "execution_count": 86,
   "id": "8427600c",
   "metadata": {},
   "outputs": [],
   "source": [
    "# editing the values inside a tuple\n",
    "#      0 1 2 3 4 5 6 \n",
    "tup = (1,3,5,7,9,9,9)"
   ]
  },
  {
   "cell_type": "code",
   "execution_count": 87,
   "id": "5d992b2b",
   "metadata": {},
   "outputs": [
    {
     "data": {
      "text/plain": [
       "5"
      ]
     },
     "execution_count": 87,
     "metadata": {},
     "output_type": "execute_result"
    }
   ],
   "source": [
    "tup[2]"
   ]
  },
  {
   "cell_type": "code",
   "execution_count": 88,
   "id": "6b3f2033",
   "metadata": {},
   "outputs": [
    {
     "data": {
      "text/plain": [
       "(5, 7, 9, 9, 9)"
      ]
     },
     "execution_count": 88,
     "metadata": {},
     "output_type": "execute_result"
    }
   ],
   "source": [
    "tup[2:]"
   ]
  },
  {
   "cell_type": "code",
   "execution_count": 89,
   "id": "fe2caa67",
   "metadata": {},
   "outputs": [
    {
     "data": {
      "text/plain": [
       "(1, 3, 5, 7, 9, 9, 9)"
      ]
     },
     "execution_count": 89,
     "metadata": {},
     "output_type": "execute_result"
    }
   ],
   "source": [
    "tup[:]"
   ]
  },
  {
   "cell_type": "code",
   "execution_count": 90,
   "id": "fcd312e5",
   "metadata": {},
   "outputs": [
    {
     "data": {
      "text/plain": [
       "(1, 3, 5, 7, 9, 9, 9)"
      ]
     },
     "execution_count": 90,
     "metadata": {},
     "output_type": "execute_result"
    }
   ],
   "source": [
    "tup[:]"
   ]
  },
  {
   "cell_type": "code",
   "execution_count": 91,
   "id": "8b76c904",
   "metadata": {},
   "outputs": [
    {
     "ename": "TypeError",
     "evalue": "'tuple' object does not support item assignment",
     "output_type": "error",
     "traceback": [
      "\u001b[1;31m---------------------------------------------------------------------------\u001b[0m",
      "\u001b[1;31mTypeError\u001b[0m                                 Traceback (most recent call last)",
      "\u001b[1;32m~\\AppData\\Local\\Temp\\ipykernel_12776\\1546095000.py\u001b[0m in \u001b[0;36m<module>\u001b[1;34m\u001b[0m\n\u001b[1;32m----> 1\u001b[1;33m \u001b[0mtup\u001b[0m\u001b[1;33m[\u001b[0m\u001b[1;36m2\u001b[0m\u001b[1;33m]\u001b[0m \u001b[1;33m=\u001b[0m \u001b[1;36m4\u001b[0m    \u001b[1;31m# Immutable\u001b[0m\u001b[1;33m\u001b[0m\u001b[1;33m\u001b[0m\u001b[0m\n\u001b[0m",
      "\u001b[1;31mTypeError\u001b[0m: 'tuple' object does not support item assignment"
     ]
    }
   ],
   "source": [
    "tup[2] = 4    # Immutable"
   ]
  },
  {
   "cell_type": "code",
   "execution_count": 92,
   "id": "b9c0c88d",
   "metadata": {},
   "outputs": [
    {
     "data": {
      "text/plain": [
       "(2, 3)"
      ]
     },
     "execution_count": 92,
     "metadata": {},
     "output_type": "execute_result"
    }
   ],
   "source": [
    "tup2 = 2,3\n",
    "tup2"
   ]
  },
  {
   "cell_type": "code",
   "execution_count": 93,
   "id": "dbee49fb",
   "metadata": {},
   "outputs": [
    {
     "data": {
      "text/plain": [
       "tuple"
      ]
     },
     "execution_count": 93,
     "metadata": {},
     "output_type": "execute_result"
    }
   ],
   "source": [
    "type(tup2)"
   ]
  },
  {
   "cell_type": "code",
   "execution_count": 94,
   "id": "d5397a30",
   "metadata": {},
   "outputs": [
    {
     "data": {
      "text/plain": [
       "int"
      ]
     },
     "execution_count": 94,
     "metadata": {},
     "output_type": "execute_result"
    }
   ],
   "source": [
    "type(4)"
   ]
  },
  {
   "cell_type": "code",
   "execution_count": 98,
   "id": "2a53ccb7",
   "metadata": {},
   "outputs": [
    {
     "data": {
      "text/plain": [
       "tuple"
      ]
     },
     "execution_count": 98,
     "metadata": {},
     "output_type": "execute_result"
    }
   ],
   "source": [
    "type((4,))"
   ]
  },
  {
   "cell_type": "code",
   "execution_count": 100,
   "id": "1dfca680",
   "metadata": {},
   "outputs": [],
   "source": [
    "tup3= 4,"
   ]
  },
  {
   "cell_type": "code",
   "execution_count": 34,
   "id": "1ac3a2b7",
   "metadata": {},
   "outputs": [
    {
     "data": {
      "text/plain": [
       "(4,)"
      ]
     },
     "execution_count": 34,
     "metadata": {},
     "output_type": "execute_result"
    }
   ],
   "source": [
    "tup3"
   ]
  },
  {
   "cell_type": "code",
   "execution_count": 101,
   "id": "626f152f",
   "metadata": {},
   "outputs": [
    {
     "data": {
      "text/plain": [
       "tuple"
      ]
     },
     "execution_count": 101,
     "metadata": {},
     "output_type": "execute_result"
    }
   ],
   "source": [
    "type(tup3)"
   ]
  },
  {
   "cell_type": "markdown",
   "id": "cb140b3b",
   "metadata": {},
   "source": [
    "### methods in a tuple"
   ]
  },
  {
   "cell_type": "code",
   "execution_count": 102,
   "id": "60808ef7",
   "metadata": {},
   "outputs": [
    {
     "name": "stdout",
     "output_type": "stream",
     "text": [
      "3\n",
      "0\n"
     ]
    }
   ],
   "source": [
    "tup = (1,3,5,7,9,9,9)\n",
    "print(tup.count(9))\n",
    "print(tup.count(45))"
   ]
  },
  {
   "cell_type": "code",
   "execution_count": 103,
   "id": "4ae00018",
   "metadata": {},
   "outputs": [
    {
     "name": "stdout",
     "output_type": "stream",
     "text": [
      "3\n",
      "4\n"
     ]
    }
   ],
   "source": [
    "print(tup.index(7)) \n",
    "print(tup.index(9)) #1st occurance of the element"
   ]
  },
  {
   "cell_type": "code",
   "execution_count": 104,
   "id": "dd6b94b8",
   "metadata": {},
   "outputs": [
    {
     "name": "stdout",
     "output_type": "stream",
     "text": [
      "1\n",
      "9\n",
      "[1, 3, 5, 7, 9, 9, 9]\n"
     ]
    }
   ],
   "source": [
    "## function\n",
    "\n",
    "print(min(tup))\n",
    "print(max(tup))\n",
    "print(sorted(tup)) #return you a list"
   ]
  },
  {
   "cell_type": "code",
   "execution_count": 105,
   "id": "503f8221",
   "metadata": {},
   "outputs": [
    {
     "data": {
      "text/plain": [
       "['H', 'e', 'l', 'l', 'o']"
      ]
     },
     "execution_count": 105,
     "metadata": {},
     "output_type": "execute_result"
    }
   ],
   "source": [
    "sorted(\"Hello\")"
   ]
  },
  {
   "cell_type": "code",
   "execution_count": null,
   "id": "090c4acf",
   "metadata": {},
   "outputs": [],
   "source": []
  },
  {
   "cell_type": "code",
   "execution_count": null,
   "id": "42a36e29",
   "metadata": {},
   "outputs": [],
   "source": []
  },
  {
   "cell_type": "code",
   "execution_count": 19,
   "id": "101404eb",
   "metadata": {},
   "outputs": [
    {
     "name": "stdout",
     "output_type": "stream",
     "text": [
      "[9, 9, 9, 7, 5, 3, 1]\n"
     ]
    }
   ],
   "source": [
    "t_buy = (99,55,44,11,22,33,44,55)\n",
    "print(sorted(tup , reverse=True))"
   ]
  },
  {
   "cell_type": "code",
   "execution_count": 20,
   "id": "780638a0",
   "metadata": {},
   "outputs": [
    {
     "ename": "TypeError",
     "evalue": "'<' not supported between instances of 'str' and 'int'",
     "output_type": "error",
     "traceback": [
      "\u001b[1;31m---------------------------------------------------------------------------\u001b[0m",
      "\u001b[1;31mTypeError\u001b[0m                                 Traceback (most recent call last)",
      "\u001b[1;32m~\\AppData\\Local\\Temp\\ipykernel_12776\\816788906.py\u001b[0m in \u001b[0;36m<module>\u001b[1;34m\u001b[0m\n\u001b[0;32m      1\u001b[0m \u001b[0mtup2\u001b[0m \u001b[1;33m=\u001b[0m \u001b[1;33m(\u001b[0m\u001b[1;36m99\u001b[0m\u001b[1;33m,\u001b[0m\u001b[1;36m55\u001b[0m\u001b[1;33m,\u001b[0m\u001b[1;36m44\u001b[0m\u001b[1;33m,\u001b[0m\u001b[1;36m11\u001b[0m\u001b[1;33m,\u001b[0m\u001b[1;36m22\u001b[0m\u001b[1;33m,\u001b[0m\u001b[1;36m33\u001b[0m\u001b[1;33m,\u001b[0m\u001b[1;36m44\u001b[0m\u001b[1;33m,\u001b[0m\u001b[1;36m55\u001b[0m\u001b[1;33m,\u001b[0m \u001b[1;34m'R'\u001b[0m\u001b[1;33m,\u001b[0m \u001b[1;34m'P'\u001b[0m\u001b[1;33m,\u001b[0m\u001b[1;34m'S'\u001b[0m\u001b[1;33m)\u001b[0m \u001b[1;31m# not supported bcz diff types of data\u001b[0m\u001b[1;33m\u001b[0m\u001b[1;33m\u001b[0m\u001b[0m\n\u001b[1;32m----> 2\u001b[1;33m \u001b[0mprint\u001b[0m\u001b[1;33m(\u001b[0m\u001b[0msorted\u001b[0m\u001b[1;33m(\u001b[0m\u001b[0mtup2\u001b[0m\u001b[1;33m)\u001b[0m\u001b[1;33m)\u001b[0m\u001b[1;33m\u001b[0m\u001b[1;33m\u001b[0m\u001b[0m\n\u001b[0m",
      "\u001b[1;31mTypeError\u001b[0m: '<' not supported between instances of 'str' and 'int'"
     ]
    }
   ],
   "source": [
    "tup2 = (99,55,44,11,22,33,44,55, 'R', 'P','S') \n",
    "print(sorted(tup2))  # not supported bcz diff types of data"
   ]
  },
  {
   "cell_type": "code",
   "execution_count": 21,
   "id": "40cec4d3",
   "metadata": {},
   "outputs": [
    {
     "name": "stdout",
     "output_type": "stream",
     "text": [
      "False\n",
      "True\n",
      "True\n"
     ]
    }
   ],
   "source": [
    "# membership operator\n",
    "\n",
    "tup3 = (99,55,44,11,22,33,44,55, 'R', 'P','S')\n",
    "\n",
    "print(\"Q\" in tup3)\n",
    "print(\"S\" in tup3)\n",
    "print(\"T\" not in tup3)"
   ]
  },
  {
   "cell_type": "code",
   "execution_count": 106,
   "id": "76e8fb3c",
   "metadata": {},
   "outputs": [],
   "source": [
    "# using loops to print (tuple is iterable)\n",
    "tup = (99,55,44,11,22,33,44,55, 'R', 'P','S')\n"
   ]
  },
  {
   "cell_type": "code",
   "execution_count": 110,
   "id": "9d7cb621",
   "metadata": {},
   "outputs": [
    {
     "name": "stdout",
     "output_type": "stream",
     "text": [
      "0\n",
      "1\n",
      "2\n",
      "3\n",
      "4\n",
      "5\n",
      "6\n",
      "7\n",
      "8\n",
      "9\n",
      "10\n"
     ]
    }
   ],
   "source": [
    "for i in range(len(tup)):\n",
    "    print(i)"
   ]
  },
  {
   "cell_type": "code",
   "execution_count": 111,
   "id": "d493d06c",
   "metadata": {},
   "outputs": [
    {
     "name": "stdout",
     "output_type": "stream",
     "text": [
      "99\n",
      "55\n",
      "44\n",
      "11\n",
      "22\n",
      "33\n",
      "44\n",
      "55\n",
      "R\n",
      "P\n",
      "S\n"
     ]
    }
   ],
   "source": [
    "for i in range(len(tup)):\n",
    "    print(tup[i])"
   ]
  },
  {
   "cell_type": "code",
   "execution_count": 112,
   "id": "1aeeb20d",
   "metadata": {},
   "outputs": [
    {
     "name": "stdout",
     "output_type": "stream",
     "text": [
      "99\n",
      "55\n",
      "44\n",
      "11\n",
      "22\n",
      "33\n",
      "44\n",
      "55\n",
      "R\n",
      "P\n",
      "S\n"
     ]
    }
   ],
   "source": [
    "for i in tup:\n",
    "    print(i)"
   ]
  },
  {
   "cell_type": "code",
   "execution_count": null,
   "id": "a37d6cdd",
   "metadata": {},
   "outputs": [],
   "source": [
    "# changable/mutable  : unhashable eg: list\n",
    "# unchangable/immutable :  hashable eg : tuple"
   ]
  },
  {
   "cell_type": "markdown",
   "id": "13d295ee",
   "metadata": {},
   "source": [
    "### Editing a tuple"
   ]
  },
  {
   "cell_type": "code",
   "execution_count": 114,
   "id": "ef465239",
   "metadata": {},
   "outputs": [
    {
     "name": "stdout",
     "output_type": "stream",
     "text": [
      "(1, 2, 3, 4, 5)\n"
     ]
    }
   ],
   "source": [
    "# converting to list (type casting)\n",
    "\n",
    "s1 = (1,2,3,4,5)\n",
    "print(s1)\n"
   ]
  },
  {
   "cell_type": "code",
   "execution_count": 115,
   "id": "476dc0b5",
   "metadata": {},
   "outputs": [],
   "source": [
    "s2 = list(s1)"
   ]
  },
  {
   "cell_type": "code",
   "execution_count": 116,
   "id": "0dc84449",
   "metadata": {},
   "outputs": [
    {
     "data": {
      "text/plain": [
       "[1, 2, 3, 4, 5]"
      ]
     },
     "execution_count": 116,
     "metadata": {},
     "output_type": "execute_result"
    }
   ],
   "source": [
    "s2"
   ]
  },
  {
   "cell_type": "code",
   "execution_count": 117,
   "id": "ffb24b5a",
   "metadata": {},
   "outputs": [],
   "source": [
    "s2.append(6)"
   ]
  },
  {
   "cell_type": "code",
   "execution_count": 118,
   "id": "d2bb531d",
   "metadata": {},
   "outputs": [
    {
     "name": "stdout",
     "output_type": "stream",
     "text": [
      "[1, 2, 3, 4, 5, 6, 6]\n"
     ]
    }
   ],
   "source": [
    "s2.append(6)\n",
    "print(s2)"
   ]
  },
  {
   "cell_type": "code",
   "execution_count": 119,
   "id": "89109661",
   "metadata": {},
   "outputs": [
    {
     "name": "stdout",
     "output_type": "stream",
     "text": [
      "(1, 2, 3, 4, 5, 6, 6)\n"
     ]
    }
   ],
   "source": [
    "s3 = tuple(s2)\n",
    "print(s3)"
   ]
  },
  {
   "cell_type": "code",
   "execution_count": 120,
   "id": "e9d30e02",
   "metadata": {},
   "outputs": [
    {
     "name": "stdout",
     "output_type": "stream",
     "text": [
      "2424396646256\n",
      "2424390499456\n",
      "2424396340096\n"
     ]
    }
   ],
   "source": [
    "print(id(s1))\n",
    "print(id(s2))\n",
    "print(id(s3))"
   ]
  },
  {
   "cell_type": "code",
   "execution_count": 124,
   "id": "6bbbe8f2",
   "metadata": {},
   "outputs": [
    {
     "name": "stdout",
     "output_type": "stream",
     "text": [
      "1\n",
      "5\n"
     ]
    }
   ],
   "source": [
    "print(s1.count(5))\n",
    "print(s3.index(6))"
   ]
  },
  {
   "cell_type": "markdown",
   "id": "fe8f2832",
   "metadata": {},
   "source": [
    "#### unpacking"
   ]
  },
  {
   "cell_type": "code",
   "execution_count": 125,
   "id": "def3b8c1",
   "metadata": {},
   "outputs": [
    {
     "data": {
      "text/plain": [
       "4"
      ]
     },
     "execution_count": 125,
     "metadata": {},
     "output_type": "execute_result"
    }
   ],
   "source": [
    "# unpacking\n",
    "\n",
    "t1  = (5,55,555,5555)\n",
    "len(t1)"
   ]
  },
  {
   "cell_type": "code",
   "execution_count": 126,
   "id": "0547ac36",
   "metadata": {},
   "outputs": [
    {
     "name": "stdout",
     "output_type": "stream",
     "text": [
      "5\n",
      "55\n",
      "555\n"
     ]
    }
   ],
   "source": [
    "a ,b, c ,d = t1\n",
    "\n",
    "print(a)\n",
    "print(b)\n",
    "print(c)"
   ]
  },
  {
   "cell_type": "code",
   "execution_count": 128,
   "id": "dff44c16",
   "metadata": {},
   "outputs": [
    {
     "ename": "ValueError",
     "evalue": "not enough values to unpack (expected 5, got 4)",
     "output_type": "error",
     "traceback": [
      "\u001b[1;31m---------------------------------------------------------------------------\u001b[0m",
      "\u001b[1;31mValueError\u001b[0m                                Traceback (most recent call last)",
      "\u001b[1;32m~\\AppData\\Local\\Temp\\ipykernel_12776\\3413333985.py\u001b[0m in \u001b[0;36m<module>\u001b[1;34m\u001b[0m\n\u001b[1;32m----> 1\u001b[1;33m \u001b[0ma\u001b[0m \u001b[1;33m,\u001b[0m\u001b[0mb\u001b[0m\u001b[1;33m,\u001b[0m \u001b[0mc\u001b[0m\u001b[1;33m,\u001b[0m\u001b[0mh\u001b[0m\u001b[1;33m,\u001b[0m\u001b[0mk\u001b[0m \u001b[1;33m=\u001b[0m \u001b[0mt1\u001b[0m\u001b[1;33m\u001b[0m\u001b[1;33m\u001b[0m\u001b[0m\n\u001b[0m",
      "\u001b[1;31mValueError\u001b[0m: not enough values to unpack (expected 5, got 4)"
     ]
    }
   ],
   "source": [
    "a ,b, c,h,k = t1"
   ]
  },
  {
   "cell_type": "code",
   "execution_count": 130,
   "id": "c0e29c13",
   "metadata": {},
   "outputs": [],
   "source": [
    "t1  = (5,55,555,5555)"
   ]
  },
  {
   "cell_type": "code",
   "execution_count": 131,
   "id": "2b0dbdc7",
   "metadata": {},
   "outputs": [],
   "source": [
    "_ ,f, _ ,_ = t1   # palce holder"
   ]
  },
  {
   "cell_type": "code",
   "execution_count": 132,
   "id": "f832e1bf",
   "metadata": {},
   "outputs": [
    {
     "data": {
      "text/plain": [
       "55"
      ]
     },
     "execution_count": 132,
     "metadata": {},
     "output_type": "execute_result"
    }
   ],
   "source": [
    "f"
   ]
  },
  {
   "cell_type": "code",
   "execution_count": 133,
   "id": "08802cd2",
   "metadata": {},
   "outputs": [
    {
     "data": {
      "text/plain": [
       "5555"
      ]
     },
     "execution_count": 133,
     "metadata": {},
     "output_type": "execute_result"
    }
   ],
   "source": [
    "_"
   ]
  },
  {
   "cell_type": "code",
   "execution_count": 41,
   "id": "fd89729a",
   "metadata": {},
   "outputs": [
    {
     "ename": "ValueError",
     "evalue": "too many values to unpack (expected 3)",
     "output_type": "error",
     "traceback": [
      "\u001b[1;31m---------------------------------------------------------------------------\u001b[0m",
      "\u001b[1;31mValueError\u001b[0m                                Traceback (most recent call last)",
      "\u001b[1;32m~\\AppData\\Local\\Temp\\ipykernel_12776\\3380383481.py\u001b[0m in \u001b[0;36m<module>\u001b[1;34m\u001b[0m\n\u001b[1;32m----> 1\u001b[1;33m \u001b[0ma\u001b[0m \u001b[1;33m,\u001b[0m\u001b[0mb\u001b[0m\u001b[1;33m,\u001b[0m \u001b[0mc\u001b[0m \u001b[1;33m=\u001b[0m \u001b[0mt1\u001b[0m \u001b[1;31m#too many values to unpack\u001b[0m\u001b[1;33m\u001b[0m\u001b[1;33m\u001b[0m\u001b[0m\n\u001b[0m",
      "\u001b[1;31mValueError\u001b[0m: too many values to unpack (expected 3)"
     ]
    }
   ],
   "source": [
    "a ,b, c = t1 #too many values to unpack"
   ]
  },
  {
   "cell_type": "code",
   "execution_count": null,
   "id": "f2aa914b",
   "metadata": {},
   "outputs": [],
   "source": [
    "a ,b, c ,d,f = t1 #not enough values to unpack"
   ]
  },
  {
   "cell_type": "code",
   "execution_count": null,
   "id": "e6f0058f",
   "metadata": {},
   "outputs": [],
   "source": [
    "#       0     1    2    3\n",
    "city = ('P', 'U', 'N', 'E') #packing "
   ]
  },
  {
   "cell_type": "code",
   "execution_count": null,
   "id": "0bd1a23b",
   "metadata": {},
   "outputs": [],
   "source": [
    "print(city[0])\n",
    "print(city[3])\n",
    "print(city[1])"
   ]
  },
  {
   "cell_type": "code",
   "execution_count": null,
   "id": "008a822f",
   "metadata": {},
   "outputs": [],
   "source": [
    "a ,b ,c ,d = city #unpacking\n",
    "\n",
    "print(a)\n",
    "print(b)\n",
    "print(c)\n",
    "print(d)"
   ]
  },
  {
   "cell_type": "code",
   "execution_count": 134,
   "id": "85035ceb",
   "metadata": {},
   "outputs": [
    {
     "name": "stdout",
     "output_type": "stream",
     "text": [
      "2 4 6 8\n",
      "4\n",
      "6\n",
      "8\n"
     ]
    }
   ],
   "source": [
    "# palce holder\n",
    "\n",
    "t_num = (1,2,3,4,5,6,7,8,9)\n",
    "\n",
    "a,b,c,d,e,f,g,h,i = t_num\n",
    "_,b,_,d,_,f,_,h,_ = t_num # we need even numbers\n",
    "\n",
    "print(b,d,f,h)\n",
    "print(d)\n",
    "print(f)\n",
    "print(h)"
   ]
  },
  {
   "cell_type": "code",
   "execution_count": null,
   "id": "372b8358",
   "metadata": {},
   "outputs": [],
   "source": []
  },
  {
   "cell_type": "code",
   "execution_count": 43,
   "id": "bc64fecf",
   "metadata": {},
   "outputs": [],
   "source": []
  },
  {
   "cell_type": "markdown",
   "id": "ad0d86fa",
   "metadata": {},
   "source": [
    "## Set"
   ]
  },
  {
   "cell_type": "raw",
   "id": "43b206d2",
   "metadata": {},
   "source": [
    "Set\n",
    "\n",
    "    Set is an unordered collection of data types that is iterable, mutable and has \n",
    "    no duplicate elements.\n",
    "\n",
    "Creating a Set\n",
    "    Sets can be created by using the built-in set() function with an iterable object   \n",
    "    or a sequence by placing the sequence inside curly braces, separated by a ‘comma’.\n",
    "    \n",
    "    Every element in set is hashable\n",
    "\n",
    "Note: A set cannot have mutable elements like a list or dictionary, as it is mutable. \n",
    "\n",
    "    Common uses include membership testing, removing duplicates from a sequence, and computing \n",
    "    mathematical operations such as intersection, union, difference, and symmetric difference. "
   ]
  },
  {
   "cell_type": "code",
   "execution_count": 143,
   "id": "43a781d6",
   "metadata": {},
   "outputs": [
    {
     "name": "stdout",
     "output_type": "stream",
     "text": [
      "<class 'set'>\n"
     ]
    }
   ],
   "source": [
    "# set is an unordered collection of unique elements\n",
    "# # Sets Creation\n",
    "s = {\"a\",\"b\",\"c\",\"d\"}\n",
    "print(type(s))"
   ]
  },
  {
   "cell_type": "code",
   "execution_count": 136,
   "id": "92c65edf",
   "metadata": {},
   "outputs": [],
   "source": [
    "a = [\"a\",5,7.4,[1,2],(2,3)]"
   ]
  },
  {
   "cell_type": "code",
   "execution_count": 137,
   "id": "d798bae2",
   "metadata": {},
   "outputs": [
    {
     "data": {
      "text/plain": [
       "['a', 5, 7.4, [1, 2], (2, 3)]"
      ]
     },
     "execution_count": 137,
     "metadata": {},
     "output_type": "execute_result"
    }
   ],
   "source": [
    "a"
   ]
  },
  {
   "cell_type": "code",
   "execution_count": 140,
   "id": "ed70575d",
   "metadata": {},
   "outputs": [],
   "source": [
    "a = {\"a\",5,7.4,(2,3)}"
   ]
  },
  {
   "cell_type": "code",
   "execution_count": 141,
   "id": "cdeecffb",
   "metadata": {},
   "outputs": [
    {
     "data": {
      "text/plain": [
       "{(2, 3), 5, 7.4, 'a'}"
      ]
     },
     "execution_count": 141,
     "metadata": {},
     "output_type": "execute_result"
    }
   ],
   "source": [
    "a= [2,3]\n",
    "a."
   ]
  },
  {
   "cell_type": "code",
   "execution_count": 145,
   "id": "7e4cbfe8",
   "metadata": {},
   "outputs": [
    {
     "data": {
      "text/plain": [
       "set"
      ]
     },
     "execution_count": 145,
     "metadata": {},
     "output_type": "execute_result"
    }
   ],
   "source": [
    "ss = set()\n",
    "type(ss)"
   ]
  },
  {
   "cell_type": "code",
   "execution_count": 147,
   "id": "0ff25a43",
   "metadata": {},
   "outputs": [
    {
     "data": {
      "text/plain": [
       "set"
      ]
     },
     "execution_count": 147,
     "metadata": {},
     "output_type": "execute_result"
    }
   ],
   "source": [
    "ss = {\" \"}\n",
    "type(ss)"
   ]
  },
  {
   "cell_type": "code",
   "execution_count": 150,
   "id": "d18f8c19",
   "metadata": {},
   "outputs": [
    {
     "data": {
      "text/plain": [
       "set"
      ]
     },
     "execution_count": 150,
     "metadata": {},
     "output_type": "execute_result"
    }
   ],
   "source": [
    "ss = {5,}\n",
    "type(ss)"
   ]
  },
  {
   "cell_type": "code",
   "execution_count": 152,
   "id": "63623d11",
   "metadata": {},
   "outputs": [
    {
     "data": {
      "text/plain": [
       "set"
      ]
     },
     "execution_count": 152,
     "metadata": {},
     "output_type": "execute_result"
    }
   ],
   "source": [
    "ss = {5}\n",
    "type(ss)"
   ]
  },
  {
   "cell_type": "code",
   "execution_count": null,
   "id": "64e8225f",
   "metadata": {},
   "outputs": [],
   "source": [
    "a = {}"
   ]
  },
  {
   "cell_type": "code",
   "execution_count": null,
   "id": "532259b8",
   "metadata": {},
   "outputs": [],
   "source": []
  },
  {
   "cell_type": "code",
   "execution_count": 153,
   "id": "48bcae7d",
   "metadata": {},
   "outputs": [
    {
     "data": {
      "text/plain": [
       "dict"
      ]
     },
     "execution_count": 153,
     "metadata": {},
     "output_type": "execute_result"
    }
   ],
   "source": [
    "ss = {}\n",
    "type(ss)"
   ]
  },
  {
   "cell_type": "code",
   "execution_count": null,
   "id": "105da1fd",
   "metadata": {},
   "outputs": [],
   "source": [
    "s = {1, 2, 3, 4} # Set \n",
    "type(s)"
   ]
  },
  {
   "cell_type": "code",
   "execution_count": null,
   "id": "ce6a0692",
   "metadata": {},
   "outputs": [],
   "source": [
    "s1 = [1,2,3,4] # List \n",
    "type(s)"
   ]
  },
  {
   "cell_type": "code",
   "execution_count": null,
   "id": "8146aa91",
   "metadata": {},
   "outputs": [],
   "source": [
    "s2 = (1,2,3,4) # Tuple\n",
    "type(s)"
   ]
  },
  {
   "cell_type": "code",
   "execution_count": null,
   "id": "72c9647e",
   "metadata": {},
   "outputs": [],
   "source": [
    "s = {False, \"Hola mundo\", (1, 2), True, 3.14, None}\n",
    "print(type(s))"
   ]
  },
  {
   "cell_type": "code",
   "execution_count": null,
   "id": "550e985e",
   "metadata": {},
   "outputs": [],
   "source": [
    "s = {[1, 2]} # TypeError unhashable type: 'list'"
   ]
  },
  {
   "cell_type": "code",
   "execution_count": null,
   "id": "9b29b59e",
   "metadata": {},
   "outputs": [],
   "source": [
    "list_a = [0,1,1,1,2,2,2,3,3,3,3,3,4,4,4,4,4,5,5,5,5,6,6,6,6,6,6,True,True,True,True,False,False,False,\"Hello\",\"Hello\",\"Hello\"]\n",
    "set_c = set(list_a)\n",
    "print(set_c)"
   ]
  },
  {
   "cell_type": "code",
   "execution_count": 47,
   "id": "9ca2d5a5",
   "metadata": {},
   "outputs": [
    {
     "data": {
      "text/plain": [
       "{' ', 'a', 'e', 'h', 'i', 'l', 'm', 'p', 's', 't', 'x'}"
      ]
     },
     "execution_count": 47,
     "metadata": {},
     "output_type": "execute_result"
    }
   ],
   "source": [
    "str = \"this is a example\"\n",
    "set(str)"
   ]
  },
  {
   "cell_type": "code",
   "execution_count": null,
   "id": "10a72557",
   "metadata": {},
   "outputs": [],
   "source": [
    "print(s[0]) #'set' object is not subscriptable\n",
    "print(s[2])"
   ]
  },
  {
   "cell_type": "code",
   "execution_count": null,
   "id": "e4e2f9ac",
   "metadata": {},
   "outputs": [],
   "source": [
    "# we can not call elements of  a set by calling the index position"
   ]
  },
  {
   "cell_type": "code",
   "execution_count": null,
   "id": "91d07c24",
   "metadata": {},
   "outputs": [],
   "source": [
    "# but we can use loop for calling\n",
    "for i in s:\n",
    "    print(i)"
   ]
  },
  {
   "cell_type": "code",
   "execution_count": null,
   "id": "0f09f9e2",
   "metadata": {},
   "outputs": [],
   "source": [
    "# #eg. \n",
    "\n",
    "s_even = {True, False, False ,25 , 'order' , [55,55,55]} #unhashable type: 'list"
   ]
  },
  {
   "cell_type": "markdown",
   "id": "238e2926",
   "metadata": {},
   "source": [
    "## Method"
   ]
  },
  {
   "cell_type": "code",
   "execution_count": 50,
   "id": "5d8747d0",
   "metadata": {},
   "outputs": [
    {
     "name": "stdout",
     "output_type": "stream",
     "text": [
      "set()\n"
     ]
    }
   ],
   "source": [
    "b = {11,22,44,77}\n",
    "b.clear()\n",
    "print(b)\n"
   ]
  },
  {
   "cell_type": "code",
   "execution_count": 55,
   "id": "8e292d4a",
   "metadata": {},
   "outputs": [
    {
     "name": "stdout",
     "output_type": "stream",
     "text": [
      "{9, 10, 4}\n"
     ]
    }
   ],
   "source": [
    "set_a = {9,10}\n",
    "set_a.add(4) #Adding an element\n",
    "print(set_a)"
   ]
  },
  {
   "cell_type": "code",
   "execution_count": 57,
   "id": "6da38fde",
   "metadata": {},
   "outputs": [
    {
     "data": {
      "text/plain": [
       "{1, 2, 3, 4, 9, 10}"
      ]
     },
     "execution_count": 57,
     "metadata": {},
     "output_type": "execute_result"
    }
   ],
   "source": [
    "set_c = {1,2,3}\n",
    "set_c.update(set_a)\n",
    "set_c"
   ]
  },
  {
   "cell_type": "code",
   "execution_count": 58,
   "id": "3ba0ea1a",
   "metadata": {},
   "outputs": [
    {
     "name": "stdout",
     "output_type": "stream",
     "text": [
      "{1, 2, 3, 4, 5, 9, 10}\n"
     ]
    }
   ],
   "source": [
    "set_c.update({5})\n",
    "print(set_c)"
   ]
  },
  {
   "cell_type": "code",
   "execution_count": 59,
   "id": "6638289c",
   "metadata": {},
   "outputs": [
    {
     "name": "stdout",
     "output_type": "stream",
     "text": [
      "{9, 10, 4}\n"
     ]
    }
   ],
   "source": [
    "set_a.discard(1) # Remove an element\n",
    "print(set_a)"
   ]
  },
  {
   "cell_type": "code",
   "execution_count": 61,
   "id": "ce4b6ad2",
   "metadata": {},
   "outputs": [
    {
     "name": "stdout",
     "output_type": "stream",
     "text": [
      "{9, 4}\n"
     ]
    }
   ],
   "source": [
    "set_a.remove(10)\n",
    "print(set_a)"
   ]
  },
  {
   "cell_type": "code",
   "execution_count": null,
   "id": "bd3b1e57",
   "metadata": {},
   "outputs": [],
   "source": [
    "print(1 not in set_a)\n",
    "\n",
    "print(3 in set_a)"
   ]
  },
  {
   "cell_type": "code",
   "execution_count": 63,
   "id": "68819fd5",
   "metadata": {},
   "outputs": [
    {
     "name": "stdout",
     "output_type": "stream",
     "text": [
      "9\n",
      "{4}\n"
     ]
    }
   ],
   "source": [
    "print(set_a.pop())\n",
    "print(set_a)"
   ]
  },
  {
   "cell_type": "code",
   "execution_count": 64,
   "id": "f363292f",
   "metadata": {},
   "outputs": [
    {
     "name": "stdout",
     "output_type": "stream",
     "text": [
      "False\n",
      "True\n",
      "{3, 4, 5, 6, 7, 'hola'}\n"
     ]
    }
   ],
   "source": [
    "set_b = {\"hola\",7,6,5,4,3, True, False}\n",
    "print(set_b.pop())\n",
    "print(set_b.pop())\n",
    "print(set_b)"
   ]
  },
  {
   "cell_type": "code",
   "execution_count": null,
   "id": "9cdb5986",
   "metadata": {},
   "outputs": [],
   "source": [
    "print(set_b.pop())\n",
    "print(set_b)"
   ]
  },
  {
   "cell_type": "code",
   "execution_count": null,
   "id": "17513e6a",
   "metadata": {},
   "outputs": [],
   "source": [
    "# A∪B\n",
    "set_d = {1,2,3}\n",
    "set_e = {4,5,6}\n",
    "print(set_d | set_e) # Union\n",
    "\n",
    "print(set_d.union(set_e)) # Union"
   ]
  },
  {
   "cell_type": "code",
   "execution_count": 66,
   "id": "64c7e501",
   "metadata": {},
   "outputs": [
    {
     "name": "stdout",
     "output_type": "stream",
     "text": [
      "{4, 5}\n",
      "{4, 5}\n"
     ]
    }
   ],
   "source": [
    "# A∩B\n",
    "set_d = {1,2,3,4,5}\n",
    "set_e = {4,5,6,7,8}\n",
    "print(set_d.intersection(set_e)) # Intersection\n",
    "\n",
    "print(set_d & set_e )# Intersection"
   ]
  },
  {
   "cell_type": "code",
   "execution_count": null,
   "id": "04425e6e",
   "metadata": {},
   "outputs": [],
   "source": [
    "# A - B\n",
    "print(set_d - set_e) # Difference\n",
    "\n",
    "print(set_e - set_d)\n",
    "\n",
    "print(set_d.difference(set_e)) # Difference"
   ]
  },
  {
   "cell_type": "code",
   "execution_count": 67,
   "id": "89b19e4e",
   "metadata": {},
   "outputs": [
    {
     "name": "stdout",
     "output_type": "stream",
     "text": [
      "{1, 2, 3, 6, 7, 8}\n",
      "{1, 2, 3, 6, 7, 8}\n"
     ]
    }
   ],
   "source": [
    "# AΔB\n",
    "print(set_d ^ set_e) # Symmetric Difference\n",
    "\n",
    "print(set_e.symmetric_difference(set_d)) # Symmetric Difference"
   ]
  },
  {
   "cell_type": "code",
   "execution_count": 69,
   "id": "4a28fed2",
   "metadata": {},
   "outputs": [
    {
     "name": "stdout",
     "output_type": "stream",
     "text": [
      "True\n",
      "False\n"
     ]
    }
   ],
   "source": [
    "# Subset: if each element of b is in a \n",
    "a = {1,2,3,4,5,6,8}\n",
    "b = {2,3,4,8}\n",
    "print(b.issubset(a))\n",
    "\n",
    "print(a.issubset(b))"
   ]
  },
  {
   "cell_type": "code",
   "execution_count": 70,
   "id": "64304962",
   "metadata": {},
   "outputs": [
    {
     "name": "stdout",
     "output_type": "stream",
     "text": [
      "True\n",
      "True\n"
     ]
    },
    {
     "data": {
      "text/plain": [
       "True"
      ]
     },
     "execution_count": 70,
     "metadata": {},
     "output_type": "execute_result"
    }
   ],
   "source": [
    "# Superset: if each element in a is in b\n",
    "print(a.issuperset(b))\n",
    "\n",
    "print(a.issuperset(a))\n",
    "\n",
    "a >= b # Superset"
   ]
  },
  {
   "cell_type": "code",
   "execution_count": null,
   "id": "029bfdc0",
   "metadata": {},
   "outputs": [],
   "source": []
  },
  {
   "cell_type": "code",
   "execution_count": 71,
   "id": "c265ee19",
   "metadata": {},
   "outputs": [
    {
     "data": {
      "text/plain": [
       "False"
      ]
     },
     "execution_count": 71,
     "metadata": {},
     "output_type": "execute_result"
    }
   ],
   "source": [
    "a.isdisjoint(b)"
   ]
  },
  {
   "cell_type": "code",
   "execution_count": 54,
   "id": "e4a5e734",
   "metadata": {},
   "outputs": [
    {
     "data": {
      "text/plain": [
       "True"
      ]
     },
     "execution_count": 54,
     "metadata": {},
     "output_type": "execute_result"
    }
   ],
   "source": [
    "\n",
    "a = {1,2,3}\n",
    "b = {3,2,1}\n",
    "a == b"
   ]
  },
  {
   "cell_type": "code",
   "execution_count": 55,
   "id": "bac4aa6a",
   "metadata": {},
   "outputs": [
    {
     "data": {
      "text/plain": [
       "False"
      ]
     },
     "execution_count": 55,
     "metadata": {},
     "output_type": "execute_result"
    }
   ],
   "source": [
    "a = {1,2,3,4}\n",
    "b = {3,2,1}\n",
    "a == b"
   ]
  },
  {
   "cell_type": "code",
   "execution_count": null,
   "id": "19f434eb",
   "metadata": {},
   "outputs": [],
   "source": []
  },
  {
   "cell_type": "raw",
   "id": "fe556ae2",
   "metadata": {},
   "source": [
    "There are four collection data types in the Python programming language:\n",
    "\n",
    "List is a collection which is ordered and changeable. Allows duplicate members.\n",
    "Tuple is a collection which is ordered and unchangeable. Allows duplicate members.\n",
    "Set is a collection which is unordered, unchangeable*, and unindexed. No duplicate members.\n",
    "Dictionary is a collection which is ordered** and changeable. No duplicate members."
   ]
  },
  {
   "cell_type": "code",
   "execution_count": null,
   "id": "b725a6e0",
   "metadata": {},
   "outputs": [],
   "source": []
  },
  {
   "cell_type": "raw",
   "id": "45774c4e",
   "metadata": {},
   "source": [
    "for Loop\tThis is traditionally used when programmers had a piece of code and wanted to repeat that 'n' number of times.\n",
    "while Loop\tThe loop gets repeated until the specific Boolean condition is met."
   ]
  },
  {
   "cell_type": "raw",
   "id": "c64e023b",
   "metadata": {},
   "source": [
    "for loop we can execute a set of statements, once for each item in a list, tuple, set etc."
   ]
  },
  {
   "cell_type": "code",
   "execution_count": null,
   "id": "f4aaea9f",
   "metadata": {},
   "outputs": [],
   "source": [
    "fruits = [\"apple\", \"banana\", \"cherry\"]\n",
    "for x in fruits:\n",
    "  print(x)"
   ]
  },
  {
   "cell_type": "code",
   "execution_count": null,
   "id": "1c085a6a",
   "metadata": {},
   "outputs": [],
   "source": []
  },
  {
   "cell_type": "code",
   "execution_count": null,
   "id": "49445065",
   "metadata": {},
   "outputs": [],
   "source": [
    "a = 33\n",
    "b = 33\n",
    "if b > a:\n",
    "  print(\"b is greater than a\")\n",
    "elif a == b:\n",
    "  print(\"a and b are equal\")"
   ]
  },
  {
   "cell_type": "code",
   "execution_count": null,
   "id": "426d95e4",
   "metadata": {},
   "outputs": [],
   "source": [
    "a = 200\n",
    "b = 33\n",
    "if b > a:\n",
    "  print(\"b is greater than a\")\n",
    "elif a == b:\n",
    "  print(\"a and b are equal\")\n",
    "else:\n",
    "  print(\"a is greater than b\")"
   ]
  },
  {
   "cell_type": "code",
   "execution_count": null,
   "id": "ff0e9ed5",
   "metadata": {},
   "outputs": [],
   "source": []
  },
  {
   "cell_type": "code",
   "execution_count": null,
   "id": "4d64df87",
   "metadata": {},
   "outputs": [],
   "source": [
    "#initialize count variable to 1\n",
    "count =1\n",
    "\n",
    "while count < 6 :\n",
    "    print (count)\n",
    "    count+=1\n",
    "#the above line means count = count + 1"
   ]
  },
  {
   "cell_type": "code",
   "execution_count": null,
   "id": "0044b5ab",
   "metadata": {},
   "outputs": [],
   "source": []
  },
  {
   "cell_type": "code",
   "execution_count": null,
   "id": "9b444488",
   "metadata": {},
   "outputs": [],
   "source": []
  },
  {
   "cell_type": "code",
   "execution_count": null,
   "id": "f453d6cb",
   "metadata": {},
   "outputs": [],
   "source": []
  },
  {
   "cell_type": "markdown",
   "id": "e8027ff8",
   "metadata": {},
   "source": [
    "break statement\n",
    "\n",
    "It terminates the loop immediately and transfers execution to the new statement after the loop."
   ]
  },
  {
   "cell_type": "code",
   "execution_count": 77,
   "id": "bc01fe79",
   "metadata": {},
   "outputs": [
    {
     "name": "stdout",
     "output_type": "stream",
     "text": [
      "0\n",
      "1\n",
      "2\n"
     ]
    }
   ],
   "source": [
    "for i in range(0, 5):\n",
    "    if i == 3:\n",
    "        break\n",
    "    print(i)"
   ]
  },
  {
   "cell_type": "markdown",
   "id": "cd94e122",
   "metadata": {},
   "source": [
    "ontinue statement\n",
    "The continue statement causes the loop to skip its current execution at some point and move on to the next iteration. Instead of terminating the loop like a break statement, it moves on to the subsequent execution."
   ]
  },
  {
   "cell_type": "code",
   "execution_count": null,
   "id": "3be24fef",
   "metadata": {},
   "outputs": [],
   "source": [
    "for i in range(0, 5):\n",
    "    if i == 3:\n",
    "        continue\n",
    "    print(i)"
   ]
  },
  {
   "cell_type": "code",
   "execution_count": 74,
   "id": "0c8d82d8",
   "metadata": {},
   "outputs": [
    {
     "name": "stdout",
     "output_type": "stream",
     "text": [
      "1\n",
      "3\n",
      "5\n",
      "7\n",
      "9\n"
     ]
    }
   ],
   "source": [
    "for x in range(10):\n",
    "    if x % 2 == 0:\n",
    "        continue\n",
    "    print (x)"
   ]
  },
  {
   "cell_type": "code",
   "execution_count": null,
   "id": "6a32d1a0",
   "metadata": {},
   "outputs": [],
   "source": []
  }
 ],
 "metadata": {
  "kernelspec": {
   "display_name": "Python 3 (ipykernel)",
   "language": "python",
   "name": "python3"
  },
  "language_info": {
   "codemirror_mode": {
    "name": "ipython",
    "version": 3
   },
   "file_extension": ".py",
   "mimetype": "text/x-python",
   "name": "python",
   "nbconvert_exporter": "python",
   "pygments_lexer": "ipython3",
   "version": "3.9.13"
  }
 },
 "nbformat": 4,
 "nbformat_minor": 5
}
