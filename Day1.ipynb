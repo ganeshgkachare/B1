{
 "cells": [
  {
   "cell_type": "markdown",
   "id": "c44aefb0",
   "metadata": {},
   "source": []
  },
  {
   "cell_type": "markdown",
   "id": "617126dc",
   "metadata": {},
   "source": [
    "## Basic"
   ]
  },
  {
   "cell_type": "code",
   "execution_count": 60,
   "id": "315baa0e",
   "metadata": {},
   "outputs": [],
   "source": [
    "## Adding Comment :\n",
    "# - Comments can be used to explain Python code.\n",
    "#- To add single line comment we can use  ' # ' \n",
    "\n",
    "# This is single line commeent.\n",
    "\n",
    "# - To add multiple line comment we can use Triple (single(') or double(\")) quotes.\n",
    "# 1) "
   ]
  },
  {
   "cell_type": "code",
   "execution_count": 61,
   "id": "1833bea2",
   "metadata": {},
   "outputs": [
    {
     "data": {
      "text/plain": [
       "'\\nMultiple\\nline\\ncomment\\n'"
      ]
     },
     "execution_count": 61,
     "metadata": {},
     "output_type": "execute_result"
    }
   ],
   "source": [
    "'''\n",
    "Multiple\n",
    "line\n",
    "comment\n",
    "'''"
   ]
  },
  {
   "cell_type": "code",
   "execution_count": 62,
   "id": "2217be93",
   "metadata": {},
   "outputs": [
    {
     "data": {
      "text/plain": [
       "'\\nMultiple\\nline\\ncomment\\n'"
      ]
     },
     "execution_count": 62,
     "metadata": {},
     "output_type": "execute_result"
    }
   ],
   "source": [
    "# 2) \n",
    "\"\"\"\n",
    "Multiple\n",
    "line\n",
    "comment\n",
    "\"\"\"\n",
    "   "
   ]
  },
  {
   "cell_type": "code",
   "execution_count": 63,
   "id": "7ea53486",
   "metadata": {},
   "outputs": [
    {
     "name": "stdout",
     "output_type": "stream",
     "text": [
      "Hello World!\n",
      "Welcome\n"
     ]
    }
   ],
   "source": [
    "## Print function :\n",
    "# Python was designed for readability, and has some similarities to the English language with influence from mathematics.\n",
    "print(\"Hello World!\")\n",
    "print(\"Welcome\")"
   ]
  },
  {
   "cell_type": "code",
   "execution_count": null,
   "id": "474dd7f6",
   "metadata": {},
   "outputs": [],
   "source": []
  },
  {
   "cell_type": "markdown",
   "id": "fdacbe99",
   "metadata": {},
   "source": [
    "## Variable assignment : \n",
    "\n",
    "    Variable is used to store value and we use '=' i.e. assignment operator to assign value to it. \n"
   ]
  },
  {
   "cell_type": "code",
   "execution_count": 64,
   "id": "a57bf978",
   "metadata": {},
   "outputs": [
    {
     "name": "stdout",
     "output_type": "stream",
     "text": [
      "5\n"
     ]
    }
   ],
   "source": [
    "a = 5\n",
    "print(a)\n"
   ]
  },
  {
   "cell_type": "code",
   "execution_count": 65,
   "id": "de6d1b16",
   "metadata": {},
   "outputs": [
    {
     "data": {
      "text/plain": [
       "5"
      ]
     },
     "execution_count": 65,
     "metadata": {},
     "output_type": "execute_result"
    }
   ],
   "source": [
    "a=5\n",
    "a"
   ]
  },
  {
   "cell_type": "code",
   "execution_count": 66,
   "id": "b2afddf9",
   "metadata": {},
   "outputs": [
    {
     "name": "stdout",
     "output_type": "stream",
     "text": [
      "Python\n"
     ]
    }
   ],
   "source": [
    "b = \"Python\"\n",
    "print(b)\n"
   ]
  },
  {
   "cell_type": "code",
   "execution_count": 67,
   "id": "56bdba00",
   "metadata": {},
   "outputs": [
    {
     "data": {
      "text/plain": [
       "\"\\n We have to take care of following things while writing identifiers\\n    1. It can be of any length . \\n    2. It can be combination of lower cases (a-z) , upper cases (A-Z) and digits (0-9).\\n    3. It can't be start with digit.\\n    4. It can't be include special symbols like { !, @, #, $ , % }, etc\\n    5. We can use '_' i.e underscore in identifire for attaching two strings or one string and one number.\\n    6. We can't give space between letters, words or between letter and digit.\\n    7. We can't use python keywords as a python identifier\\n\\nPython keywords :\\n\\n    Keywords are the reserved words in Python.\\n    We cannot use a keyword as a variable name, function name or any other identifier. They are used to define the\\n    syntax and structure of the Python language.\\n    In Python, keywords are case sensitive.\\n    All the keywords except True, False and None are in lowercase and they must be written as they are.\\n\\n    eg. in , and , or , if , else , elif , def , while , break , True , False , etc .**\\n\\nPython identifiers\\n        An identifier is a name given to entities like class, functions, variables, etc. It helps to differentiate one entity\\n        from another.\\nExamples \\n    We can write identifier of any length like \\n    - myname\\n    - mynameis\\n\""
      ]
     },
     "execution_count": 67,
     "metadata": {},
     "output_type": "execute_result"
    }
   ],
   "source": [
    "'''\n",
    " We have to take care of following things while writing identifiers\n",
    "    1. It can be of any length . \n",
    "    2. It can be combination of lower cases (a-z) , upper cases (A-Z) and digits (0-9).\n",
    "    3. It can't be start with digit.\n",
    "    4. It can't be include special symbols like { !, @, #, $ , % }, etc\n",
    "    5. We can use '_' i.e underscore in identifire for attaching two strings or one string and one number.\n",
    "    6. We can't give space between letters, words or between letter and digit.\n",
    "    7. We can't use python keywords as a python identifier\n",
    "\n",
    "Python keywords :\n",
    "\n",
    "    Keywords are the reserved words in Python.\n",
    "    We cannot use a keyword as a variable name, function name or any other identifier. They are used to define the\n",
    "    syntax and structure of the Python language.\n",
    "    In Python, keywords are case sensitive.\n",
    "    All the keywords except True, False and None are in lowercase and they must be written as they are.\n",
    "\n",
    "    eg. in , and , or , if , else , elif , def , while , break , True , False , etc .**\n",
    "\n",
    "Python identifiers\n",
    "        An identifier is a name given to entities like class, functions, variables, etc. It helps to differentiate one entity\n",
    "        from another.\n",
    "Examples \n",
    "    We can write identifier of any length like \n",
    "    - myname\n",
    "    - mynameis\n",
    "'''"
   ]
  },
  {
   "cell_type": "code",
   "execution_count": 68,
   "id": "d039dab2",
   "metadata": {},
   "outputs": [
    {
     "name": "stdout",
     "output_type": "stream",
     "text": [
      "Chinmay\n"
     ]
    }
   ],
   "source": [
    "myname = \"Chinmay\"\n",
    "print(myname)"
   ]
  },
  {
   "cell_type": "code",
   "execution_count": 69,
   "id": "f7073803",
   "metadata": {},
   "outputs": [
    {
     "name": "stdout",
     "output_type": "stream",
     "text": [
      "Chinmay D\n"
     ]
    }
   ],
   "source": [
    "mynameis = \"Chinmay D\"\n",
    "print(mynameis)"
   ]
  },
  {
   "cell_type": "code",
   "execution_count": 70,
   "id": "d0e5f996",
   "metadata": {},
   "outputs": [
    {
     "name": "stdout",
     "output_type": "stream",
     "text": [
      "Ganesh\n",
      "pune\n"
     ]
    }
   ],
   "source": [
    "# Identifiers using underscore  \n",
    "# - my_name \n",
    "# - my_city\n",
    "\n",
    "my_name = \"Ganesh\"\n",
    "print(my_name)\n",
    "\n",
    "my_city = \"pune\"\n",
    "print(my_city)"
   ]
  },
  {
   "cell_type": "code",
   "execution_count": 71,
   "id": "9bfe7f46",
   "metadata": {},
   "outputs": [
    {
     "name": "stdout",
     "output_type": "stream",
     "text": [
      "22 Aug\n"
     ]
    }
   ],
   "source": [
    "# We can combine letters and words while writing identifiers\n",
    "# - Mybirth22\n",
    "Mybirth22 =\"22 Aug\"\n",
    "print(Mybirth22)"
   ]
  },
  {
   "cell_type": "code",
   "execution_count": 72,
   "id": "10f6ad48",
   "metadata": {},
   "outputs": [],
   "source": [
    "# We can't start our identifier by digit\n",
    "# - 1stvariable \n",
    "# - 19thnumber"
   ]
  },
  {
   "cell_type": "code",
   "execution_count": 73,
   "id": "1b624e10",
   "metadata": {},
   "outputs": [],
   "source": [
    "# We can't include any special symbol at any position while writing identifier \n",
    "# - name@\n",
    "# - hello!\n",
    "# - time@2pm\n",
    "# - $rupees\n",
    "# - #brand "
   ]
  },
  {
   "cell_type": "code",
   "execution_count": 74,
   "id": "3be86c03",
   "metadata": {},
   "outputs": [],
   "source": [
    "# We can't write identifier using space between characcters \n",
    "# - my name \n",
    "# - my number \n",
    "# - my village "
   ]
  },
  {
   "cell_type": "code",
   "execution_count": 75,
   "id": "b00bfeb0",
   "metadata": {},
   "outputs": [
    {
     "name": "stdout",
     "output_type": "stream",
     "text": [
      "20\n",
      "3.14\n",
      "ABC\n",
      "40\n",
      "<class 'int'>\n",
      "<class 'float'>\n",
      "<class 'str'>\n"
     ]
    }
   ],
   "source": [
    "# Assigning multiple values to multiple variables :-\n",
    "a, b, c = 20, 3.14, \"ABC\"\n",
    "print(a)\n",
    "print(b)\n",
    "print(c)\n",
    "print(a+20)\n",
    "print(type(a))\n",
    "print(type(b))\n",
    "print(type(c))"
   ]
  },
  {
   "cell_type": "code",
   "execution_count": 76,
   "id": "87fba194",
   "metadata": {},
   "outputs": [
    {
     "name": "stdout",
     "output_type": "stream",
     "text": [
      "100\n",
      "100\n",
      "100\n"
     ]
    }
   ],
   "source": [
    "#Assign the same value to multiple variables at once :-\n",
    "x = y = z = 100\n",
    "print (x)\n",
    "print (y)\n",
    "print (z)"
   ]
  },
  {
   "cell_type": "code",
   "execution_count": 77,
   "id": "25ae2f43",
   "metadata": {},
   "outputs": [
    {
     "name": "stdout",
     "output_type": "stream",
     "text": [
      "100 100 100\n"
     ]
    }
   ],
   "source": [
    "print(x,y,z)"
   ]
  },
  {
   "cell_type": "code",
   "execution_count": 78,
   "id": "b5ee4642",
   "metadata": {},
   "outputs": [
    {
     "name": "stdout",
     "output_type": "stream",
     "text": [
      "100 ,100 ,100\n"
     ]
    }
   ],
   "source": [
    "print(x,y,z,sep =\" ,\")"
   ]
  },
  {
   "cell_type": "markdown",
   "id": "130b1c97",
   "metadata": {},
   "source": [
    "## Data-Types"
   ]
  },
  {
   "cell_type": "code",
   "execution_count": 79,
   "id": "5ba8e61b",
   "metadata": {},
   "outputs": [
    {
     "data": {
      "text/plain": [
       "'\\nData-Types:- 1) Numbers (integers, float, complex)\\n             2) String \\n             3) lists\\n             4) Tuple\\n             5) set\\n             6) Dictionary\\n\\nDatatypes are classified into two things\\n    1) Immutable and\\n    2) Mutable\\nImmutable data value: A data value which cannot be modified.\\nmutable data value : A data value which can be modified.\\n\\nLists and dictionaries are mutable. strings and tuples are Immutable.\\n\\nTo verify the type of any object in Python, use the type() function:\\n'"
      ]
     },
     "execution_count": 79,
     "metadata": {},
     "output_type": "execute_result"
    }
   ],
   "source": [
    "'''\n",
    "Data-Types:- 1) Numbers (integers, float, complex)\n",
    "             2) String \n",
    "             3) lists\n",
    "             4) Tuple\n",
    "             5) set\n",
    "             6) Dictionary\n",
    "\n",
    "Datatypes are classified into two things\n",
    "    1) Immutable and\n",
    "    2) Mutable\n",
    "Immutable data value: A data value which cannot be modified.\n",
    "mutable data value : A data value which can be modified.\n",
    "\n",
    "Lists and dictionaries are mutable. strings and tuples are Immutable.\n",
    "\n",
    "To verify the type of any object in Python, use the type() function:\n",
    "'''"
   ]
  },
  {
   "cell_type": "code",
   "execution_count": 80,
   "id": "52e4f8b7",
   "metadata": {},
   "outputs": [
    {
     "name": "stdout",
     "output_type": "stream",
     "text": [
      "5\n",
      "<class 'int'>\n"
     ]
    }
   ],
   "source": [
    "# eg.\n",
    "a = 5\n",
    "print(a)\n",
    "print(type(a))"
   ]
  },
  {
   "cell_type": "code",
   "execution_count": 81,
   "id": "f0171752",
   "metadata": {},
   "outputs": [
    {
     "name": "stdout",
     "output_type": "stream",
     "text": [
      "5\n",
      "<class 'str'>\n"
     ]
    }
   ],
   "source": [
    "b = \"5\"\n",
    "print(b)\n",
    "print(type(b))"
   ]
  },
  {
   "cell_type": "code",
   "execution_count": 82,
   "id": "a84a541e",
   "metadata": {},
   "outputs": [
    {
     "data": {
      "text/plain": [
       "'\\nNumbers (integers, float, complex)\\n\\n    Number data types store numeric values.\\n           1) int\\n           2) float\\n           3) complex\\n'"
      ]
     },
     "execution_count": 82,
     "metadata": {},
     "output_type": "execute_result"
    }
   ],
   "source": [
    "'''\n",
    "Numbers (integers, float, complex)\n",
    "\n",
    "    Number data types store numeric values.\n",
    "           1) int\n",
    "           2) float\n",
    "           3) complex\n",
    "'''\n",
    "# 1) int\n",
    "#     Integer is a whole number, positive or negative or zero, without decimals."
   ]
  },
  {
   "cell_type": "code",
   "execution_count": 83,
   "id": "818a62a7",
   "metadata": {},
   "outputs": [
    {
     "name": "stdout",
     "output_type": "stream",
     "text": [
      "222\n",
      "<class 'int'>\n"
     ]
    }
   ],
   "source": [
    "a = 222\n",
    "print(a)\n",
    "print(type(a))"
   ]
  },
  {
   "cell_type": "code",
   "execution_count": 84,
   "id": "403a2acf",
   "metadata": {},
   "outputs": [
    {
     "name": "stdout",
     "output_type": "stream",
     "text": [
      "0\n",
      "<class 'int'>\n"
     ]
    }
   ],
   "source": [
    "b = 0\n",
    "print(b)\n",
    "print(type(b))"
   ]
  },
  {
   "cell_type": "code",
   "execution_count": 85,
   "id": "60c920da",
   "metadata": {},
   "outputs": [
    {
     "name": "stdout",
     "output_type": "stream",
     "text": [
      "-222\n",
      "<class 'int'>\n"
     ]
    }
   ],
   "source": [
    "a = -222\n",
    "print(a)\n",
    "print(type(b))"
   ]
  },
  {
   "cell_type": "code",
   "execution_count": 86,
   "id": "5aec6fcd",
   "metadata": {},
   "outputs": [],
   "source": [
    "# 2) float\n",
    "#    Float is a number, positive or negative or zero, containing one or more decimals."
   ]
  },
  {
   "cell_type": "code",
   "execution_count": 87,
   "id": "aa8e983e",
   "metadata": {},
   "outputs": [
    {
     "name": "stdout",
     "output_type": "stream",
     "text": [
      "222.222\n",
      "<class 'float'>\n"
     ]
    }
   ],
   "source": [
    "a = 222.222\n",
    "print(a)\n",
    "print(type(a))"
   ]
  },
  {
   "cell_type": "code",
   "execution_count": 88,
   "id": "2a7be226",
   "metadata": {},
   "outputs": [
    {
     "name": "stdout",
     "output_type": "stream",
     "text": [
      "0.0\n",
      "<class 'float'>\n"
     ]
    }
   ],
   "source": [
    "b = 0.0\n",
    "print(b)\n",
    "print(type(b))"
   ]
  },
  {
   "cell_type": "code",
   "execution_count": 89,
   "id": "8fc15043",
   "metadata": {},
   "outputs": [
    {
     "name": "stdout",
     "output_type": "stream",
     "text": [
      "-1.2\n",
      "<class 'float'>\n"
     ]
    }
   ],
   "source": [
    "a = -1.2\n",
    "print(a)\n",
    "print(type(b))"
   ]
  },
  {
   "cell_type": "code",
   "execution_count": 90,
   "id": "7f7cf5db",
   "metadata": {},
   "outputs": [],
   "source": [
    "# 3) complex\n",
    "#   Complex numbers are written with a \"j\" as the imaginary part."
   ]
  },
  {
   "cell_type": "code",
   "execution_count": 91,
   "id": "1cf51f54",
   "metadata": {},
   "outputs": [
    {
     "name": "stdout",
     "output_type": "stream",
     "text": [
      "(5+3j)\n",
      "<class 'complex'>\n"
     ]
    }
   ],
   "source": [
    "a = 5 + 3j\n",
    "print(a)\n",
    "print(type(a))"
   ]
  },
  {
   "cell_type": "code",
   "execution_count": 92,
   "id": "9e749b63",
   "metadata": {},
   "outputs": [
    {
     "name": "stdout",
     "output_type": "stream",
     "text": [
      "8j\n",
      "<class 'complex'>\n"
     ]
    }
   ],
   "source": [
    "b = 8j\n",
    "print(b)\n",
    "print(type(b))"
   ]
  },
  {
   "cell_type": "code",
   "execution_count": 93,
   "id": "a74c2525",
   "metadata": {},
   "outputs": [
    {
     "name": "stdout",
     "output_type": "stream",
     "text": [
      "(8-1.2j)\n",
      "<class 'complex'>\n"
     ]
    }
   ],
   "source": [
    "a = -1.2j + 8\n",
    "print(a)\n",
    "print(type(b))"
   ]
  },
  {
   "cell_type": "code",
   "execution_count": 94,
   "id": "8b32e567",
   "metadata": {},
   "outputs": [],
   "source": [
    "# del a\n",
    "# print(a) # NameError name 'a' is not defined"
   ]
  },
  {
   "cell_type": "markdown",
   "id": "e146c2d7",
   "metadata": {},
   "source": [
    "## Python Casting"
   ]
  },
  {
   "cell_type": "code",
   "execution_count": 95,
   "id": "aa587421",
   "metadata": {},
   "outputs": [
    {
     "data": {
      "text/plain": [
       "'\\nPython Casting (type conversion)\\n\\n'"
      ]
     },
     "execution_count": 95,
     "metadata": {},
     "output_type": "execute_result"
    }
   ],
   "source": [
    "'''\n",
    "Python Casting (type conversion)\n",
    "\n",
    "'''"
   ]
  },
  {
   "cell_type": "code",
   "execution_count": 96,
   "id": "cb611759",
   "metadata": {},
   "outputs": [
    {
     "name": "stdout",
     "output_type": "stream",
     "text": [
      "6 <class 'int'>\n"
     ]
    }
   ],
   "source": [
    "# value assign\n",
    "a = 6\n",
    "b = a\n",
    "print(b,type(b))"
   ]
  },
  {
   "cell_type": "code",
   "execution_count": 97,
   "id": "36b63d76",
   "metadata": {},
   "outputs": [
    {
     "name": "stdout",
     "output_type": "stream",
     "text": [
      "10.2 <class 'float'>\n"
     ]
    }
   ],
   "source": [
    "#Python Casting:- We can change int into float, float into int\n",
    "\n",
    "a = 10.2\n",
    "print(a,type(a))"
   ]
  },
  {
   "cell_type": "code",
   "execution_count": 98,
   "id": "7c3599ce",
   "metadata": {},
   "outputs": [
    {
     "name": "stdout",
     "output_type": "stream",
     "text": [
      "10.2 <class 'float'>\n"
     ]
    }
   ],
   "source": [
    "b = float(a)\n",
    "print(b,type(b)) "
   ]
  },
  {
   "cell_type": "code",
   "execution_count": 99,
   "id": "4034f53c",
   "metadata": {},
   "outputs": [
    {
     "name": "stdout",
     "output_type": "stream",
     "text": [
      "12.0 <class 'float'>\n"
     ]
    }
   ],
   "source": [
    "a = 12.0\n",
    "print(a,type(a))"
   ]
  },
  {
   "cell_type": "code",
   "execution_count": 100,
   "id": "90075a6a",
   "metadata": {},
   "outputs": [
    {
     "name": "stdout",
     "output_type": "stream",
     "text": [
      "12 <class 'int'>\n"
     ]
    }
   ],
   "source": [
    "b = int(a)\n",
    "print(b,type(b)) "
   ]
  },
  {
   "cell_type": "markdown",
   "id": "314d3598",
   "metadata": {},
   "source": [
    "## Operators:- "
   ]
  },
  {
   "cell_type": "raw",
   "id": "998689f5",
   "metadata": {},
   "source": [
    "'''\n",
    "Operators:- \n",
    "        Operators are special symbols in Python that carry out arithmetic or logical computation. \n",
    "        The value that the operator operates on is called the operand.\n",
    "    1. Arithmetic\n",
    "    2. Comparison\n",
    "    3. Logical\n",
    "    4. Special operators :- 1) Identity operators\n",
    "                            2) Membership operators\n",
    "    5. Assignment operators:- \n",
    "'''"
   ]
  },
  {
   "cell_type": "raw",
   "id": "39b5cefe",
   "metadata": {},
   "source": [
    "'''\n",
    "1) Arithmetic Operators :-\n",
    "    Operator\tOperation\t    Description\t\n",
    "    +\t    Addition\t    Adds values on either side of the operator.\t\n",
    "    -\t    Subtraction\t    Subtracts right hand operand from left hand operand.\t\n",
    "    *\t    Multiplication\tMultiplies values on either side of the operator\t\n",
    "    /\t    Division\t    Divides left hand operand by right hand operand\t\n",
    "    %\t    Modulus\t        Divides left hand operand by right hand operand and returns remainder\t\n",
    "    **\t    Exponent    \tPerforms exponential (power) calculation on operators\t\n",
    "    //\t    Floor Division\tThe division of operands where the result is the quotient in which\n",
    "                            the digits after the decimal point are removed. \n",
    "'''"
   ]
  },
  {
   "cell_type": "code",
   "execution_count": 101,
   "id": "4ce4c1a2",
   "metadata": {},
   "outputs": [
    {
     "name": "stdout",
     "output_type": "stream",
     "text": [
      "12\n",
      "8\n",
      "20\n",
      "5.0\n"
     ]
    }
   ],
   "source": [
    "a = 10\n",
    "b = 2 \n",
    "print(a + b) # Addition\n",
    "print(a - b) # Subtraction\t\n",
    "print(a * b) # Multiplication\t\n",
    "print(a / b) #Division"
   ]
  },
  {
   "cell_type": "code",
   "execution_count": 102,
   "id": "f4b3948e",
   "metadata": {},
   "outputs": [
    {
     "name": "stdout",
     "output_type": "stream",
     "text": [
      "0\n",
      "1\n"
     ]
    }
   ],
   "source": [
    "# Modulus \n",
    "a = 10\n",
    "b = 2 \n",
    "c = 3\n",
    "print(a%b) # Remainder is 0\n",
    "print(a%c) # Remainder is 1"
   ]
  },
  {
   "cell_type": "code",
   "execution_count": 103,
   "id": "63b6a625",
   "metadata": {},
   "outputs": [
    {
     "name": "stdout",
     "output_type": "stream",
     "text": [
      "16\n",
      "16\n",
      "floor\n"
     ]
    }
   ],
   "source": [
    "# Exponent\n",
    "a = 2\n",
    "b = 4\n",
    "print(a**b)\n",
    "print(a*a*a*a)\n",
    "print(\"floor\")"
   ]
  },
  {
   "cell_type": "code",
   "execution_count": 104,
   "id": "2343340f",
   "metadata": {},
   "outputs": [
    {
     "name": "stdout",
     "output_type": "stream",
     "text": [
      "10\n"
     ]
    }
   ],
   "source": [
    "# Floor Division (after decimal we remove)\n",
    "a = 32\n",
    "b = 3\n",
    "print(a//b)"
   ]
  },
  {
   "cell_type": "code",
   "execution_count": 105,
   "id": "37172413",
   "metadata": {},
   "outputs": [
    {
     "name": "stdout",
     "output_type": "stream",
     "text": [
      "x + y = 19\n",
      "x - y = 11\n",
      "x * y = 60\n",
      "x / y = 3.75\n",
      "x // y = 3\n",
      "x ** y = 50625\n"
     ]
    }
   ],
   "source": [
    "x = 15\n",
    "y = 4\n",
    "print('x + y =',x+y)\n",
    "print('x - y =',x-y)\n",
    "print('x * y =',x*y)\n",
    "print('x / y =',x/y)\n",
    "print('x // y =',x//y)\n",
    "print('x ** y =',x**y)"
   ]
  },
  {
   "cell_type": "raw",
   "id": "6f2972c7",
   "metadata": {},
   "source": [
    "\n",
    "2) Comparison operators:-\n",
    "\n",
    "    Operator\t    Description\t\n",
    "    ==\t        If the values of two operands are equal, then the condition becomes true.\t\n",
    "    !=\t        If values of two operands are not equal, then condition becomes true.\n",
    "    >\t        If the value of left operand is greater than the value of right operand, then condition becomes true.\t\n",
    "    <\t        If the value of left operand is less than the value of right operand, then condition becomes true.\t\n",
    "    >=\t        If the value of left operand is greater than or equal to the value of right operand, then condition becomes true.\t\n",
    "    <=\t        If the value of left operand is less than or equal to the value of right operand, then condition becomes true.\n"
   ]
  },
  {
   "cell_type": "code",
   "execution_count": 106,
   "id": "d8016be8",
   "metadata": {},
   "outputs": [
    {
     "name": "stdout",
     "output_type": "stream",
     "text": [
      "False\n",
      "True\n",
      "True\n",
      "False\n",
      "True\n",
      "False\n"
     ]
    }
   ],
   "source": [
    "a = 55\n",
    "b = 45\n",
    "print(a == b) # False\n",
    "print(a != b) # True\n",
    "print(a > b) # True\n",
    "print(a < b) #False\n",
    "print(a >= b) #True\n",
    "print(a <= b) #False"
   ]
  },
  {
   "cell_type": "code",
   "execution_count": 107,
   "id": "fe4bad4b",
   "metadata": {},
   "outputs": [
    {
     "name": "stdout",
     "output_type": "stream",
     "text": [
      "Is x greater than y :-  False\n",
      "Is x less than y :-  True\n",
      "Is x equal to y :-  False\n",
      "Is x not equal to y :-  True\n",
      "Is x greater than or equal to y :-  False\n",
      "Is x less than or equal to y :-  True\n"
     ]
    }
   ],
   "source": [
    "x = 20\n",
    "y = 30\n",
    "print('Is x greater than y :- ',x>y)\n",
    "print('Is x less than y :- ',x<y)\n",
    "print('Is x equal to y :- ',x==y)\n",
    "print('Is x not equal to y :- ',x!=y)\n",
    "print('Is x greater than or equal to y :- ',x>=y)\n",
    "print('Is x less than or equal to y :- ',x<=y)"
   ]
  },
  {
   "cell_type": "code",
   "execution_count": 108,
   "id": "1c2873d3",
   "metadata": {},
   "outputs": [
    {
     "name": "stdout",
     "output_type": "stream",
     "text": [
      "x > y is False\n",
      "x < y is True\n",
      "x == y is False\n",
      "x != y is True\n",
      "x >= y is False\n",
      "x <= y is True\n"
     ]
    }
   ],
   "source": [
    "x = 10\n",
    "y = 12\n",
    "print('x > y is',x>y)\n",
    "print('x < y is',x<y)\n",
    "print('x == y is',x==y)\n",
    "print('x != y is',x!=y)\n",
    "print('x >= y is',x>=y)\n",
    "print('x <= y is',x<=y)"
   ]
  },
  {
   "cell_type": "raw",
   "id": "ff7b077d",
   "metadata": {},
   "source": [
    "3) Logical Operator :-\n",
    "\n",
    "    Operator\t             Description\t\n",
    "    and   Logical AND\t    If both the operands are true then condition becomes true.\t(a and b) is true.\n",
    "    or    Logical OR\t    If any of the two operands are non-zero then condition becomes true. (a or b) is true.\n",
    "    not   Logical NOT\t    Used to reverse the logical state of its operand."
   ]
  },
  {
   "cell_type": "code",
   "execution_count": 109,
   "id": "e192d9c7",
   "metadata": {},
   "outputs": [
    {
     "name": "stdout",
     "output_type": "stream",
     "text": [
      "Logical AND operation :-  False\n",
      "Logical OR operation :-  True\n",
      "NOT operation :-  False\n"
     ]
    }
   ],
   "source": [
    "x = True\n",
    "y = False\n",
    "print('Logical AND operation :- ',x and y) # True if both values are true\n",
    "print('Logical OR operation :- ',x or y) # True if either of the values is true\n",
    "print('NOT operation :- ',not x ) # True if operand is false"
   ]
  },
  {
   "cell_type": "raw",
   "id": "d6a9b5b1",
   "metadata": {},
   "source": [
    "# and\n",
    "# True  and  True  ==> True\n",
    "# False and  True  ==> False\n",
    "# True  and  False ==> False\n",
    "# False and  False ==> False"
   ]
  },
  {
   "cell_type": "code",
   "execution_count": 110,
   "id": "10ee1b0c",
   "metadata": {},
   "outputs": [
    {
     "name": "stdout",
     "output_type": "stream",
     "text": [
      "True\n",
      "False\n",
      "False\n",
      "False\n"
     ]
    }
   ],
   "source": [
    "print(12 < 13 and 7 == 7)   # True\n",
    "print(12 >= 13 and 7 != 6)  # False\n",
    "print(12 == 11 and 7 == 8)  # False\n",
    "print(12 > 11 and 7 == 8)   #False"
   ]
  },
  {
   "cell_type": "raw",
   "id": "24178bd0",
   "metadata": {},
   "source": [
    "#or\n",
    "\n",
    "# True  or  True  ==> True\n",
    "# False or  True  ==> True\n",
    "# True  or  False ==> True\n",
    "# False or  False ==> False"
   ]
  },
  {
   "cell_type": "code",
   "execution_count": 111,
   "id": "e875f646",
   "metadata": {},
   "outputs": [
    {
     "name": "stdout",
     "output_type": "stream",
     "text": [
      "True\n",
      "True\n",
      "False\n",
      "True\n"
     ]
    }
   ],
   "source": [
    "print(12 < 13 or 7 == 7)    # True\n",
    "print(12 >= 13 or 7 != 6)   # True\n",
    "print(12 == 11 or 7 == 8)   # False\n",
    "print(12 > 11 or 7 == 8)    # True"
   ]
  },
  {
   "cell_type": "raw",
   "id": "f2f66afb",
   "metadata": {},
   "source": [
    "# not \n",
    "\n",
    "#True ==> False\n",
    "#False ==> True "
   ]
  },
  {
   "cell_type": "code",
   "execution_count": 112,
   "id": "f1dbc97d",
   "metadata": {},
   "outputs": [
    {
     "name": "stdout",
     "output_type": "stream",
     "text": [
      "False\n",
      "True\n",
      "False\n"
     ]
    }
   ],
   "source": [
    "print(not True)\n",
    "print(not False)\n",
    "print(not 8==8)"
   ]
  },
  {
   "cell_type": "raw",
   "id": "2c0dec7d",
   "metadata": {},
   "source": [
    "There are two built-in functions for multiple condition\n",
    "\n",
    "all() :- True if all True otherwise False\n",
    "any() :- True if at least one is True\n",
    "\n",
    "The all() function returns True if all elements in the iterable are truthy (i.e., non-zero, non-empty, or True), or False if at least one element is falsy (i.e., zero, empty, or False)"
   ]
  },
  {
   "cell_type": "code",
   "execution_count": 113,
   "id": "65e4f3d1",
   "metadata": {},
   "outputs": [
    {
     "data": {
      "text/plain": [
       "True"
      ]
     },
     "execution_count": 113,
     "metadata": {},
     "output_type": "execute_result"
    }
   ],
   "source": [
    "all((12 < 13 , 7 == 7,12 <= 13 , 7 != 6)) "
   ]
  },
  {
   "cell_type": "code",
   "execution_count": 114,
   "id": "66b0695a",
   "metadata": {},
   "outputs": [
    {
     "data": {
      "text/plain": [
       "False"
      ]
     },
     "execution_count": 114,
     "metadata": {},
     "output_type": "execute_result"
    }
   ],
   "source": [
    "all((12 < 13 , 7 == 7,12 <= 13 , 7 != 6 , 0))   #why?"
   ]
  },
  {
   "cell_type": "code",
   "execution_count": 115,
   "id": "7593de80",
   "metadata": {},
   "outputs": [
    {
     "data": {
      "text/plain": [
       "False"
      ]
     },
     "execution_count": 115,
     "metadata": {},
     "output_type": "execute_result"
    }
   ],
   "source": [
    "bool(0)"
   ]
  },
  {
   "cell_type": "code",
   "execution_count": 116,
   "id": "b45e2064",
   "metadata": {},
   "outputs": [
    {
     "data": {
      "text/plain": [
       "True"
      ]
     },
     "execution_count": 116,
     "metadata": {},
     "output_type": "execute_result"
    }
   ],
   "source": [
    "bool(1)"
   ]
  },
  {
   "cell_type": "code",
   "execution_count": 117,
   "id": "47a1bf56",
   "metadata": {},
   "outputs": [
    {
     "data": {
      "text/plain": [
       "False"
      ]
     },
     "execution_count": 117,
     "metadata": {},
     "output_type": "execute_result"
    }
   ],
   "source": [
    "bool()"
   ]
  },
  {
   "cell_type": "code",
   "execution_count": 118,
   "id": "8d7264f6",
   "metadata": {},
   "outputs": [
    {
     "data": {
      "text/plain": [
       "True"
      ]
     },
     "execution_count": 118,
     "metadata": {},
     "output_type": "execute_result"
    }
   ],
   "source": [
    "bool(-100)"
   ]
  },
  {
   "cell_type": "code",
   "execution_count": 119,
   "id": "dd9e5092",
   "metadata": {},
   "outputs": [
    {
     "data": {
      "text/plain": [
       "True"
      ]
     },
     "execution_count": 119,
     "metadata": {},
     "output_type": "execute_result"
    }
   ],
   "source": [
    "any((12 < 13 , 7 == 7,12 <= 13 , 7 != 6 , 0))"
   ]
  },
  {
   "cell_type": "markdown",
   "id": "944839d6",
   "metadata": {},
   "source": [
    "## 4) Special operators"
   ]
  },
  {
   "cell_type": "raw",
   "id": "bfacee65",
   "metadata": {},
   "source": [
    "4) Special operators :- 1) Identity operators\n",
    "                        2) Membership operators"
   ]
  },
  {
   "cell_type": "raw",
   "id": "d29985ac",
   "metadata": {},
   "source": [
    "1) Identity operators\n",
    "\n",
    "    Operator\tDescription\t\n",
    "      is \t    Returns true if both variables are the same object\t\n",
    "     is not  \tReturns true if both variables are not the same object"
   ]
  },
  {
   "cell_type": "code",
   "execution_count": 120,
   "id": "f4322937",
   "metadata": {},
   "outputs": [],
   "source": [
    "# eg\n",
    "x = 10\n",
    "y = 11 \n",
    "z = 10"
   ]
  },
  {
   "cell_type": "code",
   "execution_count": 121,
   "id": "b90586ad",
   "metadata": {},
   "outputs": [
    {
     "name": "stdout",
     "output_type": "stream",
     "text": [
      "2856824236624\n",
      "2856824236656\n",
      "2856824236624\n"
     ]
    }
   ],
   "source": [
    "print(id(x))\n",
    "print(id(y))\n",
    "print(id(z))"
   ]
  },
  {
   "cell_type": "code",
   "execution_count": 122,
   "id": "a8cc6ddb",
   "metadata": {},
   "outputs": [
    {
     "name": "stdout",
     "output_type": "stream",
     "text": [
      "False\n",
      "True\n"
     ]
    }
   ],
   "source": [
    "print(x is y) \n",
    "print(x is z) "
   ]
  },
  {
   "cell_type": "code",
   "execution_count": 123,
   "id": "825883e5",
   "metadata": {},
   "outputs": [],
   "source": [
    "# eg\n",
    "x = 555\n",
    "y = 555 \n",
    "z = 300"
   ]
  },
  {
   "cell_type": "code",
   "execution_count": 124,
   "id": "d4d4d85e",
   "metadata": {},
   "outputs": [
    {
     "name": "stdout",
     "output_type": "stream",
     "text": [
      "2856939811440\n",
      "2856939811664\n",
      "2856939810960\n"
     ]
    }
   ],
   "source": [
    "print(id(x))\n",
    "print(id(y))\n",
    "print(id(z))"
   ]
  },
  {
   "cell_type": "code",
   "execution_count": 125,
   "id": "38992ddc",
   "metadata": {},
   "outputs": [
    {
     "name": "stdout",
     "output_type": "stream",
     "text": [
      "False\n",
      "False\n"
     ]
    }
   ],
   "source": [
    "print(x is y) \n",
    "print(x is z) "
   ]
  },
  {
   "cell_type": "raw",
   "id": "7301a078",
   "metadata": {},
   "source": [
    "\"\"\"\n",
    "2) Membership Operator\n",
    "\n",
    "    Operator\t   Description\t\n",
    "      in\t        Evaluates to true if it finds a variable in the specified sequence and false otherwise.\n",
    "      not in\t    Evaluates to true if it does not finds a variable in the specified sequence and false otherwise.\n",
    "\"\"\""
   ]
  },
  {
   "cell_type": "code",
   "execution_count": 126,
   "id": "468b1f3d",
   "metadata": {},
   "outputs": [
    {
     "name": "stdout",
     "output_type": "stream",
     "text": [
      "True\n",
      "False\n",
      "True\n"
     ]
    }
   ],
   "source": [
    "a = 'h'\n",
    "b = 'hello'\n",
    "c = 'world'\n",
    "print(a in b)\n",
    "print(a in c)\n",
    "print(a not in c)"
   ]
  },
  {
   "cell_type": "markdown",
   "id": "64e5371d",
   "metadata": {},
   "source": [
    "## 5) Assignment operators"
   ]
  },
  {
   "cell_type": "raw",
   "id": "e59ec376",
   "metadata": {},
   "source": [
    "'''\n",
    "5) Assignment operators:-\n",
    "\n",
    "        Operator\t    Description\t                                                            \n",
    "    =\t                Assigns values from right side operands to left side operand\t\n",
    "    +=  Add AND\t        It adds right operand to the left operand and assign the result to left operand\t\n",
    "    -=  Subtract AND\tIt subtracts right operand from the left operand and assign the result to left operand\t\n",
    "    *=  Multiply AND\tIt multiplies right operand with the left operand and assign the result to left operand\t\n",
    "    /=  Divide AND\t    It divides left operand with the right operand and assign the result to left operand\t\n",
    "    %=  Modulus AND\t    It takes modulus using two operands and assign the result to left operand\tc %= a is equivalent to \n",
    "    **=  Exponent AND\tPerforms exponential (power) calculation on operators and assign value to the left operand\t\n",
    "    //=  Floor Division\tIt performs floor division on operators and assign value to the left operand\n",
    "'''\t"
   ]
  },
  {
   "cell_type": "code",
   "execution_count": 127,
   "id": "4d243b16",
   "metadata": {},
   "outputs": [
    {
     "name": "stdout",
     "output_type": "stream",
     "text": [
      "7\n",
      "4\n",
      "8\n",
      "64\n",
      "32.0\n",
      "16.0\n",
      "0.0\n"
     ]
    }
   ],
   "source": [
    "# eg.\n",
    "z=5\n",
    "z+=2\n",
    "print(z)\n",
    "z-=3\n",
    "print(z)\n",
    "z*=2\n",
    "print(z)\n",
    "z**=2\n",
    "print(z)\n",
    "z/=2\n",
    "print(z)\n",
    "z//=2\n",
    "print(z)\n",
    "z%=2\n",
    "print(z)"
   ]
  },
  {
   "cell_type": "code",
   "execution_count": 128,
   "id": "5e59a65c",
   "metadata": {},
   "outputs": [
    {
     "name": "stdout",
     "output_type": "stream",
     "text": [
      "2\n",
      "3\n",
      "4\n",
      "1\n",
      "2\n",
      "1.0\n",
      "0\n",
      "4\n",
      "2\n"
     ]
    }
   ],
   "source": [
    "# eg.\n",
    "a = 2\n",
    "b = 2\n",
    "c = 10\n",
    "print(a)\n",
    "a = 3\n",
    "print(a)\n",
    "a +=1\n",
    "print(a)\n",
    "b -= 1\n",
    "print(b)\n",
    "b *= 2\n",
    "print(b)\n",
    "b /= 2\n",
    "print(b)\n",
    "c %= 2\n",
    "print(c)\n",
    "c +=2\n",
    "c **=2\n",
    "print(c)\n",
    "c //=2\n",
    "print(c)"
   ]
  },
  {
   "cell_type": "code",
   "execution_count": 129,
   "id": "fc8a41b8",
   "metadata": {},
   "outputs": [
    {
     "name": "stdout",
     "output_type": "stream",
     "text": [
      "Ganesh\n",
      "6\n",
      "<class 'str'>\n",
      "\n",
      "My\n",
      "Name\n",
      "Is\n",
      "Ganesh\n",
      "\n",
      "<class 'str'>\n",
      "19\n",
      "\n",
      "\n",
      "M\n",
      "y\n",
      "\n",
      "\n",
      "N\n",
      "a\n",
      "m\n",
      "e\n",
      "\n",
      "\n",
      "I\n",
      "s\n",
      "\n",
      "\n",
      "G\n",
      "a\n",
      "n\n",
      "e\n",
      "s\n",
      "h\n",
      "\n",
      "\n",
      "8\n",
      "M\n",
      "i\n",
      "n\n",
      "s\n",
      "k\n",
      "o\n",
      "l\n",
      "e\n",
      "------Indexing---------\n",
      "M\n",
      "s\n",
      "e\n",
      "M\n",
      "s\n",
      "e\n",
      "This is python class for fullstack developement.\n",
      "<class 'str'>\n",
      "48\n",
      "------Indexing---------\n",
      "i\n",
      "y\n",
      "------Slicing---------\n",
      "python\n",
      "class\n",
      "This is python class for fullstack developement.\n",
      "Python\n",
      "<class 'str'>\n",
      "6\n",
      "Python\n",
      "Python\n",
      "Pto\n",
      "yhn\n",
      "Ph\n",
      "Python\n",
      "nohtyP\n",
      "Python Class\n",
      "Python Class\n",
      "PythonPythonPython\n",
      "Hi Good Morning\n",
      "Five 5\n",
      "PYTHON CLASS\n",
      "nagpur\n",
      "True\n",
      "True\n",
      "Raipur\n",
      "True\n",
      "True\n",
      "1\n",
      "2\n",
      "I am learning python\n",
      "6\n",
      "amol\n",
      "4\n",
      "['chinmaydeshpande010', 'gmail.com']\n",
      "['chinm', 'ydeshp', 'nde010@gm', 'il.com']\n",
      "['chinmay', 'eshpan', 'e010@gmail.com']\n",
      "['ganeshgkachare', 'gmail.com']\n"
     ]
    }
   ],
   "source": [
    "'''\n",
    "String\n",
    "\n",
    "Strings are one of the fundamental Python data types.\n",
    "It is text or words or sentence in quotation mark (single or double). \n",
    "Strings are used to represent text.\n",
    "\n",
    "properties:\n",
    "1. Strings contain individual letters or symbols called characters.\n",
    "2. Characters in a string appear in a sequence, which means that each character has a numbered position in the string.\n",
    "'''\n",
    "# Here we assign Ganesh value to my_name variable\n",
    "my_name = \"Ganesh\"\n",
    "print(my_name)\n",
    "print(len(my_name))\n",
    "print(type(my_name))\n",
    "\n",
    "# Multiline Strings :- You can assign a multiline string to a variable by using three quotes\n",
    "\n",
    "a = '''\n",
    "My\n",
    "Name\n",
    "Is\n",
    "Ganesh\n",
    "'''\n",
    "print(a)\n",
    "print(type(a))\n",
    "print(len(a))\n",
    "\n",
    "\n",
    "# Looping Through a String\n",
    "for i in a:\n",
    "    print(i)\n",
    "\n",
    "\n",
    "'''\n",
    "Indexing :-\n",
    "\n",
    "    Indexing means referring to an element of an iterable by its position within the iterable. Each of a string’s characters corresponds to an index number and each character can be accessed using its index number. We can access characters in a String in Two ways :\n",
    "\n",
    "    1) Accessing Characters by Positive Index Number\n",
    "    2) Accessing Characters by Negative Index Number\n",
    "'''\n",
    "\n",
    "Institute = \"Minskole\"\n",
    "print(len(Institute))\n",
    "for i in Institute:\n",
    "    print(i)\n",
    "\n",
    "\n",
    "\n",
    "'''\n",
    "\n",
    "1) Accessing Characters by Positive Index Number:\n",
    "   We pass a Positive index(which we want to access) in square brackets.\n",
    " The index number starts from index number 0 (which denotes the first character of a string).\n",
    "\n",
    "\n",
    "2) Accessing Characters by Negative Index Number: \n",
    "    We pass the Negative index(which we want to access) in square brackets. \n",
    "    Here the index number starts from index number -1 (which denotes the last character of a string).\n",
    "\n",
    "\n",
    "    0   1   2   3   4   5   6   7   ====>  Positive Index Number\n",
    "    M   i   n   s   k   o   l   e   ====>  String\n",
    "    -8  -7  -6  -5  -4  -3  -2  -1  ====>  Negative Index Number\n",
    "\n",
    "'''\n",
    "print(\"------Indexing---------\")\n",
    "\n",
    "#Positive Index Number\n",
    "\n",
    "print(Institute[0])     #First element\n",
    "print(Institute[3])     \n",
    "print(Institute[7])     \n",
    "# print(Institute[9])   #IndexError :- string index out of range\n",
    "\n",
    "# Negative Index Number\n",
    "\n",
    "print(Institute[-8])     \n",
    "print(Institute[-5])     \n",
    "print(Institute[-1])    #Last element\n",
    "\n",
    "\n",
    "'''\n",
    "Slicing :-\n",
    "\n",
    "    Slicing in Python is a feature that enables accessing parts of the sequence. \n",
    "    We use slicing when we require a part of the string and not the complete string.\n",
    "    \n",
    "Syntax :\n",
    "        string[start : end : step]\n",
    "\n",
    "    start : We provide the starting index.\n",
    "    end : We provide the end index(this is not included in substring).\n",
    "    step : It is an optional argument that determines the increment between each index for slicing.\n",
    "\n",
    "'''\n",
    "string = \"This is python class for fullstack developement.\"\n",
    "print(string)\n",
    "print(type(string))\n",
    "print(len(string))\n",
    "\n",
    "print(\"------Indexing---------\")\n",
    "print(string[5])     # i\n",
    "print(string[9])     # y\n",
    "\n",
    "print(\"------Slicing---------\")\n",
    "print(string[8:14])     # python\n",
    "print(string[15:20])    # class\n",
    "print(string[:])        # Full string\n",
    "\n",
    "str2 = \"Python\"\n",
    "print(str2)\n",
    "print(type(str2))\n",
    "print(len(str2))\n",
    "print(str2[0:]) \n",
    "print(str2[0:6]) \n",
    "print(str2[0:6:2]) \n",
    "print(str2[1:6:2]) \n",
    "print(str2[0:6:3]) \n",
    "print(str2[:])      # Full string\n",
    "print(str2[::-1])   # Reverse string\n",
    "\n",
    "str2 = \"Python\"\n",
    "# str2[0] = \"A\"  #TypeError :-'str' object does not support item assignment\n",
    "#String is immutable\n",
    "\n",
    "#String Concatenation :-\n",
    "str2 = \"Python\"\n",
    "str3 = \" Class\"\n",
    "str4 = str2 + str3  \n",
    "print(str4)\n",
    "print(str4)\n",
    "\n",
    "#String Repetation:-\n",
    "str2 = \"Python\"\n",
    "str5 = str2 * 3\n",
    "print(str5)\n",
    "\n",
    "print(\"Hi\" + \" Good\" + \" Morning\")\n",
    "# print(\"Five\" + 5)   #TypeError :- can only concatenate str (not \"int\") to str\n",
    "print(\"Five \" + '5')\n",
    "\n",
    "\"\"\"\n",
    "string + string   ===> string\n",
    "string + int      ===> Error\n",
    "string + str(int) ===> string\n",
    "\n",
    "\"\"\"\n",
    "\"\"\"\n",
    " String Methods :-\n",
    "\n",
    " syntax:-\n",
    "        stringVariableName.method()\n",
    "\"\"\"\n",
    "String = \"Python class\"\n",
    "# isalnum() \n",
    "# Returns True if all characters in the string are alphanumeric\n",
    "str1 = String.isalnum() \n",
    "\n",
    "# isalnum()\n",
    "# Returns True if all characters in the string are alphabet\n",
    "str1 = String.isalnum() \n",
    "\n",
    "# isalpha()\n",
    "# Returns True if all characters in the string are decimals\n",
    "str1 = String.isalnum() \n",
    "\n",
    "# isdecimal()\n",
    "# Returns True if all characters in the string are digits\n",
    "str1 = String.isalnum() \n",
    "\n",
    "# isdigit()\n",
    "# Returns True if all characters in the string are lower case\n",
    "\n",
    "# islower()\n",
    "# Returns True if all characters in the string are whitespaces\n",
    "\n",
    "# isspace()\n",
    "\n",
    "# isupper() \n",
    "# Returns True if all characters in the string are upper case\n",
    "\n",
    "# lower() \n",
    "# Converts a string into lower case\n",
    "\n",
    "# upper() \n",
    "# Converts a string into upper case\n",
    "\n",
    "# strip() \n",
    "# It removes leading and trailing spaces in the string\n",
    "\n",
    "\n",
    "\n",
    "\n",
    "\n",
    "\n",
    "\n",
    "\n",
    "\n",
    "# upper()\n",
    "\n",
    "String = \"Python class\"\n",
    "b1 = String.upper()\n",
    "print(b1)\n",
    "\n",
    "#lower()\n",
    "a2 = \"Nagpur\"\n",
    "b2 = a2.lower()\n",
    "print(b2)\n",
    "\n",
    "#isupper()\n",
    "a3 = \"JAIPUR\"\n",
    "b3 = a3.isupper()\n",
    "print(b3)\n",
    "\n",
    "#islower()\n",
    "a4 = \"wardha\"\n",
    "b4 = a4.islower()\n",
    "print(b4)\n",
    "\n",
    "#capitalize()\n",
    "\n",
    "a5 = \"raipur\"\n",
    "b5 = a5.capitalize()\n",
    "print(b5)\n",
    "\n",
    "# startswith()\n",
    "\n",
    "a6 = \"delhi\"\n",
    "b6 = a6.startswith(\"de\")\n",
    "print(b6)\n",
    "\n",
    "#endswith()\n",
    "\n",
    "a7 = \"akola\"\n",
    "b7 = a7.endswith(\"la\")\n",
    "print(b7)\n",
    "\n",
    "#index()\n",
    "\n",
    "a8 = \"goa\"\n",
    "b8 = a8.index(\"o\")\n",
    "print(b8)\n",
    "\n",
    "#count()\n",
    "\n",
    "a9 = \"abhisha\"\n",
    "b9 = a9.count('a')\n",
    "print(b9)\n",
    "\n",
    "#replace()\n",
    "a10 = \"I am learning javascript\"\n",
    "b10 = a10.replace('javascript','python')\n",
    "print(b10)\n",
    "\n",
    "# strip\n",
    "\n",
    "a11 = \" amol \"\n",
    "print(len(a11))\n",
    "\n",
    "b11 = a11.strip()\n",
    "print(b11)\n",
    "print(len(b11))\n",
    "\n",
    "# split()\n",
    "#   Splits the string at the specified separator, and returns a list\n",
    "\n",
    "print(\"chinmaydeshpande010@gmail.com\".split('@'))\n",
    "print(\"chinmaydeshpande010@gmail.com\".split('a'))\n",
    "print(\"chinmaydeshpande010@gmail.com\".split('d'))\n",
    "\n",
    "\n",
    "email=\"ganeshgkachare@gmail.com\"\n",
    "print(email.split(\"@\"))"
   ]
  },
  {
   "cell_type": "code",
   "execution_count": 130,
   "id": "1f907cbe",
   "metadata": {},
   "outputs": [
    {
     "data": {
      "text/plain": [
       "'dATA SCIENCE mASTERS'"
      ]
     },
     "execution_count": 130,
     "metadata": {},
     "output_type": "execute_result"
    }
   ],
   "source": [
    "name=\"Data science Masters\"\n",
    "name.swapcase()"
   ]
  },
  {
   "cell_type": "code",
   "execution_count": 131,
   "id": "f9f366f9",
   "metadata": {},
   "outputs": [
    {
     "data": {
      "text/plain": [
       "'Data Science Masters'"
      ]
     },
     "execution_count": 131,
     "metadata": {},
     "output_type": "execute_result"
    }
   ],
   "source": [
    "name.title()"
   ]
  },
  {
   "cell_type": "code",
   "execution_count": 132,
   "id": "2c7253de",
   "metadata": {},
   "outputs": [
    {
     "data": {
      "text/plain": [
       "'Data science masters'"
      ]
     },
     "execution_count": 132,
     "metadata": {},
     "output_type": "execute_result"
    }
   ],
   "source": [
    "name.capitalize()"
   ]
  },
  {
   "cell_type": "markdown",
   "id": "c3a098ff",
   "metadata": {},
   "source": [
    "## Reversing a String"
   ]
  },
  {
   "cell_type": "code",
   "execution_count": 133,
   "id": "f5f6c4c2",
   "metadata": {},
   "outputs": [
    {
     "data": {
      "text/plain": [
       "'sretsaM ecneics ataD'"
      ]
     },
     "execution_count": 133,
     "metadata": {},
     "output_type": "execute_result"
    }
   ],
   "source": [
    "name[::-1]"
   ]
  },
  {
   "cell_type": "code",
   "execution_count": null,
   "id": "c77bd204",
   "metadata": {},
   "outputs": [],
   "source": []
  },
  {
   "cell_type": "code",
   "execution_count": null,
   "id": "7aea5af5",
   "metadata": {},
   "outputs": [],
   "source": []
  },
  {
   "cell_type": "code",
   "execution_count": 134,
   "id": "c2468476",
   "metadata": {},
   "outputs": [
    {
     "data": {
      "text/plain": [
       "'test gmail.com'"
      ]
     },
     "execution_count": 134,
     "metadata": {},
     "output_type": "execute_result"
    }
   ],
   "source": [
    "string_n=\"test@gmail.com\"\n",
    "var_a=string_n.replace(\"@\",\" \")\n",
    "var_a"
   ]
  },
  {
   "cell_type": "code",
   "execution_count": null,
   "id": "c0ff1e9d",
   "metadata": {},
   "outputs": [],
   "source": []
  },
  {
   "cell_type": "code",
   "execution_count": 135,
   "id": "b58ef2b3",
   "metadata": {},
   "outputs": [
    {
     "data": {
      "text/plain": [
       "True"
      ]
     },
     "execution_count": 135,
     "metadata": {},
     "output_type": "execute_result"
    }
   ],
   "source": [
    "## check if all the char in string are alphanumeric\n",
    "a=\"abcd1234\"\n",
    "a.isalnum()"
   ]
  },
  {
   "cell_type": "code",
   "execution_count": null,
   "id": "5fd289b6",
   "metadata": {},
   "outputs": [],
   "source": []
  },
  {
   "cell_type": "code",
   "execution_count": null,
   "id": "6688e8d9",
   "metadata": {},
   "outputs": [],
   "source": []
  }
 ],
 "metadata": {
  "kernelspec": {
   "display_name": "Python 3 (ipykernel)",
   "language": "python",
   "name": "python3"
  },
  "language_info": {
   "codemirror_mode": {
    "name": "ipython",
    "version": 3
   },
   "file_extension": ".py",
   "mimetype": "text/x-python",
   "name": "python",
   "nbconvert_exporter": "python",
   "pygments_lexer": "ipython3",
   "version": "3.9.13"
  }
 },
 "nbformat": 4,
 "nbformat_minor": 5
}
